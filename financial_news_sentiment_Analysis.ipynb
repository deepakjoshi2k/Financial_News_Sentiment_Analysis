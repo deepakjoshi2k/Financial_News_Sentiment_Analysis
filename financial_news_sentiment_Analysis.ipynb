{
 "cells": [
  {
   "cell_type": "markdown",
   "metadata": {
    "id": "lC6R4QaV0Ci0"
   },
   "source": [
    "# Sentiment Analysis of Financial News Using NLTK"
   ]
  },
  {
   "cell_type": "markdown",
   "metadata": {
    "id": "Iq7zwt8VJh1Z"
   },
   "source": [
    "We have to predict the sentiment of fiancial news using nltk"
   ]
  },
  {
   "cell_type": "markdown",
   "metadata": {
    "id": "Y6-xhkpm0MqU"
   },
   "source": [
    "#About Dataset\n",
    "\n",
    "This dataset contains 3 csv file\n",
    "\n",
    "cnbc headline   (3080, 3)\n",
    "\n",
    "gaurdian headline   (17800, 2)\n",
    "\n",
    "reuters headline   (32770, 3)\n"
   ]
  },
  {
   "cell_type": "markdown",
   "metadata": {
    "id": "sZRF0xat134_"
   },
   "source": [
    "# Columns Provided in the Dataset\n",
    "\n",
    "cnbc headline\n",
    "1. time\n",
    "2. headlines\n",
    "3. Description\n",
    "\n",
    "gaurdian headline\n",
    "1. time\n",
    "2. headline\n",
    "\n",
    "reuters headline\n",
    "1. time\n",
    "2. headline\n",
    "3. description\n"
   ]
  },
  {
   "cell_type": "code",
   "execution_count": 1,
   "metadata": {
    "colab": {
     "base_uri": "https://localhost:8080/"
    },
    "id": "pE3JktaFgX_s",
    "outputId": "0324e30c-7e6d-47f7-b1e5-2b64046ab02c"
   },
   "outputs": [],
   "source": [
    "# Import all the required libraries \n",
    "\n",
    "import pandas as pd\n",
    "import numpy as np\n",
    "import matplotlib.pyplot as plt\n",
    "import seaborn as sns\n",
    "import warnings\n",
    "warnings.simplefilter(\"ignore\")\n",
    "\n",
    "#import stopwords and text processing libraries\n",
    "from nltk.corpus import stopwords\n"
   ]
  },
  {
   "cell_type": "markdown",
   "metadata": {
    "id": "ijgTOXVu4QvL"
   },
   "source": [
    "# Basic EDA on cnbc_headlines dataset"
   ]
  },
  {
   "cell_type": "code",
   "execution_count": 2,
   "metadata": {
    "id": "EkHTI2fsgX1x"
   },
   "outputs": [],
   "source": [
    "# Read csv file of cnbc headlines using pandas\n",
    "df=pd.read_csv(r\"D:\\Cloudy_DataScience\\PROJECTS\\SentimentAnalysis\\cnbc_headlines.csv\")"
   ]
  },
  {
   "cell_type": "code",
   "execution_count": 3,
   "metadata": {
    "colab": {
     "base_uri": "https://localhost:8080/",
     "height": 202
    },
    "id": "Pel3IRW1gX0_",
    "outputId": "22789c43-1702-4ce5-cfc3-7284f5343c72"
   },
   "outputs": [
    {
     "data": {
      "text/html": [
       "<div>\n",
       "<style scoped>\n",
       "    .dataframe tbody tr th:only-of-type {\n",
       "        vertical-align: middle;\n",
       "    }\n",
       "\n",
       "    .dataframe tbody tr th {\n",
       "        vertical-align: top;\n",
       "    }\n",
       "\n",
       "    .dataframe thead th {\n",
       "        text-align: right;\n",
       "    }\n",
       "</style>\n",
       "<table border=\"1\" class=\"dataframe\">\n",
       "  <thead>\n",
       "    <tr style=\"text-align: right;\">\n",
       "      <th></th>\n",
       "      <th>Headlines</th>\n",
       "      <th>Time</th>\n",
       "      <th>Description</th>\n",
       "    </tr>\n",
       "  </thead>\n",
       "  <tbody>\n",
       "    <tr>\n",
       "      <th>0</th>\n",
       "      <td>Jim Cramer: A better way to invest in the Covi...</td>\n",
       "      <td>7:51  PM ET Fri, 17 July 2020</td>\n",
       "      <td>\"Mad Money\" host Jim Cramer recommended buying...</td>\n",
       "    </tr>\n",
       "    <tr>\n",
       "      <th>1</th>\n",
       "      <td>Cramer's lightning round: I would own Teradyne</td>\n",
       "      <td>7:33  PM ET Fri, 17 July 2020</td>\n",
       "      <td>\"Mad Money\" host Jim Cramer rings the lightnin...</td>\n",
       "    </tr>\n",
       "    <tr>\n",
       "      <th>2</th>\n",
       "      <td>NaN</td>\n",
       "      <td>NaN</td>\n",
       "      <td>NaN</td>\n",
       "    </tr>\n",
       "    <tr>\n",
       "      <th>3</th>\n",
       "      <td>Cramer's week ahead: Big week for earnings, ev...</td>\n",
       "      <td>7:25  PM ET Fri, 17 July 2020</td>\n",
       "      <td>\"We'll pay more for the earnings of the non-Co...</td>\n",
       "    </tr>\n",
       "    <tr>\n",
       "      <th>4</th>\n",
       "      <td>IQ Capital CEO Keith Bliss says tech and healt...</td>\n",
       "      <td>4:24  PM ET Fri, 17 July 2020</td>\n",
       "      <td>Keith Bliss, IQ Capital CEO, joins \"Closing Be...</td>\n",
       "    </tr>\n",
       "  </tbody>\n",
       "</table>\n",
       "</div>"
      ],
      "text/plain": [
       "                                           Headlines  \\\n",
       "0  Jim Cramer: A better way to invest in the Covi...   \n",
       "1     Cramer's lightning round: I would own Teradyne   \n",
       "2                                                NaN   \n",
       "3  Cramer's week ahead: Big week for earnings, ev...   \n",
       "4  IQ Capital CEO Keith Bliss says tech and healt...   \n",
       "\n",
       "                             Time  \\\n",
       "0   7:51  PM ET Fri, 17 July 2020   \n",
       "1   7:33  PM ET Fri, 17 July 2020   \n",
       "2                             NaN   \n",
       "3   7:25  PM ET Fri, 17 July 2020   \n",
       "4   4:24  PM ET Fri, 17 July 2020   \n",
       "\n",
       "                                         Description  \n",
       "0  \"Mad Money\" host Jim Cramer recommended buying...  \n",
       "1  \"Mad Money\" host Jim Cramer rings the lightnin...  \n",
       "2                                                NaN  \n",
       "3  \"We'll pay more for the earnings of the non-Co...  \n",
       "4  Keith Bliss, IQ Capital CEO, joins \"Closing Be...  "
      ]
     },
     "execution_count": 3,
     "metadata": {},
     "output_type": "execute_result"
    }
   ],
   "source": [
    "df.head()"
   ]
  },
  {
   "cell_type": "code",
   "execution_count": 4,
   "metadata": {
    "colab": {
     "base_uri": "https://localhost:8080/"
    },
    "id": "7MY607w2gXxS",
    "outputId": "95607ac5-e89c-4896-e5d1-4268a4d80e25"
   },
   "outputs": [
    {
     "data": {
      "text/plain": [
       "(3080, 3)"
      ]
     },
     "execution_count": 4,
     "metadata": {},
     "output_type": "execute_result"
    }
   ],
   "source": [
    "# check the shape of cnbc headline dataset\n",
    "df.shape"
   ]
  },
  {
   "cell_type": "code",
   "execution_count": 5,
   "metadata": {
    "colab": {
     "base_uri": "https://localhost:8080/"
    },
    "id": "fGyvfk-ZgXwN",
    "outputId": "35c626ac-2781-4549-d4c2-22a9ebf0b2eb"
   },
   "outputs": [
    {
     "data": {
      "text/plain": [
       "Index(['Headlines', 'Time', 'Description'], dtype='object')"
      ]
     },
     "execution_count": 5,
     "metadata": {},
     "output_type": "execute_result"
    }
   ],
   "source": [
    "# Check all the columns in the cnbc headline dataset\n",
    "df.columns"
   ]
  },
  {
   "cell_type": "code",
   "execution_count": 6,
   "metadata": {
    "colab": {
     "base_uri": "https://localhost:8080/"
    },
    "id": "kFiwMd7BgXr4",
    "outputId": "146f358f-19be-4ddc-dc15-3290beb69f5f"
   },
   "outputs": [
    {
     "name": "stdout",
     "output_type": "stream",
     "text": [
      "<class 'pandas.core.frame.DataFrame'>\n",
      "RangeIndex: 3080 entries, 0 to 3079\n",
      "Data columns (total 3 columns):\n",
      " #   Column       Non-Null Count  Dtype \n",
      "---  ------       --------------  ----- \n",
      " 0   Headlines    2800 non-null   object\n",
      " 1   Time         2800 non-null   object\n",
      " 2   Description  2800 non-null   object\n",
      "dtypes: object(3)\n",
      "memory usage: 72.3+ KB\n"
     ]
    }
   ],
   "source": [
    "# Check which columns are having categorical, numerical or boolean values\n",
    "df.info()"
   ]
  },
  {
   "cell_type": "code",
   "execution_count": 7,
   "metadata": {
    "colab": {
     "base_uri": "https://localhost:8080/"
    },
    "id": "oST2tsU9gXrE",
    "outputId": "6f38baa8-1b58-4779-be42-039a2c4e17fc"
   },
   "outputs": [
    {
     "data": {
      "text/plain": [
       "Headlines      280\n",
       "Time           280\n",
       "Description    280\n",
       "dtype: int64"
      ]
     },
     "execution_count": 7,
     "metadata": {},
     "output_type": "execute_result"
    }
   ],
   "source": [
    "# Check for missing values in all the columnns of cnbc headline dataset\n",
    "df.isnull().sum()"
   ]
  },
  {
   "cell_type": "markdown",
   "metadata": {
    "id": "YRLZs_Jg8T3r"
   },
   "source": [
    "There is 280 missing values in headlines, description and time"
   ]
  },
  {
   "cell_type": "code",
   "execution_count": 8,
   "metadata": {
    "id": "PdlYoGUfgXnE"
   },
   "outputs": [],
   "source": [
    " # drop nan values in cnbc headline dataset\n",
    "df=df.dropna()\n",
    "df.reset_index(inplace=True,drop=True)"
   ]
  },
  {
   "cell_type": "code",
   "execution_count": 9,
   "metadata": {
    "colab": {
     "base_uri": "https://localhost:8080/",
     "height": 414
    },
    "id": "cD2J5VmmgXid",
    "outputId": "f2c61222-e741-4732-a2b4-3267b10f70df"
   },
   "outputs": [
    {
     "data": {
      "text/html": [
       "<div>\n",
       "<style scoped>\n",
       "    .dataframe tbody tr th:only-of-type {\n",
       "        vertical-align: middle;\n",
       "    }\n",
       "\n",
       "    .dataframe tbody tr th {\n",
       "        vertical-align: top;\n",
       "    }\n",
       "\n",
       "    .dataframe thead th {\n",
       "        text-align: right;\n",
       "    }\n",
       "</style>\n",
       "<table border=\"1\" class=\"dataframe\">\n",
       "  <thead>\n",
       "    <tr style=\"text-align: right;\">\n",
       "      <th></th>\n",
       "      <th>Headlines</th>\n",
       "      <th>Time</th>\n",
       "      <th>Description</th>\n",
       "    </tr>\n",
       "  </thead>\n",
       "  <tbody>\n",
       "    <tr>\n",
       "      <th>0</th>\n",
       "      <td>Jim Cramer: A better way to invest in the Covi...</td>\n",
       "      <td>7:51  PM ET Fri, 17 July 2020</td>\n",
       "      <td>\"Mad Money\" host Jim Cramer recommended buying...</td>\n",
       "    </tr>\n",
       "    <tr>\n",
       "      <th>1</th>\n",
       "      <td>Cramer's lightning round: I would own Teradyne</td>\n",
       "      <td>7:33  PM ET Fri, 17 July 2020</td>\n",
       "      <td>\"Mad Money\" host Jim Cramer rings the lightnin...</td>\n",
       "    </tr>\n",
       "    <tr>\n",
       "      <th>2</th>\n",
       "      <td>Cramer's week ahead: Big week for earnings, ev...</td>\n",
       "      <td>7:25  PM ET Fri, 17 July 2020</td>\n",
       "      <td>\"We'll pay more for the earnings of the non-Co...</td>\n",
       "    </tr>\n",
       "    <tr>\n",
       "      <th>3</th>\n",
       "      <td>IQ Capital CEO Keith Bliss says tech and healt...</td>\n",
       "      <td>4:24  PM ET Fri, 17 July 2020</td>\n",
       "      <td>Keith Bliss, IQ Capital CEO, joins \"Closing Be...</td>\n",
       "    </tr>\n",
       "    <tr>\n",
       "      <th>4</th>\n",
       "      <td>Wall Street delivered the 'kind of pullback I'...</td>\n",
       "      <td>7:36  PM ET Thu, 16 July 2020</td>\n",
       "      <td>\"Look for the stocks of high-quality companies...</td>\n",
       "    </tr>\n",
       "    <tr>\n",
       "      <th>...</th>\n",
       "      <td>...</td>\n",
       "      <td>...</td>\n",
       "      <td>...</td>\n",
       "    </tr>\n",
       "    <tr>\n",
       "      <th>2795</th>\n",
       "      <td>Markets lack Christmas cheer</td>\n",
       "      <td>10:15  AM ET Tue, 26 Dec 2017</td>\n",
       "      <td>According to Kensho, here's how markets have f...</td>\n",
       "    </tr>\n",
       "    <tr>\n",
       "      <th>2796</th>\n",
       "      <td>Cramer Remix: The biggest mistake you can make...</td>\n",
       "      <td>11:12  AM ET Thu, 20 Sept 2018</td>\n",
       "      <td>Jim Cramer revealed his top rule when it comes...</td>\n",
       "    </tr>\n",
       "    <tr>\n",
       "      <th>2797</th>\n",
       "      <td>Cramer says owning too many stocks and too lit...</td>\n",
       "      <td>7:07  PM ET Fri, 22 Dec 2017</td>\n",
       "      <td>Jim Cramer broke down why owning fewer stocks ...</td>\n",
       "    </tr>\n",
       "    <tr>\n",
       "      <th>2798</th>\n",
       "      <td>Cramer: I helped investors through the 2010 fl...</td>\n",
       "      <td>7:07  PM ET Fri, 22 Dec 2017</td>\n",
       "      <td>Jim Cramer built on his \"nobody ever made a di...</td>\n",
       "    </tr>\n",
       "    <tr>\n",
       "      <th>2799</th>\n",
       "      <td>Cramer: Never buy a stock all at once — you'll...</td>\n",
       "      <td>6:52  PM ET Fri, 22 Dec 2017</td>\n",
       "      <td>Jim Cramer doubled down on his key investing r...</td>\n",
       "    </tr>\n",
       "  </tbody>\n",
       "</table>\n",
       "<p>2800 rows × 3 columns</p>\n",
       "</div>"
      ],
      "text/plain": [
       "                                              Headlines  \\\n",
       "0     Jim Cramer: A better way to invest in the Covi...   \n",
       "1        Cramer's lightning round: I would own Teradyne   \n",
       "2     Cramer's week ahead: Big week for earnings, ev...   \n",
       "3     IQ Capital CEO Keith Bliss says tech and healt...   \n",
       "4     Wall Street delivered the 'kind of pullback I'...   \n",
       "...                                                 ...   \n",
       "2795                       Markets lack Christmas cheer   \n",
       "2796  Cramer Remix: The biggest mistake you can make...   \n",
       "2797  Cramer says owning too many stocks and too lit...   \n",
       "2798  Cramer: I helped investors through the 2010 fl...   \n",
       "2799  Cramer: Never buy a stock all at once — you'll...   \n",
       "\n",
       "                                Time  \\\n",
       "0      7:51  PM ET Fri, 17 July 2020   \n",
       "1      7:33  PM ET Fri, 17 July 2020   \n",
       "2      7:25  PM ET Fri, 17 July 2020   \n",
       "3      4:24  PM ET Fri, 17 July 2020   \n",
       "4      7:36  PM ET Thu, 16 July 2020   \n",
       "...                              ...   \n",
       "2795   10:15  AM ET Tue, 26 Dec 2017   \n",
       "2796  11:12  AM ET Thu, 20 Sept 2018   \n",
       "2797    7:07  PM ET Fri, 22 Dec 2017   \n",
       "2798    7:07  PM ET Fri, 22 Dec 2017   \n",
       "2799    6:52  PM ET Fri, 22 Dec 2017   \n",
       "\n",
       "                                            Description  \n",
       "0     \"Mad Money\" host Jim Cramer recommended buying...  \n",
       "1     \"Mad Money\" host Jim Cramer rings the lightnin...  \n",
       "2     \"We'll pay more for the earnings of the non-Co...  \n",
       "3     Keith Bliss, IQ Capital CEO, joins \"Closing Be...  \n",
       "4     \"Look for the stocks of high-quality companies...  \n",
       "...                                                 ...  \n",
       "2795  According to Kensho, here's how markets have f...  \n",
       "2796  Jim Cramer revealed his top rule when it comes...  \n",
       "2797  Jim Cramer broke down why owning fewer stocks ...  \n",
       "2798  Jim Cramer built on his \"nobody ever made a di...  \n",
       "2799  Jim Cramer doubled down on his key investing r...  \n",
       "\n",
       "[2800 rows x 3 columns]"
      ]
     },
     "execution_count": 9,
     "metadata": {},
     "output_type": "execute_result"
    }
   ],
   "source": [
    "# drop the duplicate rows in the dataset keep the first one\n",
    "df.drop_duplicates(keep='first')"
   ]
  },
  {
   "cell_type": "code",
   "execution_count": 10,
   "metadata": {
    "colab": {
     "base_uri": "https://localhost:8080/"
    },
    "id": "WD5tcCcagXhU",
    "outputId": "2355a67f-5967-4d18-9d33-42f9e78cab9b"
   },
   "outputs": [
    {
     "data": {
      "text/plain": [
       "(2800, 3)"
      ]
     },
     "execution_count": 10,
     "metadata": {},
     "output_type": "execute_result"
    }
   ],
   "source": [
    "# check the shape of cnbc headline dataset\n",
    "df.shape"
   ]
  },
  {
   "cell_type": "markdown",
   "metadata": {
    "id": "JZFVAsUf53Vv"
   },
   "source": [
    "# Basic EDA on Gaurdian headlines dataset"
   ]
  },
  {
   "cell_type": "code",
   "execution_count": 11,
   "metadata": {
    "id": "st0vypi5gXTz"
   },
   "outputs": [],
   "source": [
    "# Read csv file of gaurdian headlines using pandas\n",
    "df2=pd.read_csv(r\"D:\\Cloudy_DataScience\\PROJECTS\\SentimentAnalysis\\guardian_headlines.csv\")"
   ]
  },
  {
   "cell_type": "code",
   "execution_count": 12,
   "metadata": {
    "colab": {
     "base_uri": "https://localhost:8080/",
     "height": 202
    },
    "id": "O15tPmH1gXS5",
    "outputId": "565c251d-ef27-4758-8bcd-77f4d73b3ec3"
   },
   "outputs": [
    {
     "data": {
      "text/html": [
       "<div>\n",
       "<style scoped>\n",
       "    .dataframe tbody tr th:only-of-type {\n",
       "        vertical-align: middle;\n",
       "    }\n",
       "\n",
       "    .dataframe tbody tr th {\n",
       "        vertical-align: top;\n",
       "    }\n",
       "\n",
       "    .dataframe thead th {\n",
       "        text-align: right;\n",
       "    }\n",
       "</style>\n",
       "<table border=\"1\" class=\"dataframe\">\n",
       "  <thead>\n",
       "    <tr style=\"text-align: right;\">\n",
       "      <th></th>\n",
       "      <th>Time</th>\n",
       "      <th>Headlines</th>\n",
       "    </tr>\n",
       "  </thead>\n",
       "  <tbody>\n",
       "    <tr>\n",
       "      <th>0</th>\n",
       "      <td>18-Jul-20</td>\n",
       "      <td>Johnson is asking Santa for a Christmas recovery</td>\n",
       "    </tr>\n",
       "    <tr>\n",
       "      <th>1</th>\n",
       "      <td>18-Jul-20</td>\n",
       "      <td>‘I now fear the worst’: four grim tales of wor...</td>\n",
       "    </tr>\n",
       "    <tr>\n",
       "      <th>2</th>\n",
       "      <td>18-Jul-20</td>\n",
       "      <td>Five key areas Sunak must tackle to serve up e...</td>\n",
       "    </tr>\n",
       "    <tr>\n",
       "      <th>3</th>\n",
       "      <td>18-Jul-20</td>\n",
       "      <td>Covid-19 leaves firms ‘fatally ill-prepared’ f...</td>\n",
       "    </tr>\n",
       "    <tr>\n",
       "      <th>4</th>\n",
       "      <td>18-Jul-20</td>\n",
       "      <td>The Week in Patriarchy  \\n\\n\\n  Bacardi's 'lad...</td>\n",
       "    </tr>\n",
       "  </tbody>\n",
       "</table>\n",
       "</div>"
      ],
      "text/plain": [
       "        Time                                          Headlines\n",
       "0  18-Jul-20   Johnson is asking Santa for a Christmas recovery\n",
       "1  18-Jul-20  ‘I now fear the worst’: four grim tales of wor...\n",
       "2  18-Jul-20  Five key areas Sunak must tackle to serve up e...\n",
       "3  18-Jul-20  Covid-19 leaves firms ‘fatally ill-prepared’ f...\n",
       "4  18-Jul-20  The Week in Patriarchy  \\n\\n\\n  Bacardi's 'lad..."
      ]
     },
     "execution_count": 12,
     "metadata": {},
     "output_type": "execute_result"
    }
   ],
   "source": [
    "df2.head()"
   ]
  },
  {
   "cell_type": "code",
   "execution_count": 13,
   "metadata": {
    "colab": {
     "base_uri": "https://localhost:8080/"
    },
    "id": "09OSuHhRgXNf",
    "outputId": "a485e842-e80a-4ac1-c9a4-e6ca644c3c6c"
   },
   "outputs": [
    {
     "data": {
      "text/plain": [
       "(17800, 2)"
      ]
     },
     "execution_count": 13,
     "metadata": {},
     "output_type": "execute_result"
    }
   ],
   "source": [
    "#check the shape of gaurdian headline dataset\n",
    "df2.shape"
   ]
  },
  {
   "cell_type": "code",
   "execution_count": 14,
   "metadata": {
    "colab": {
     "base_uri": "https://localhost:8080/"
    },
    "id": "7gKFN26whZnD",
    "outputId": "eaf4eede-9485-47d5-b5cb-e451b3113f43"
   },
   "outputs": [
    {
     "data": {
      "text/plain": [
       "Index(['Time', 'Headlines'], dtype='object')"
      ]
     },
     "execution_count": 14,
     "metadata": {},
     "output_type": "execute_result"
    }
   ],
   "source": [
    "#check columns of gaurdian headline\n",
    "df2.columns"
   ]
  },
  {
   "cell_type": "code",
   "execution_count": 15,
   "metadata": {
    "colab": {
     "base_uri": "https://localhost:8080/"
    },
    "id": "5fplFio3hZmG",
    "outputId": "203f8075-6c24-4cc0-9c97-64de380ef72d"
   },
   "outputs": [
    {
     "name": "stdout",
     "output_type": "stream",
     "text": [
      "<class 'pandas.core.frame.DataFrame'>\n",
      "RangeIndex: 17800 entries, 0 to 17799\n",
      "Data columns (total 2 columns):\n",
      " #   Column     Non-Null Count  Dtype \n",
      "---  ------     --------------  ----- \n",
      " 0   Time       17800 non-null  object\n",
      " 1   Headlines  17800 non-null  object\n",
      "dtypes: object(2)\n",
      "memory usage: 278.2+ KB\n"
     ]
    }
   ],
   "source": [
    "# Check which columns are having categorical, numerical or boolean values\n",
    "df2.info()"
   ]
  },
  {
   "cell_type": "code",
   "execution_count": 16,
   "metadata": {
    "colab": {
     "base_uri": "https://localhost:8080/"
    },
    "id": "qaWAwEazhZh8",
    "outputId": "db5b6254-3aac-4c68-dbfb-d9088d5f6975"
   },
   "outputs": [
    {
     "data": {
      "text/plain": [
       "Time         0\n",
       "Headlines    0\n",
       "dtype: int64"
      ]
     },
     "execution_count": 16,
     "metadata": {},
     "output_type": "execute_result"
    }
   ],
   "source": [
    "# check null values in gaurdian headlines dataset\n",
    "df2.isnull().sum()"
   ]
  },
  {
   "cell_type": "code",
   "execution_count": 17,
   "metadata": {
    "colab": {
     "base_uri": "https://localhost:8080/",
     "height": 414
    },
    "id": "NBtOooYChZg9",
    "outputId": "64d9aed6-ab1c-46f5-d86d-0d2fcbf757ee"
   },
   "outputs": [
    {
     "data": {
      "text/html": [
       "<div>\n",
       "<style scoped>\n",
       "    .dataframe tbody tr th:only-of-type {\n",
       "        vertical-align: middle;\n",
       "    }\n",
       "\n",
       "    .dataframe tbody tr th {\n",
       "        vertical-align: top;\n",
       "    }\n",
       "\n",
       "    .dataframe thead th {\n",
       "        text-align: right;\n",
       "    }\n",
       "</style>\n",
       "<table border=\"1\" class=\"dataframe\">\n",
       "  <thead>\n",
       "    <tr style=\"text-align: right;\">\n",
       "      <th></th>\n",
       "      <th>Time</th>\n",
       "      <th>Headlines</th>\n",
       "    </tr>\n",
       "  </thead>\n",
       "  <tbody>\n",
       "    <tr>\n",
       "      <th>0</th>\n",
       "      <td>18-Jul-20</td>\n",
       "      <td>Johnson is asking Santa for a Christmas recovery</td>\n",
       "    </tr>\n",
       "    <tr>\n",
       "      <th>1</th>\n",
       "      <td>18-Jul-20</td>\n",
       "      <td>‘I now fear the worst’: four grim tales of wor...</td>\n",
       "    </tr>\n",
       "    <tr>\n",
       "      <th>2</th>\n",
       "      <td>18-Jul-20</td>\n",
       "      <td>Five key areas Sunak must tackle to serve up e...</td>\n",
       "    </tr>\n",
       "    <tr>\n",
       "      <th>3</th>\n",
       "      <td>18-Jul-20</td>\n",
       "      <td>Covid-19 leaves firms ‘fatally ill-prepared’ f...</td>\n",
       "    </tr>\n",
       "    <tr>\n",
       "      <th>4</th>\n",
       "      <td>18-Jul-20</td>\n",
       "      <td>The Week in Patriarchy  \\n\\n\\n  Bacardi's 'lad...</td>\n",
       "    </tr>\n",
       "    <tr>\n",
       "      <th>...</th>\n",
       "      <td>...</td>\n",
       "      <td>...</td>\n",
       "    </tr>\n",
       "    <tr>\n",
       "      <th>17795</th>\n",
       "      <td>17-Dec-17</td>\n",
       "      <td>How investing in solar energy can create a bri...</td>\n",
       "    </tr>\n",
       "    <tr>\n",
       "      <th>17796</th>\n",
       "      <td>17-Dec-17</td>\n",
       "      <td>Poundland suppliers hit by insurance downgrade</td>\n",
       "    </tr>\n",
       "    <tr>\n",
       "      <th>17797</th>\n",
       "      <td>17-Dec-17</td>\n",
       "      <td>Cryptocurrencies: City watchdog to investigate...</td>\n",
       "    </tr>\n",
       "    <tr>\n",
       "      <th>17798</th>\n",
       "      <td>17-Dec-17</td>\n",
       "      <td>Unilever sells household name spreads to KKR f...</td>\n",
       "    </tr>\n",
       "    <tr>\n",
       "      <th>17799</th>\n",
       "      <td>17-Dec-17</td>\n",
       "      <td>The Guardian view on Ryanair’s model: a union-...</td>\n",
       "    </tr>\n",
       "  </tbody>\n",
       "</table>\n",
       "<p>17800 rows × 2 columns</p>\n",
       "</div>"
      ],
      "text/plain": [
       "            Time                                          Headlines\n",
       "0      18-Jul-20   Johnson is asking Santa for a Christmas recovery\n",
       "1      18-Jul-20  ‘I now fear the worst’: four grim tales of wor...\n",
       "2      18-Jul-20  Five key areas Sunak must tackle to serve up e...\n",
       "3      18-Jul-20  Covid-19 leaves firms ‘fatally ill-prepared’ f...\n",
       "4      18-Jul-20  The Week in Patriarchy  \\n\\n\\n  Bacardi's 'lad...\n",
       "...          ...                                                ...\n",
       "17795  17-Dec-17  How investing in solar energy can create a bri...\n",
       "17796  17-Dec-17     Poundland suppliers hit by insurance downgrade\n",
       "17797  17-Dec-17  Cryptocurrencies: City watchdog to investigate...\n",
       "17798  17-Dec-17  Unilever sells household name spreads to KKR f...\n",
       "17799  17-Dec-17  The Guardian view on Ryanair’s model: a union-...\n",
       "\n",
       "[17800 rows x 2 columns]"
      ]
     },
     "execution_count": 17,
     "metadata": {},
     "output_type": "execute_result"
    }
   ],
   "source": [
    "# drop duplicate rows in headlines and keep the first one\n",
    "df2.drop_duplicates(keep='first')"
   ]
  },
  {
   "cell_type": "markdown",
   "metadata": {
    "id": "3iwjVwnv6-v3"
   },
   "source": [
    "# Basic EDA on reuters headlines"
   ]
  },
  {
   "cell_type": "code",
   "execution_count": 18,
   "metadata": {
    "id": "asNDch3WhZXh"
   },
   "outputs": [],
   "source": [
    "# Read csv file of reuters headlines using using pandas\n",
    "df3=pd.read_csv(r\"D:\\Cloudy_DataScience\\PROJECTS\\SentimentAnalysis\\reuters_headlines.csv\")"
   ]
  },
  {
   "cell_type": "code",
   "execution_count": 19,
   "metadata": {
    "colab": {
     "base_uri": "https://localhost:8080/",
     "height": 202
    },
    "id": "n-FuGab8hZS0",
    "outputId": "61fbc9af-cc62-4f68-bf99-3d071af01425"
   },
   "outputs": [
    {
     "data": {
      "text/html": [
       "<div>\n",
       "<style scoped>\n",
       "    .dataframe tbody tr th:only-of-type {\n",
       "        vertical-align: middle;\n",
       "    }\n",
       "\n",
       "    .dataframe tbody tr th {\n",
       "        vertical-align: top;\n",
       "    }\n",
       "\n",
       "    .dataframe thead th {\n",
       "        text-align: right;\n",
       "    }\n",
       "</style>\n",
       "<table border=\"1\" class=\"dataframe\">\n",
       "  <thead>\n",
       "    <tr style=\"text-align: right;\">\n",
       "      <th></th>\n",
       "      <th>Headlines</th>\n",
       "      <th>Time</th>\n",
       "      <th>Description</th>\n",
       "    </tr>\n",
       "  </thead>\n",
       "  <tbody>\n",
       "    <tr>\n",
       "      <th>0</th>\n",
       "      <td>TikTok considers London and other locations fo...</td>\n",
       "      <td>Jul 18 2020</td>\n",
       "      <td>TikTok has been in discussions with the UK gov...</td>\n",
       "    </tr>\n",
       "    <tr>\n",
       "      <th>1</th>\n",
       "      <td>Disney cuts ad spending on Facebook amid growi...</td>\n",
       "      <td>Jul 18 2020</td>\n",
       "      <td>Walt Disney  has become the latest company to ...</td>\n",
       "    </tr>\n",
       "    <tr>\n",
       "      <th>2</th>\n",
       "      <td>Trail of missing Wirecard executive leads to B...</td>\n",
       "      <td>Jul 18 2020</td>\n",
       "      <td>Former Wirecard  chief operating officer Jan M...</td>\n",
       "    </tr>\n",
       "    <tr>\n",
       "      <th>3</th>\n",
       "      <td>Twitter says attackers downloaded data from up...</td>\n",
       "      <td>Jul 18 2020</td>\n",
       "      <td>Twitter Inc said on Saturday that hackers were...</td>\n",
       "    </tr>\n",
       "    <tr>\n",
       "      <th>4</th>\n",
       "      <td>U.S. Republicans seek liability protections as...</td>\n",
       "      <td>Jul 17 2020</td>\n",
       "      <td>A battle in the U.S. Congress over a new coron...</td>\n",
       "    </tr>\n",
       "  </tbody>\n",
       "</table>\n",
       "</div>"
      ],
      "text/plain": [
       "                                           Headlines         Time  \\\n",
       "0  TikTok considers London and other locations fo...  Jul 18 2020   \n",
       "1  Disney cuts ad spending on Facebook amid growi...  Jul 18 2020   \n",
       "2  Trail of missing Wirecard executive leads to B...  Jul 18 2020   \n",
       "3  Twitter says attackers downloaded data from up...  Jul 18 2020   \n",
       "4  U.S. Republicans seek liability protections as...  Jul 17 2020   \n",
       "\n",
       "                                         Description  \n",
       "0  TikTok has been in discussions with the UK gov...  \n",
       "1  Walt Disney  has become the latest company to ...  \n",
       "2  Former Wirecard  chief operating officer Jan M...  \n",
       "3  Twitter Inc said on Saturday that hackers were...  \n",
       "4  A battle in the U.S. Congress over a new coron...  "
      ]
     },
     "execution_count": 19,
     "metadata": {},
     "output_type": "execute_result"
    }
   ],
   "source": [
    "df3.head()"
   ]
  },
  {
   "cell_type": "code",
   "execution_count": 20,
   "metadata": {
    "colab": {
     "base_uri": "https://localhost:8080/"
    },
    "id": "aRIhdEPyhZR3",
    "outputId": "a2592db9-0d2c-45e6-9f36-926a14eb5602"
   },
   "outputs": [
    {
     "data": {
      "text/plain": [
       "(32770, 3)"
      ]
     },
     "execution_count": 20,
     "metadata": {},
     "output_type": "execute_result"
    }
   ],
   "source": [
    "#check the shape of reuters headlines dataset\n",
    "df3.shape"
   ]
  },
  {
   "cell_type": "code",
   "execution_count": 21,
   "metadata": {
    "colab": {
     "base_uri": "https://localhost:8080/"
    },
    "id": "zn6OnjCwhZN8",
    "outputId": "7965f9fb-0c75-4356-9ad0-4d8fe1727c3d"
   },
   "outputs": [
    {
     "data": {
      "text/plain": [
       "Index(['Headlines', 'Time', 'Description'], dtype='object')"
      ]
     },
     "execution_count": 21,
     "metadata": {},
     "output_type": "execute_result"
    }
   ],
   "source": [
    "#check the columns of reuters headline dataset\n",
    "df3.columns"
   ]
  },
  {
   "cell_type": "code",
   "execution_count": 22,
   "metadata": {
    "colab": {
     "base_uri": "https://localhost:8080/"
    },
    "id": "go-UtVDjhZM1",
    "outputId": "f423cfcf-3bdf-471c-fb4d-1424787d9c79"
   },
   "outputs": [
    {
     "name": "stdout",
     "output_type": "stream",
     "text": [
      "<class 'pandas.core.frame.DataFrame'>\n",
      "RangeIndex: 32770 entries, 0 to 32769\n",
      "Data columns (total 3 columns):\n",
      " #   Column       Non-Null Count  Dtype \n",
      "---  ------       --------------  ----- \n",
      " 0   Headlines    32770 non-null  object\n",
      " 1   Time         32770 non-null  object\n",
      " 2   Description  32770 non-null  object\n",
      "dtypes: object(3)\n",
      "memory usage: 768.2+ KB\n"
     ]
    }
   ],
   "source": [
    "# Check which columns are having categorical, numerical or boolean values\n",
    "df3.info()"
   ]
  },
  {
   "cell_type": "code",
   "execution_count": 23,
   "metadata": {
    "colab": {
     "base_uri": "https://localhost:8080/"
    },
    "id": "7d7HOHV7hZJM",
    "outputId": "b60f3758-a698-45ad-ec28-c22e424997f3"
   },
   "outputs": [
    {
     "data": {
      "text/plain": [
       "Headlines      0\n",
       "Time           0\n",
       "Description    0\n",
       "dtype: int64"
      ]
     },
     "execution_count": 23,
     "metadata": {},
     "output_type": "execute_result"
    }
   ],
   "source": [
    "# Check for missing values in all the columnns of reuters headlines dataset\n",
    "df3.isnull().sum()"
   ]
  },
  {
   "cell_type": "code",
   "execution_count": 24,
   "metadata": {
    "colab": {
     "base_uri": "https://localhost:8080/",
     "height": 414
    },
    "id": "Zvbdb747hZHz",
    "outputId": "d9926a4c-1074-4c12-e41e-7607561c38fd"
   },
   "outputs": [
    {
     "data": {
      "text/html": [
       "<div>\n",
       "<style scoped>\n",
       "    .dataframe tbody tr th:only-of-type {\n",
       "        vertical-align: middle;\n",
       "    }\n",
       "\n",
       "    .dataframe tbody tr th {\n",
       "        vertical-align: top;\n",
       "    }\n",
       "\n",
       "    .dataframe thead th {\n",
       "        text-align: right;\n",
       "    }\n",
       "</style>\n",
       "<table border=\"1\" class=\"dataframe\">\n",
       "  <thead>\n",
       "    <tr style=\"text-align: right;\">\n",
       "      <th></th>\n",
       "      <th>Headlines</th>\n",
       "      <th>Time</th>\n",
       "      <th>Description</th>\n",
       "    </tr>\n",
       "  </thead>\n",
       "  <tbody>\n",
       "    <tr>\n",
       "      <th>0</th>\n",
       "      <td>TikTok considers London and other locations fo...</td>\n",
       "      <td>Jul 18 2020</td>\n",
       "      <td>TikTok has been in discussions with the UK gov...</td>\n",
       "    </tr>\n",
       "    <tr>\n",
       "      <th>1</th>\n",
       "      <td>Disney cuts ad spending on Facebook amid growi...</td>\n",
       "      <td>Jul 18 2020</td>\n",
       "      <td>Walt Disney  has become the latest company to ...</td>\n",
       "    </tr>\n",
       "    <tr>\n",
       "      <th>2</th>\n",
       "      <td>Trail of missing Wirecard executive leads to B...</td>\n",
       "      <td>Jul 18 2020</td>\n",
       "      <td>Former Wirecard  chief operating officer Jan M...</td>\n",
       "    </tr>\n",
       "    <tr>\n",
       "      <th>3</th>\n",
       "      <td>Twitter says attackers downloaded data from up...</td>\n",
       "      <td>Jul 18 2020</td>\n",
       "      <td>Twitter Inc said on Saturday that hackers were...</td>\n",
       "    </tr>\n",
       "    <tr>\n",
       "      <th>4</th>\n",
       "      <td>U.S. Republicans seek liability protections as...</td>\n",
       "      <td>Jul 17 2020</td>\n",
       "      <td>A battle in the U.S. Congress over a new coron...</td>\n",
       "    </tr>\n",
       "    <tr>\n",
       "      <th>...</th>\n",
       "      <td>...</td>\n",
       "      <td>...</td>\n",
       "      <td>...</td>\n",
       "    </tr>\n",
       "    <tr>\n",
       "      <th>32765</th>\n",
       "      <td>Malaysia says never hired British data firm at...</td>\n",
       "      <td>Mar 20 2018</td>\n",
       "      <td>The Malaysian government and the ruling party ...</td>\n",
       "    </tr>\n",
       "    <tr>\n",
       "      <th>32766</th>\n",
       "      <td>Prosecutors search Volkswagen headquarters in ...</td>\n",
       "      <td>Mar 20 2018</td>\n",
       "      <td>German prosecutors said on Tuesday they had se...</td>\n",
       "    </tr>\n",
       "    <tr>\n",
       "      <th>32767</th>\n",
       "      <td>McDonald's sets greenhouse gas reduction targets</td>\n",
       "      <td>Mar 20 2018</td>\n",
       "      <td>McDonald's Corp on Tuesday announced an approv...</td>\n",
       "    </tr>\n",
       "    <tr>\n",
       "      <th>32768</th>\n",
       "      <td>Pratt &amp; Whitney to deliver spare A320neo engin...</td>\n",
       "      <td>Mar 20 2018</td>\n",
       "      <td>Pratt &amp; Whitney will soon begin deliveries of ...</td>\n",
       "    </tr>\n",
       "    <tr>\n",
       "      <th>32769</th>\n",
       "      <td>UK will always consider ways to improve data l...</td>\n",
       "      <td>Mar 20 2018</td>\n",
       "      <td>Britain will consider any suggestions to give ...</td>\n",
       "    </tr>\n",
       "  </tbody>\n",
       "</table>\n",
       "<p>32715 rows × 3 columns</p>\n",
       "</div>"
      ],
      "text/plain": [
       "                                               Headlines         Time  \\\n",
       "0      TikTok considers London and other locations fo...  Jul 18 2020   \n",
       "1      Disney cuts ad spending on Facebook amid growi...  Jul 18 2020   \n",
       "2      Trail of missing Wirecard executive leads to B...  Jul 18 2020   \n",
       "3      Twitter says attackers downloaded data from up...  Jul 18 2020   \n",
       "4      U.S. Republicans seek liability protections as...  Jul 17 2020   \n",
       "...                                                  ...          ...   \n",
       "32765  Malaysia says never hired British data firm at...  Mar 20 2018   \n",
       "32766  Prosecutors search Volkswagen headquarters in ...  Mar 20 2018   \n",
       "32767   McDonald's sets greenhouse gas reduction targets  Mar 20 2018   \n",
       "32768  Pratt & Whitney to deliver spare A320neo engin...  Mar 20 2018   \n",
       "32769  UK will always consider ways to improve data l...  Mar 20 2018   \n",
       "\n",
       "                                             Description  \n",
       "0      TikTok has been in discussions with the UK gov...  \n",
       "1      Walt Disney  has become the latest company to ...  \n",
       "2      Former Wirecard  chief operating officer Jan M...  \n",
       "3      Twitter Inc said on Saturday that hackers were...  \n",
       "4      A battle in the U.S. Congress over a new coron...  \n",
       "...                                                  ...  \n",
       "32765  The Malaysian government and the ruling party ...  \n",
       "32766  German prosecutors said on Tuesday they had se...  \n",
       "32767  McDonald's Corp on Tuesday announced an approv...  \n",
       "32768  Pratt & Whitney will soon begin deliveries of ...  \n",
       "32769  Britain will consider any suggestions to give ...  \n",
       "\n",
       "[32715 rows x 3 columns]"
      ]
     },
     "execution_count": 24,
     "metadata": {},
     "output_type": "execute_result"
    }
   ],
   "source": [
    "#drop the duplicate rows in reuters headlines dataset and keep the first one\n",
    "df3.drop_duplicates(keep='first',inplace=True)\n",
    "df3"
   ]
  },
  {
   "cell_type": "markdown",
   "metadata": {
    "id": "2uvArOVne6jB"
   },
   "source": [
    "# Making some functions that we will need  ahead"
   ]
  },
  {
   "cell_type": "markdown",
   "metadata": {
    "id": "94zINn2npv1V"
   },
   "source": [
    "Preprocessing "
   ]
  },
  {
   "cell_type": "code",
   "execution_count": 25,
   "metadata": {
    "id": "djtZVA_IhY9b",
    "scrolled": true
   },
   "outputs": [],
   "source": [
    "# create a function for preprocessing \n",
    "import string\n",
    "from nltk.tokenize import word_tokenize\n",
    "from nltk.stem.porter import *\n",
    "from nltk.stem.wordnet import WordNetLemmatizer\n",
    "output= string.punctuation\n",
    "\n",
    "stopwordslist = stopwords.words('english')\n",
    "\n",
    "def preprocessing(text):\n",
    "    \n",
    "  #convert all to lowercase\n",
    "    lower=text.lower()\n",
    "\n",
    "  #remove puntuations\n",
    "    corrected=lower.translate(str.maketrans('', '', output))\n",
    "\n",
    "  #remove stopword\n",
    "    tokenwords=word_tokenize(corrected)\n",
    "    result = [] \n",
    "    for w in tokenwords: \n",
    "        if w not in stopwordslist: \n",
    "            result.append(w)\n",
    "    \n",
    "  #stemming\n",
    "    ps = PorterStemmer()\n",
    "    stemwords = [ps.stem(w) for w in result]\n",
    "    \n",
    "    \n",
    "\n",
    "  #lemmitizing\n",
    "    lemmatizer = WordNetLemmatizer()\n",
    "    lemmawords = [lemmatizer.lemmatize(w) for w in stemwords]\n",
    "    \n",
    "    return(\" \".join(lemmawords))\n",
    "\n",
    "\n",
    "  "
   ]
  },
  {
   "cell_type": "code",
   "execution_count": 26,
   "metadata": {},
   "outputs": [],
   "source": [
    "# preprocessing('Hi my name is the deepak, What is yours?')"
   ]
  },
  {
   "cell_type": "markdown",
   "metadata": {
    "id": "pjlDZ7Peu7t1"
   },
   "source": [
    "SENTIMENT ANAYSIS"
   ]
  },
  {
   "cell_type": "markdown",
   "metadata": {
    "id": "h9ZOktEru6MV"
   },
   "source": [
    "https://towardsdatascience.com/sentimental-analysis-using-vader-a3415fef7664"
   ]
  },
  {
   "cell_type": "code",
   "execution_count": 27,
   "metadata": {
    "colab": {
     "base_uri": "https://localhost:8080/"
    },
    "id": "HUxqpmosB6vy",
    "outputId": "77151daa-a298-4a80-eaa6-f5dc11a340f1"
   },
   "outputs": [],
   "source": [
    "# import sentiment intensity analyzer\n",
    "\n",
    "import nltk\n",
    "\n",
    "from nltk.sentiment.vader import SentimentIntensityAnalyzer\n",
    "\n",
    "\n",
    "# create sentiment intensity analyzer object\n",
    "sid = SentimentIntensityAnalyzer()\n"
   ]
  },
  {
   "cell_type": "code",
   "execution_count": 28,
   "metadata": {
    "id": "GscOEWSjGfa2"
   },
   "outputs": [],
   "source": [
    "#fuction to  decide sentiment as positive, negative and neutral\n",
    "def sentiment_polarity(text):\n",
    "    return sid.polarity_scores(text)['compound']"
   ]
  },
  {
   "cell_type": "markdown",
   "metadata": {
    "id": "RVa-zf7xfRjc"
   },
   "source": [
    "# Now working with description on datasets"
   ]
  },
  {
   "cell_type": "code",
   "execution_count": 29,
   "metadata": {
    "id": "NFS1pS0Zws6Z"
   },
   "outputs": [
    {
     "data": {
      "text/html": [
       "<div>\n",
       "<style scoped>\n",
       "    .dataframe tbody tr th:only-of-type {\n",
       "        vertical-align: middle;\n",
       "    }\n",
       "\n",
       "    .dataframe tbody tr th {\n",
       "        vertical-align: top;\n",
       "    }\n",
       "\n",
       "    .dataframe thead th {\n",
       "        text-align: right;\n",
       "    }\n",
       "</style>\n",
       "<table border=\"1\" class=\"dataframe\">\n",
       "  <thead>\n",
       "    <tr style=\"text-align: right;\">\n",
       "      <th></th>\n",
       "      <th>Headlines</th>\n",
       "      <th>Time</th>\n",
       "      <th>Description</th>\n",
       "    </tr>\n",
       "  </thead>\n",
       "  <tbody>\n",
       "    <tr>\n",
       "      <th>0</th>\n",
       "      <td>Jim Cramer: A better way to invest in the Covi...</td>\n",
       "      <td>7:51  PM ET Fri, 17 July 2020</td>\n",
       "      <td>\"Mad Money\" host Jim Cramer recommended buying...</td>\n",
       "    </tr>\n",
       "    <tr>\n",
       "      <th>1</th>\n",
       "      <td>Cramer's lightning round: I would own Teradyne</td>\n",
       "      <td>7:33  PM ET Fri, 17 July 2020</td>\n",
       "      <td>\"Mad Money\" host Jim Cramer rings the lightnin...</td>\n",
       "    </tr>\n",
       "    <tr>\n",
       "      <th>2</th>\n",
       "      <td>Cramer's week ahead: Big week for earnings, ev...</td>\n",
       "      <td>7:25  PM ET Fri, 17 July 2020</td>\n",
       "      <td>\"We'll pay more for the earnings of the non-Co...</td>\n",
       "    </tr>\n",
       "    <tr>\n",
       "      <th>3</th>\n",
       "      <td>IQ Capital CEO Keith Bliss says tech and healt...</td>\n",
       "      <td>4:24  PM ET Fri, 17 July 2020</td>\n",
       "      <td>Keith Bliss, IQ Capital CEO, joins \"Closing Be...</td>\n",
       "    </tr>\n",
       "    <tr>\n",
       "      <th>4</th>\n",
       "      <td>Wall Street delivered the 'kind of pullback I'...</td>\n",
       "      <td>7:36  PM ET Thu, 16 July 2020</td>\n",
       "      <td>\"Look for the stocks of high-quality companies...</td>\n",
       "    </tr>\n",
       "    <tr>\n",
       "      <th>...</th>\n",
       "      <td>...</td>\n",
       "      <td>...</td>\n",
       "      <td>...</td>\n",
       "    </tr>\n",
       "    <tr>\n",
       "      <th>32765</th>\n",
       "      <td>Malaysia says never hired British data firm at...</td>\n",
       "      <td>Mar 20 2018</td>\n",
       "      <td>The Malaysian government and the ruling party ...</td>\n",
       "    </tr>\n",
       "    <tr>\n",
       "      <th>32766</th>\n",
       "      <td>Prosecutors search Volkswagen headquarters in ...</td>\n",
       "      <td>Mar 20 2018</td>\n",
       "      <td>German prosecutors said on Tuesday they had se...</td>\n",
       "    </tr>\n",
       "    <tr>\n",
       "      <th>32767</th>\n",
       "      <td>McDonald's sets greenhouse gas reduction targets</td>\n",
       "      <td>Mar 20 2018</td>\n",
       "      <td>McDonald's Corp on Tuesday announced an approv...</td>\n",
       "    </tr>\n",
       "    <tr>\n",
       "      <th>32768</th>\n",
       "      <td>Pratt &amp; Whitney to deliver spare A320neo engin...</td>\n",
       "      <td>Mar 20 2018</td>\n",
       "      <td>Pratt &amp; Whitney will soon begin deliveries of ...</td>\n",
       "    </tr>\n",
       "    <tr>\n",
       "      <th>32769</th>\n",
       "      <td>UK will always consider ways to improve data l...</td>\n",
       "      <td>Mar 20 2018</td>\n",
       "      <td>Britain will consider any suggestions to give ...</td>\n",
       "    </tr>\n",
       "  </tbody>\n",
       "</table>\n",
       "<p>35515 rows × 3 columns</p>\n",
       "</div>"
      ],
      "text/plain": [
       "                                               Headlines  \\\n",
       "0      Jim Cramer: A better way to invest in the Covi...   \n",
       "1         Cramer's lightning round: I would own Teradyne   \n",
       "2      Cramer's week ahead: Big week for earnings, ev...   \n",
       "3      IQ Capital CEO Keith Bliss says tech and healt...   \n",
       "4      Wall Street delivered the 'kind of pullback I'...   \n",
       "...                                                  ...   \n",
       "32765  Malaysia says never hired British data firm at...   \n",
       "32766  Prosecutors search Volkswagen headquarters in ...   \n",
       "32767   McDonald's sets greenhouse gas reduction targets   \n",
       "32768  Pratt & Whitney to deliver spare A320neo engin...   \n",
       "32769  UK will always consider ways to improve data l...   \n",
       "\n",
       "                                 Time  \\\n",
       "0       7:51  PM ET Fri, 17 July 2020   \n",
       "1       7:33  PM ET Fri, 17 July 2020   \n",
       "2       7:25  PM ET Fri, 17 July 2020   \n",
       "3       4:24  PM ET Fri, 17 July 2020   \n",
       "4       7:36  PM ET Thu, 16 July 2020   \n",
       "...                               ...   \n",
       "32765                     Mar 20 2018   \n",
       "32766                     Mar 20 2018   \n",
       "32767                     Mar 20 2018   \n",
       "32768                     Mar 20 2018   \n",
       "32769                     Mar 20 2018   \n",
       "\n",
       "                                             Description  \n",
       "0      \"Mad Money\" host Jim Cramer recommended buying...  \n",
       "1      \"Mad Money\" host Jim Cramer rings the lightnin...  \n",
       "2      \"We'll pay more for the earnings of the non-Co...  \n",
       "3      Keith Bliss, IQ Capital CEO, joins \"Closing Be...  \n",
       "4      \"Look for the stocks of high-quality companies...  \n",
       "...                                                  ...  \n",
       "32765  The Malaysian government and the ruling party ...  \n",
       "32766  German prosecutors said on Tuesday they had se...  \n",
       "32767  McDonald's Corp on Tuesday announced an approv...  \n",
       "32768  Pratt & Whitney will soon begin deliveries of ...  \n",
       "32769  Britain will consider any suggestions to give ...  \n",
       "\n",
       "[35515 rows x 3 columns]"
      ]
     },
     "execution_count": 29,
     "metadata": {},
     "output_type": "execute_result"
    }
   ],
   "source": [
    "# concatenate cnbc headlines dataset and reuters headline dataset\n",
    "df_new=pd.concat([df,df3],axis=0)\n",
    "df_new"
   ]
  },
  {
   "cell_type": "code",
   "execution_count": 30,
   "metadata": {
    "colab": {
     "base_uri": "https://localhost:8080/"
    },
    "id": "eDgz1y9Cwzfm",
    "outputId": "f5a8a761-7f1b-4997-dee9-f4cb89f98268"
   },
   "outputs": [
    {
     "data": {
      "text/plain": [
       "(35515, 3)"
      ]
     },
     "execution_count": 30,
     "metadata": {},
     "output_type": "execute_result"
    }
   ],
   "source": [
    "#check the shape of this new dataset\n",
    "df_new.shape"
   ]
  },
  {
   "cell_type": "code",
   "execution_count": 31,
   "metadata": {
    "id": "u0v43468m4d0"
   },
   "outputs": [],
   "source": [
    "#make a copy of new dataset \n",
    "df_new_copy=df_new.copy()"
   ]
  },
  {
   "cell_type": "code",
   "execution_count": 32,
   "metadata": {
    "colab": {
     "base_uri": "https://localhost:8080/",
     "height": 662
    },
    "id": "KMejFN4HhY44",
    "outputId": "59c6d813-245a-41f4-e2d9-b30f6921e669"
   },
   "outputs": [],
   "source": [
    "# apply preprocessing to the description of new dataset\n",
    "df_new.Description=df_new.Description.apply(preprocessing)"
   ]
  },
  {
   "cell_type": "code",
   "execution_count": 33,
   "metadata": {},
   "outputs": [
    {
     "data": {
      "text/html": [
       "<div>\n",
       "<style scoped>\n",
       "    .dataframe tbody tr th:only-of-type {\n",
       "        vertical-align: middle;\n",
       "    }\n",
       "\n",
       "    .dataframe tbody tr th {\n",
       "        vertical-align: top;\n",
       "    }\n",
       "\n",
       "    .dataframe thead th {\n",
       "        text-align: right;\n",
       "    }\n",
       "</style>\n",
       "<table border=\"1\" class=\"dataframe\">\n",
       "  <thead>\n",
       "    <tr style=\"text-align: right;\">\n",
       "      <th></th>\n",
       "      <th>Headlines</th>\n",
       "      <th>Time</th>\n",
       "      <th>Description</th>\n",
       "    </tr>\n",
       "  </thead>\n",
       "  <tbody>\n",
       "    <tr>\n",
       "      <th>0</th>\n",
       "      <td>Jim Cramer: A better way to invest in the Covi...</td>\n",
       "      <td>7:51  PM ET Fri, 17 July 2020</td>\n",
       "      <td>mad money host jim cramer recommend buy four c...</td>\n",
       "    </tr>\n",
       "    <tr>\n",
       "      <th>1</th>\n",
       "      <td>Cramer's lightning round: I would own Teradyne</td>\n",
       "      <td>7:33  PM ET Fri, 17 July 2020</td>\n",
       "      <td>mad money host jim cramer ring lightn round be...</td>\n",
       "    </tr>\n",
       "    <tr>\n",
       "      <th>2</th>\n",
       "      <td>Cramer's week ahead: Big week for earnings, ev...</td>\n",
       "      <td>7:25  PM ET Fri, 17 July 2020</td>\n",
       "      <td>well pay earn noncovid compani lancet publish ...</td>\n",
       "    </tr>\n",
       "    <tr>\n",
       "      <th>3</th>\n",
       "      <td>IQ Capital CEO Keith Bliss says tech and healt...</td>\n",
       "      <td>4:24  PM ET Fri, 17 July 2020</td>\n",
       "      <td>keith bliss iq capit ceo join close bell talk ...</td>\n",
       "    </tr>\n",
       "    <tr>\n",
       "      <th>4</th>\n",
       "      <td>Wall Street delivered the 'kind of pullback I'...</td>\n",
       "      <td>7:36  PM ET Thu, 16 July 2020</td>\n",
       "      <td>look stock highqual compani go lower even thou...</td>\n",
       "    </tr>\n",
       "    <tr>\n",
       "      <th>...</th>\n",
       "      <td>...</td>\n",
       "      <td>...</td>\n",
       "      <td>...</td>\n",
       "    </tr>\n",
       "    <tr>\n",
       "      <th>32765</th>\n",
       "      <td>Malaysia says never hired British data firm at...</td>\n",
       "      <td>Mar 20 2018</td>\n",
       "      <td>malaysian govern rule parti tuesday deni ever ...</td>\n",
       "    </tr>\n",
       "    <tr>\n",
       "      <th>32766</th>\n",
       "      <td>Prosecutors search Volkswagen headquarters in ...</td>\n",
       "      <td>Mar 20 2018</td>\n",
       "      <td>german prosecutor said tuesday search volkswag...</td>\n",
       "    </tr>\n",
       "    <tr>\n",
       "      <th>32767</th>\n",
       "      <td>McDonald's sets greenhouse gas reduction targets</td>\n",
       "      <td>Mar 20 2018</td>\n",
       "      <td>mcdonald corp tuesday announc approv scienc ba...</td>\n",
       "    </tr>\n",
       "    <tr>\n",
       "      <th>32768</th>\n",
       "      <td>Pratt &amp; Whitney to deliver spare A320neo engin...</td>\n",
       "      <td>Mar 20 2018</td>\n",
       "      <td>pratt whitney soon begin deliveri spare engin ...</td>\n",
       "    </tr>\n",
       "    <tr>\n",
       "      <th>32769</th>\n",
       "      <td>UK will always consider ways to improve data l...</td>\n",
       "      <td>Mar 20 2018</td>\n",
       "      <td>britain consid suggest give bodi charg uphold ...</td>\n",
       "    </tr>\n",
       "  </tbody>\n",
       "</table>\n",
       "<p>35515 rows × 3 columns</p>\n",
       "</div>"
      ],
      "text/plain": [
       "                                               Headlines  \\\n",
       "0      Jim Cramer: A better way to invest in the Covi...   \n",
       "1         Cramer's lightning round: I would own Teradyne   \n",
       "2      Cramer's week ahead: Big week for earnings, ev...   \n",
       "3      IQ Capital CEO Keith Bliss says tech and healt...   \n",
       "4      Wall Street delivered the 'kind of pullback I'...   \n",
       "...                                                  ...   \n",
       "32765  Malaysia says never hired British data firm at...   \n",
       "32766  Prosecutors search Volkswagen headquarters in ...   \n",
       "32767   McDonald's sets greenhouse gas reduction targets   \n",
       "32768  Pratt & Whitney to deliver spare A320neo engin...   \n",
       "32769  UK will always consider ways to improve data l...   \n",
       "\n",
       "                                 Time  \\\n",
       "0       7:51  PM ET Fri, 17 July 2020   \n",
       "1       7:33  PM ET Fri, 17 July 2020   \n",
       "2       7:25  PM ET Fri, 17 July 2020   \n",
       "3       4:24  PM ET Fri, 17 July 2020   \n",
       "4       7:36  PM ET Thu, 16 July 2020   \n",
       "...                               ...   \n",
       "32765                     Mar 20 2018   \n",
       "32766                     Mar 20 2018   \n",
       "32767                     Mar 20 2018   \n",
       "32768                     Mar 20 2018   \n",
       "32769                     Mar 20 2018   \n",
       "\n",
       "                                             Description  \n",
       "0      mad money host jim cramer recommend buy four c...  \n",
       "1      mad money host jim cramer ring lightn round be...  \n",
       "2      well pay earn noncovid compani lancet publish ...  \n",
       "3      keith bliss iq capit ceo join close bell talk ...  \n",
       "4      look stock highqual compani go lower even thou...  \n",
       "...                                                  ...  \n",
       "32765  malaysian govern rule parti tuesday deni ever ...  \n",
       "32766  german prosecutor said tuesday search volkswag...  \n",
       "32767  mcdonald corp tuesday announc approv scienc ba...  \n",
       "32768  pratt whitney soon begin deliveri spare engin ...  \n",
       "32769  britain consid suggest give bodi charg uphold ...  \n",
       "\n",
       "[35515 rows x 3 columns]"
      ]
     },
     "execution_count": 33,
     "metadata": {},
     "output_type": "execute_result"
    }
   ],
   "source": [
    "df_new"
   ]
  },
  {
   "cell_type": "code",
   "execution_count": 34,
   "metadata": {
    "colab": {
     "base_uri": "https://localhost:8080/",
     "height": 414
    },
    "id": "l97AoQKkhYzb",
    "outputId": "984cc92c-5215-44d0-881e-a6947d580b96"
   },
   "outputs": [],
   "source": [
    "# analyze polarity score of values in description and  add new column of it in dataset\n",
    "df_new['ds_Score']=df_new.Description.apply(sentiment_polarity)"
   ]
  },
  {
   "cell_type": "code",
   "execution_count": 35,
   "metadata": {
    "colab": {
     "base_uri": "https://localhost:8080/",
     "height": 414
    },
    "id": "c9Aq-sQ7hYu_",
    "outputId": "6f50dd1a-ba4c-4708-82ea-ed7a75459a89"
   },
   "outputs": [
    {
     "data": {
      "text/html": [
       "<div>\n",
       "<style scoped>\n",
       "    .dataframe tbody tr th:only-of-type {\n",
       "        vertical-align: middle;\n",
       "    }\n",
       "\n",
       "    .dataframe tbody tr th {\n",
       "        vertical-align: top;\n",
       "    }\n",
       "\n",
       "    .dataframe thead th {\n",
       "        text-align: right;\n",
       "    }\n",
       "</style>\n",
       "<table border=\"1\" class=\"dataframe\">\n",
       "  <thead>\n",
       "    <tr style=\"text-align: right;\">\n",
       "      <th></th>\n",
       "      <th>Headlines</th>\n",
       "      <th>Time</th>\n",
       "      <th>Description</th>\n",
       "      <th>ds_Score</th>\n",
       "      <th>sentiment</th>\n",
       "    </tr>\n",
       "  </thead>\n",
       "  <tbody>\n",
       "    <tr>\n",
       "      <th>0</th>\n",
       "      <td>Jim Cramer: A better way to invest in the Covi...</td>\n",
       "      <td>7:51  PM ET Fri, 17 July 2020</td>\n",
       "      <td>mad money host jim cramer recommend buy four c...</td>\n",
       "      <td>0.2500</td>\n",
       "      <td>Positive</td>\n",
       "    </tr>\n",
       "    <tr>\n",
       "      <th>1</th>\n",
       "      <td>Cramer's lightning round: I would own Teradyne</td>\n",
       "      <td>7:33  PM ET Fri, 17 July 2020</td>\n",
       "      <td>mad money host jim cramer ring lightn round be...</td>\n",
       "      <td>-0.4939</td>\n",
       "      <td>Negative</td>\n",
       "    </tr>\n",
       "    <tr>\n",
       "      <th>2</th>\n",
       "      <td>Cramer's week ahead: Big week for earnings, ev...</td>\n",
       "      <td>7:25  PM ET Fri, 17 July 2020</td>\n",
       "      <td>well pay earn noncovid compani lancet publish ...</td>\n",
       "      <td>0.5574</td>\n",
       "      <td>Positive</td>\n",
       "    </tr>\n",
       "    <tr>\n",
       "      <th>3</th>\n",
       "      <td>IQ Capital CEO Keith Bliss says tech and healt...</td>\n",
       "      <td>4:24  PM ET Fri, 17 July 2020</td>\n",
       "      <td>keith bliss iq capit ceo join close bell talk ...</td>\n",
       "      <td>0.7096</td>\n",
       "      <td>Positive</td>\n",
       "    </tr>\n",
       "    <tr>\n",
       "      <th>4</th>\n",
       "      <td>Wall Street delivered the 'kind of pullback I'...</td>\n",
       "      <td>7:36  PM ET Thu, 16 July 2020</td>\n",
       "      <td>look stock highqual compani go lower even thou...</td>\n",
       "      <td>-0.6597</td>\n",
       "      <td>Negative</td>\n",
       "    </tr>\n",
       "    <tr>\n",
       "      <th>...</th>\n",
       "      <td>...</td>\n",
       "      <td>...</td>\n",
       "      <td>...</td>\n",
       "      <td>...</td>\n",
       "      <td>...</td>\n",
       "    </tr>\n",
       "    <tr>\n",
       "      <th>32765</th>\n",
       "      <td>Malaysia says never hired British data firm at...</td>\n",
       "      <td>Mar 20 2018</td>\n",
       "      <td>malaysian govern rule parti tuesday deni ever ...</td>\n",
       "      <td>0.0000</td>\n",
       "      <td>Neutral</td>\n",
       "    </tr>\n",
       "    <tr>\n",
       "      <th>32766</th>\n",
       "      <td>Prosecutors search Volkswagen headquarters in ...</td>\n",
       "      <td>Mar 20 2018</td>\n",
       "      <td>german prosecutor said tuesday search volkswag...</td>\n",
       "      <td>0.0000</td>\n",
       "      <td>Neutral</td>\n",
       "    </tr>\n",
       "    <tr>\n",
       "      <th>32767</th>\n",
       "      <td>McDonald's sets greenhouse gas reduction targets</td>\n",
       "      <td>Mar 20 2018</td>\n",
       "      <td>mcdonald corp tuesday announc approv scienc ba...</td>\n",
       "      <td>-0.2732</td>\n",
       "      <td>Negative</td>\n",
       "    </tr>\n",
       "    <tr>\n",
       "      <th>32768</th>\n",
       "      <td>Pratt &amp; Whitney to deliver spare A320neo engin...</td>\n",
       "      <td>Mar 20 2018</td>\n",
       "      <td>pratt whitney soon begin deliveri spare engin ...</td>\n",
       "      <td>-0.3818</td>\n",
       "      <td>Negative</td>\n",
       "    </tr>\n",
       "    <tr>\n",
       "      <th>32769</th>\n",
       "      <td>UK will always consider ways to improve data l...</td>\n",
       "      <td>Mar 20 2018</td>\n",
       "      <td>britain consid suggest give bodi charg uphold ...</td>\n",
       "      <td>0.3818</td>\n",
       "      <td>Positive</td>\n",
       "    </tr>\n",
       "  </tbody>\n",
       "</table>\n",
       "<p>35515 rows × 5 columns</p>\n",
       "</div>"
      ],
      "text/plain": [
       "                                               Headlines  \\\n",
       "0      Jim Cramer: A better way to invest in the Covi...   \n",
       "1         Cramer's lightning round: I would own Teradyne   \n",
       "2      Cramer's week ahead: Big week for earnings, ev...   \n",
       "3      IQ Capital CEO Keith Bliss says tech and healt...   \n",
       "4      Wall Street delivered the 'kind of pullback I'...   \n",
       "...                                                  ...   \n",
       "32765  Malaysia says never hired British data firm at...   \n",
       "32766  Prosecutors search Volkswagen headquarters in ...   \n",
       "32767   McDonald's sets greenhouse gas reduction targets   \n",
       "32768  Pratt & Whitney to deliver spare A320neo engin...   \n",
       "32769  UK will always consider ways to improve data l...   \n",
       "\n",
       "                                 Time  \\\n",
       "0       7:51  PM ET Fri, 17 July 2020   \n",
       "1       7:33  PM ET Fri, 17 July 2020   \n",
       "2       7:25  PM ET Fri, 17 July 2020   \n",
       "3       4:24  PM ET Fri, 17 July 2020   \n",
       "4       7:36  PM ET Thu, 16 July 2020   \n",
       "...                               ...   \n",
       "32765                     Mar 20 2018   \n",
       "32766                     Mar 20 2018   \n",
       "32767                     Mar 20 2018   \n",
       "32768                     Mar 20 2018   \n",
       "32769                     Mar 20 2018   \n",
       "\n",
       "                                             Description  ds_Score sentiment  \n",
       "0      mad money host jim cramer recommend buy four c...    0.2500  Positive  \n",
       "1      mad money host jim cramer ring lightn round be...   -0.4939  Negative  \n",
       "2      well pay earn noncovid compani lancet publish ...    0.5574  Positive  \n",
       "3      keith bliss iq capit ceo join close bell talk ...    0.7096  Positive  \n",
       "4      look stock highqual compani go lower even thou...   -0.6597  Negative  \n",
       "...                                                  ...       ...       ...  \n",
       "32765  malaysian govern rule parti tuesday deni ever ...    0.0000   Neutral  \n",
       "32766  german prosecutor said tuesday search volkswag...    0.0000   Neutral  \n",
       "32767  mcdonald corp tuesday announc approv scienc ba...   -0.2732  Negative  \n",
       "32768  pratt whitney soon begin deliveri spare engin ...   -0.3818  Negative  \n",
       "32769  britain consid suggest give bodi charg uphold ...    0.3818  Positive  \n",
       "\n",
       "[35515 rows x 5 columns]"
      ]
     },
     "execution_count": 35,
     "metadata": {},
     "output_type": "execute_result"
    }
   ],
   "source": [
    "# apply the function  which decides sentiment to  polarity score column\n",
    "def catogarizer(score):\n",
    "    if score>0:\n",
    "        return 'Positive'\n",
    "    elif score < 0:\n",
    "        return 'Negative'\n",
    "    else:\n",
    "        return 'Neutral'\n",
    "\n",
    "df_new['sentiment']=df_new.ds_Score.apply(catogarizer)\n",
    "df_new"
   ]
  },
  {
   "cell_type": "code",
   "execution_count": 170,
   "metadata": {
    "colab": {
     "base_uri": "https://localhost:8080/",
     "height": 297
    },
    "id": "BMaNV0ayeBoI",
    "outputId": "34766863-6362-45a5-c27d-a7baf76e6223",
    "scrolled": false
   },
   "outputs": [
    {
     "data": {
      "image/png": "[encoded data removed]",
      "text/plain": [
       "<Figure size 1152x432 with 2 Axes>"
      ]
     },
     "metadata": {
      "needs_background": "light"
     },
     "output_type": "display_data"
    }
   ],
   "source": [
    "# plot a count plot on description score column\n",
    "plt.figure(figsize=(16,6))\n",
    "plt.subplot(1,2,1)\n",
    "sns.countplot(data=df_new,x='sentiment')\n",
    "plt.xlabel('<---Sentiment--->')\n",
    "\n",
    "plt.subplot(1,2,2)\n",
    "plt.pie(df_new.sentiment.value_counts().values,labels=df_new.sentiment.value_counts().keys(),autopct= '%.2f',explode=[0.1,0,0])\n",
    "plt.show()"
   ]
  },
  {
   "cell_type": "markdown",
   "metadata": {
    "id": "r5q_doOjIQu-"
   },
   "source": [
    "In the description ,there are approx:\n",
    "\n",
    "14000 positive statment<br>\n",
    "12000 negative statment<br>\n",
    "8000 neutral statment<br>\n",
    "\n",
    "42.43% positive statments<br>\n",
    "34.57% negtive statements<br>\n",
    "23.0% neutral statments<br>"
   ]
  },
  {
   "cell_type": "markdown",
   "metadata": {
    "id": "wgt0f3fKfakl"
   },
   "source": [
    "# Modelling on description "
   ]
  },
  {
   "cell_type": "code",
   "execution_count": 38,
   "metadata": {
    "id": "pOd6wPeUhYd2"
   },
   "outputs": [],
   "source": [
    "# split the dataset  into test and train \n",
    "# 90% train , 10% test and random state 212\n",
    "X=df_new.drop(columns=['sentiment','ds_Score'])\n",
    "Y=df_new.sentiment\n",
    "from sklearn.model_selection import train_test_split\n",
    "X_train,X_test,Y_train,Y_test=train_test_split(X,Y,test_size=0.1,random_state=212)"
   ]
  },
  {
   "cell_type": "markdown",
   "metadata": {
    "id": "hVuDdLFJkFSb"
   },
   "source": [
    "LINEAR SUPPORT VECTOR MACHINE\n"
   ]
  },
  {
   "cell_type": "code",
   "execution_count": 39,
   "metadata": {},
   "outputs": [],
   "source": [
    "from sklearn.pipeline import Pipeline\n",
    "from sklearn.feature_extraction.text import TfidfVectorizer,CountVectorizer,TfidfTransformer\n",
    "from sklearn.svm import LinearSVC\n",
    "from sklearn.metrics import accuracy_score,confusion_matrix,classification_report\n"
   ]
  },
  {
   "cell_type": "code",
   "execution_count": 40,
   "metadata": {
    "colab": {
     "base_uri": "https://localhost:8080/"
    },
    "id": "exk6nRwomgAt",
    "outputId": "5de5fd8f-a60c-4317-9c81-2baf81621a40"
   },
   "outputs": [
    {
     "name": "stdout",
     "output_type": "stream",
     "text": [
      "Accuracy Score: 0.9321509009009009\n",
      "[[1121   45   73]\n",
      " [  21  763   20]\n",
      " [  50   32 1427]]\n",
      "              precision    recall  f1-score   support\n",
      "\n",
      "    Negative       0.94      0.90      0.92      1239\n",
      "     Neutral       0.91      0.95      0.93       804\n",
      "    Positive       0.94      0.95      0.94      1509\n",
      "\n",
      "    accuracy                           0.93      3552\n",
      "   macro avg       0.93      0.93      0.93      3552\n",
      "weighted avg       0.93      0.93      0.93      3552\n",
      "\n",
      "CPU times: total: 1.33 s\n",
      "Wall time: 1.32 s\n"
     ]
    }
   ],
   "source": [
    "%%time\n",
    "# pipeline creation\n",
    "# 1. tfidVectorization\n",
    "# 2. linearSVC model\n",
    "\n",
    "pipe_svc=Pipeline([\n",
    "    ('TfidfVectorizer',TfidfVectorizer()),\n",
    "    ('LinearSVC',LinearSVC())\n",
    "])\n",
    "\n",
    "\n",
    "# Fit the pipeline to the data\n",
    "\n",
    "pipe_svc.fit(X_train.Description,Y_train)\n",
    "\n",
    "# predict on test dataset\n",
    "y_pred=pipe_svc.predict(X_test.Description)\n",
    "# print accuracy score\n",
    "print('Accuracy Score:',accuracy_score(Y_test,y_pred))\n",
    "#print confusion matrix\n",
    "print(confusion_matrix(Y_test,y_pred))\n",
    "#print classification report\n",
    "print(classification_report(Y_test,y_pred))"
   ]
  },
  {
   "cell_type": "markdown",
   "metadata": {
    "id": "6Qq4dK32kBpM"
   },
   "source": [
    "LOGISTIC REGRESSION\n"
   ]
  },
  {
   "cell_type": "code",
   "execution_count": 41,
   "metadata": {
    "colab": {
     "base_uri": "https://localhost:8080/"
    },
    "id": "0w0yNn2_mf_s",
    "outputId": "17175fb5-83c7-4204-f358-42007a8f2168"
   },
   "outputs": [
    {
     "name": "stdout",
     "output_type": "stream",
     "text": [
      "Accuracy Score: 0.8944256756756757\n",
      "[[1057   76  106]\n",
      " [  35  732   37]\n",
      " [  71   50 1388]]\n",
      "              precision    recall  f1-score   support\n",
      "\n",
      "    Negative       0.91      0.85      0.88      1239\n",
      "     Neutral       0.85      0.91      0.88       804\n",
      "    Positive       0.91      0.92      0.91      1509\n",
      "\n",
      "    accuracy                           0.89      3552\n",
      "   macro avg       0.89      0.89      0.89      3552\n",
      "weighted avg       0.90      0.89      0.89      3552\n",
      "\n",
      "CPU times: total: 2.47 s\n",
      "Wall time: 2.54 s\n"
     ]
    }
   ],
   "source": [
    "%%time\n",
    "from sklearn.linear_model import LogisticRegression\n",
    "# pipeline creation \n",
    "# 1. CountVectorization\n",
    "# 2. TfidTransformer\n",
    "# 3. Logistic Regression\n",
    "\n",
    "pipe_logr=Pipeline([\n",
    "    ('CountVectorizer',CountVectorizer()),\n",
    "    ('TfidTransformer',TfidfTransformer()),\n",
    "    ('LogisticRegression',LogisticRegression())\n",
    "])\n",
    "\n",
    "# Fit the pipeline to the data\n",
    "\n",
    "pipe_logr.fit(X_train.Description,Y_train)\n",
    "\n",
    "# predict on test dataset\n",
    "y_pred=pipe_logr.predict(X_test.Description)\n",
    "# print accuracy score\n",
    "print('Accuracy Score:',accuracy_score(Y_test,y_pred))\n",
    "#print confusion matrix\n",
    "print(confusion_matrix(Y_test,y_pred))\n",
    "#print classification report\n",
    "print(classification_report(Y_test,y_pred))"
   ]
  },
  {
   "cell_type": "markdown",
   "metadata": {
    "id": "XbFrK_pXj-HC"
   },
   "source": [
    "MULTINOMIAL NAIVE BAYES\n"
   ]
  },
  {
   "cell_type": "code",
   "execution_count": 42,
   "metadata": {
    "colab": {
     "base_uri": "https://localhost:8080/"
    },
    "id": "ag3ceKiEmfxR",
    "outputId": "2d14e551-23eb-4ced-d133-e5fd561f7c72"
   },
   "outputs": [
    {
     "name": "stdout",
     "output_type": "stream",
     "text": [
      "Accuracy Score: 0.6399211711711712\n",
      "[[ 808    8  423]\n",
      " [ 150   87  567]\n",
      " [ 128    3 1378]]\n",
      "              precision    recall  f1-score   support\n",
      "\n",
      "    Negative       0.74      0.65      0.70      1239\n",
      "     Neutral       0.89      0.11      0.19       804\n",
      "    Positive       0.58      0.91      0.71      1509\n",
      "\n",
      "    accuracy                           0.64      3552\n",
      "   macro avg       0.74      0.56      0.53      3552\n",
      "weighted avg       0.71      0.64      0.59      3552\n",
      "\n",
      "CPU times: total: 703 ms\n",
      "Wall time: 715 ms\n"
     ]
    }
   ],
   "source": [
    "%%time\n",
    "from sklearn.feature_extraction.text import CountVectorizer\n",
    "from sklearn.feature_extraction.text import TfidfTransformer\n",
    "from sklearn.naive_bayes import MultinomialNB\n",
    "# pipeline creation \n",
    "# 1. CountVectorizer\n",
    "# 2. TfidTransformer\n",
    "# 3. MultinomialNB\n",
    "pipe_mnb=Pipeline([\n",
    "    ('CountVectorizer',CountVectorizer()),\n",
    "    ('TfidTransformer',TfidfTransformer()),\n",
    "    ('MultinomialNB',MultinomialNB())\n",
    "])\n",
    "\n",
    "# Fit the pipeline to the data\n",
    "\n",
    "pipe_mnb.fit(X_train.Description,Y_train)\n",
    "\n",
    "# predict on test dataset\n",
    "y_pred=pipe_mnb.predict(X_test.Description)\n",
    "# print accuracy score\n",
    "print('Accuracy Score:',accuracy_score(Y_test,y_pred))\n",
    "#print confusion matrix\n",
    "print(confusion_matrix(Y_test,y_pred))\n",
    "#print classification report\n",
    "print(classification_report(Y_test,y_pred))"
   ]
  },
  {
   "cell_type": "markdown",
   "metadata": {
    "id": "-79YSosbj7HP"
   },
   "source": [
    "BERNOULLI NAIVE BAYES\n"
   ]
  },
  {
   "cell_type": "code",
   "execution_count": 43,
   "metadata": {
    "colab": {
     "base_uri": "https://localhost:8080/"
    },
    "id": "N-ftjtoEmfsP",
    "outputId": "fc46a6c1-da3e-46e4-a2f1-37e562cf708c"
   },
   "outputs": [
    {
     "name": "stdout",
     "output_type": "stream",
     "text": [
      "Accuracy Score: 0.7393018018018018\n",
      "[[ 919   56  264]\n",
      " [ 136  479  189]\n",
      " [ 210   71 1228]]\n",
      "              precision    recall  f1-score   support\n",
      "\n",
      "    Negative       0.73      0.74      0.73      1239\n",
      "     Neutral       0.79      0.60      0.68       804\n",
      "    Positive       0.73      0.81      0.77      1509\n",
      "\n",
      "    accuracy                           0.74      3552\n",
      "   macro avg       0.75      0.72      0.73      3552\n",
      "weighted avg       0.74      0.74      0.74      3552\n",
      "\n",
      "CPU times: total: 719 ms\n",
      "Wall time: 717 ms\n"
     ]
    }
   ],
   "source": [
    "%%time\n",
    "from sklearn.naive_bayes import BernoulliNB\n",
    "# pipeline creation \n",
    "# 1. CountVectorizer\n",
    "# 2. TfidTransformer\n",
    "# 3. BernoulliNB\n",
    "\n",
    "pipe_bnb=Pipeline([\n",
    "    ('CountVectorizer',CountVectorizer()),\n",
    "    ('TfidTransformer',TfidfTransformer()),\n",
    "    ('BernoulliNB',BernoulliNB())\n",
    "])\n",
    "\n",
    "# Fit the pipeline to the data\n",
    "\n",
    "pipe_bnb.fit(X_train.Description,Y_train)\n",
    "\n",
    "# predict on test dataset\n",
    "y_pred=pipe_bnb.predict(X_test.Description)\n",
    "# print accuracy score\n",
    "print('Accuracy Score:',accuracy_score(Y_test,y_pred))\n",
    "#print confusion matrix\n",
    "print(confusion_matrix(Y_test,y_pred))\n",
    "#print classification report\n",
    "print(classification_report(Y_test,y_pred))"
   ]
  },
  {
   "cell_type": "markdown",
   "metadata": {
    "id": "DDcEnl9uj3yl"
   },
   "source": [
    "GRADIENT BOOSTING CLASSIFICATION MODEL\n"
   ]
  },
  {
   "cell_type": "code",
   "execution_count": 44,
   "metadata": {
    "colab": {
     "base_uri": "https://localhost:8080/"
    },
    "id": "vTT-HmujmfrR",
    "outputId": "8987cfa9-952f-4c27-cd42-452a26a479bb"
   },
   "outputs": [
    {
     "name": "stdout",
     "output_type": "stream",
     "text": [
      "Accuracy Score: 0.8403716216216216\n",
      "[[ 902  170  167]\n",
      " [  10  785    9]\n",
      " [  66  145 1298]]\n",
      "              precision    recall  f1-score   support\n",
      "\n",
      "    Negative       0.92      0.73      0.81      1239\n",
      "     Neutral       0.71      0.98      0.82       804\n",
      "    Positive       0.88      0.86      0.87      1509\n",
      "\n",
      "    accuracy                           0.84      3552\n",
      "   macro avg       0.84      0.85      0.84      3552\n",
      "weighted avg       0.86      0.84      0.84      3552\n",
      "\n",
      "CPU times: total: 54.4 s\n",
      "Wall time: 54.5 s\n"
     ]
    }
   ],
   "source": [
    "%%time\n",
    "from sklearn.ensemble import GradientBoostingClassifier\n",
    "# pipeline creation \n",
    "# 1. CountVectorizer\n",
    "# 2. TfidTransformer\n",
    "# 3. GradientBoostingClassifier\n",
    "\n",
    "pipe_gbc=Pipeline([\n",
    "    ('CountVectorizer',CountVectorizer()),\n",
    "    ('TfidTransformer',TfidfTransformer()),\n",
    "    ('GradientBoostingClassifier',GradientBoostingClassifier())\n",
    "])\n",
    "\n",
    "# Fit the pipeline to the data\n",
    "\n",
    "pipe_gbc.fit(X_train.Description,Y_train)\n",
    "\n",
    "# predict on test dataset\n",
    "y_pred=pipe_gbc.predict(X_test.Description)\n",
    "# print accuracy score\n",
    "print('Accuracy Score:',accuracy_score(Y_test,y_pred))\n",
    "#print confusion matrix\n",
    "print(confusion_matrix(Y_test,y_pred))\n",
    "#print classification report\n",
    "print(classification_report(Y_test,y_pred))"
   ]
  },
  {
   "cell_type": "markdown",
   "metadata": {
    "id": "hwMk-HFAjzP-"
   },
   "source": [
    "XGBOOST CLASSIFICATION MODEL\n"
   ]
  },
  {
   "cell_type": "code",
   "execution_count": 45,
   "metadata": {},
   "outputs": [],
   "source": [
    "from sklearn.preprocessing import LabelEncoder"
   ]
  },
  {
   "cell_type": "code",
   "execution_count": 46,
   "metadata": {
    "colab": {
     "base_uri": "https://localhost:8080/"
    },
    "id": "1M8E7hmnmfn1",
    "outputId": "739370a5-ba74-4119-8f09-591adaed55f7",
    "scrolled": true
   },
   "outputs": [
    {
     "name": "stdout",
     "output_type": "stream",
     "text": [
      "Accuracy Score: 0.8834459459459459\n",
      "[[ 993  129  117]\n",
      " [  12  785    7]\n",
      " [  58   91 1360]]\n",
      "              precision    recall  f1-score   support\n",
      "\n",
      "           0       0.93      0.80      0.86      1239\n",
      "           1       0.78      0.98      0.87       804\n",
      "           2       0.92      0.90      0.91      1509\n",
      "\n",
      "    accuracy                           0.88      3552\n",
      "   macro avg       0.88      0.89      0.88      3552\n",
      "weighted avg       0.89      0.88      0.88      3552\n",
      "\n",
      "CPU times: total: 1min 32s\n",
      "Wall time: 14.8 s\n"
     ]
    }
   ],
   "source": [
    "%%time\n",
    "from xgboost import XGBClassifier\n",
    "# pipeline creation \n",
    "# 1. CountVectorizer\n",
    "# 2. TfidTransformer\n",
    "# 3. XGBClassifier\n",
    "\n",
    "pipe_xg=Pipeline([\n",
    "    ('CountVectorizer',CountVectorizer()),\n",
    "    ('TfidTransformer',TfidfTransformer()),\n",
    "    ('XGBClassifier',XGBClassifier())\n",
    "])\n",
    "\n",
    "encoder = LabelEncoder()\n",
    "enc_train = encoder.fit_transform(Y_train)\n",
    "enc_test = encoder.fit_transform(Y_test)\n",
    "# Fit the pipeline to the data\n",
    "\n",
    "pipe_xg.fit(X_train.Description,enc_train)\n",
    "\n",
    "# predict on test dataset\n",
    "y_pred=pipe_xg.predict(X_test.Description)\n",
    "# print accuracy score\n",
    "print('Accuracy Score:',accuracy_score(enc_test,y_pred))\n",
    "#print confusion matrix\n",
    "print(confusion_matrix(enc_test,y_pred))\n",
    "#print classification report\n",
    "print(classification_report(enc_test,y_pred))\n"
   ]
  },
  {
   "cell_type": "markdown",
   "metadata": {
    "id": "8RvWy4tSjwDV"
   },
   "source": [
    "DECISION TREE CLASSIFICATION MODEL\n"
   ]
  },
  {
   "cell_type": "code",
   "execution_count": 47,
   "metadata": {
    "colab": {
     "base_uri": "https://localhost:8080/"
    },
    "id": "63xamISqmfmd",
    "outputId": "f4c8b146-0b8b-49a0-bd3a-b40f67372709"
   },
   "outputs": [
    {
     "name": "stdout",
     "output_type": "stream",
     "text": [
      "Accuracy Score: 0.8733108108108109\n",
      "[[1018   21  200]\n",
      " [  15  777   12]\n",
      " [ 190   12 1307]]\n",
      "              precision    recall  f1-score   support\n",
      "\n",
      "    Negative       0.83      0.82      0.83      1239\n",
      "     Neutral       0.96      0.97      0.96       804\n",
      "    Positive       0.86      0.87      0.86      1509\n",
      "\n",
      "    accuracy                           0.87      3552\n",
      "   macro avg       0.88      0.88      0.88      3552\n",
      "weighted avg       0.87      0.87      0.87      3552\n",
      "\n",
      "CPU times: total: 15.2 s\n",
      "Wall time: 14.9 s\n"
     ]
    }
   ],
   "source": [
    "%%time\n",
    "from sklearn.tree import DecisionTreeClassifier\n",
    "# pipeline creation \n",
    "# 1. CountVectorizer\n",
    "# 2. TfidTransformer\n",
    "# 3. Decision tree classifier\n",
    "\n",
    "pipe_dt=Pipeline([\n",
    "    ('CountVectorizer',CountVectorizer()),\n",
    "    ('TfidTransformer',TfidfTransformer()),\n",
    "    ('DTC',DecisionTreeClassifier())\n",
    "])\n",
    "\n",
    "\n",
    "\n",
    "# Fit the pipeline to the data\n",
    "\n",
    "pipe_dt.fit(X_train.Description,Y_train)\n",
    "\n",
    "# predict on test dataset\n",
    "y_pred=pipe_dt.predict(X_test.Description)\n",
    "# print accuracy score\n",
    "print('Accuracy Score:',accuracy_score(Y_test,y_pred))\n",
    "#print confusion matrix\n",
    "print(confusion_matrix(Y_test,y_pred))\n",
    "#print classification report\n",
    "print(classification_report(Y_test,y_pred))"
   ]
  },
  {
   "cell_type": "markdown",
   "metadata": {
    "id": "LenIHULAjsrv"
   },
   "source": [
    "K- NEAREST NEIGHBOUR CLASSIFIER MODEL\n"
   ]
  },
  {
   "cell_type": "code",
   "execution_count": 48,
   "metadata": {
    "colab": {
     "base_uri": "https://localhost:8080/"
    },
    "id": "UtU2_7-MzQ6N",
    "outputId": "ed7a03b4-1efd-432f-e1d2-aa0e4f2375e8",
    "scrolled": true
   },
   "outputs": [
    {
     "name": "stdout",
     "output_type": "stream",
     "text": [
      "Accuracy Score: 0.5509572072072072\n",
      "[[816 170 253]\n",
      " [256 292 256]\n",
      " [393 267 849]]\n",
      "              precision    recall  f1-score   support\n",
      "\n",
      "    Negative       0.56      0.66      0.60      1239\n",
      "     Neutral       0.40      0.36      0.38       804\n",
      "    Positive       0.63      0.56      0.59      1509\n",
      "\n",
      "    accuracy                           0.55      3552\n",
      "   macro avg       0.53      0.53      0.53      3552\n",
      "weighted avg       0.55      0.55      0.55      3552\n",
      "\n",
      "CPU times: total: 3.53 s\n",
      "Wall time: 3.55 s\n"
     ]
    }
   ],
   "source": [
    "%%time\n",
    "from sklearn.neighbors import KNeighborsClassifier\n",
    "# pipeline creation \n",
    "# 1. CountVectorizer\n",
    "# 2. TfidTransformer\n",
    "# 3. KNN classifier\n",
    "\n",
    "pipe_knn=Pipeline([\n",
    "    ('CountVectorizer',CountVectorizer()),\n",
    "    ('TfidTransformer',TfidfTransformer()),\n",
    "    ('DTC',KNeighborsClassifier())\n",
    "])\n",
    "\n",
    "\n",
    "\n",
    "# Fit the pipeline to the data\n",
    "\n",
    "pipe_knn.fit(X_train.Description,Y_train)\n",
    "\n",
    "\n",
    "# predict on test dataset\n",
    "y_pred=pipe_knn.predict(X_test.Description)\n",
    "# print accuracy score\n",
    "print('Accuracy Score:',accuracy_score(Y_test,y_pred))\n",
    "#print confusion matrix\n",
    "print(confusion_matrix(Y_test,y_pred))\n",
    "#print classification report\n",
    "print(classification_report(Y_test,y_pred))"
   ]
  },
  {
   "cell_type": "code",
   "execution_count": 49,
   "metadata": {},
   "outputs": [],
   "source": [
    "from sklearn.metrics import recall_score,precision_score,f1_score"
   ]
  },
  {
   "cell_type": "code",
   "execution_count": 50,
   "metadata": {
    "id": "MlOKo4d2wkm3"
   },
   "outputs": [],
   "source": [
    "# helper function for comparing models matric\n",
    "def score(model_obj,model_names,X_test,y_test):\n",
    "    metrics_df=pd.DataFrame(columns=['model_names','accuracy','precision','recall','f1_score'])\n",
    "    metrics_df.model_names=model_names\n",
    "    \n",
    "    metrics_df.accuracy=[accuracy_score(y_test,model.predict(X_test)) if model != pipe_xg else accuracy_score(enc_test,model.predict(X_test)) for model in model_obj]\n",
    "    \n",
    "    metrics_df.precision=[precision_score(y_test,model.predict(X_test),average='weighted') if model != pipe_xg else precision_score(enc_test,model.predict(X_test),average='weighted') for model in model_obj]\n",
    "    \n",
    "    metrics_df.recall=[recall_score(y_test,model.predict(X_test),average='weighted') if model != pipe_xg else recall_score(enc_test,model.predict(X_test),average='weighted') for model in model_obj]\n",
    "    \n",
    "    metrics_df.f1_score=[f1_score(y_test,model.predict(X_test),average='weighted') if model != pipe_xg else f1_score(enc_test,model.predict(X_test),average='weighted') for model in model_obj]\n",
    "\n",
    "   \n",
    "    return metrics_df\n",
    "    "
   ]
  },
  {
   "cell_type": "code",
   "execution_count": 51,
   "metadata": {
    "colab": {
     "base_uri": "https://localhost:8080/"
    },
    "id": "4A6ZI1hQwkhO",
    "outputId": "bd76815b-6c62-4ff0-c201-5ef627257d9e"
   },
   "outputs": [
    {
     "data": {
      "text/html": [
       "<div>\n",
       "<style scoped>\n",
       "    .dataframe tbody tr th:only-of-type {\n",
       "        vertical-align: middle;\n",
       "    }\n",
       "\n",
       "    .dataframe tbody tr th {\n",
       "        vertical-align: top;\n",
       "    }\n",
       "\n",
       "    .dataframe thead th {\n",
       "        text-align: right;\n",
       "    }\n",
       "</style>\n",
       "<table border=\"1\" class=\"dataframe\">\n",
       "  <thead>\n",
       "    <tr style=\"text-align: right;\">\n",
       "      <th></th>\n",
       "      <th>model_names</th>\n",
       "      <th>accuracy</th>\n",
       "      <th>precision</th>\n",
       "      <th>recall</th>\n",
       "      <th>f1_score</th>\n",
       "    </tr>\n",
       "  </thead>\n",
       "  <tbody>\n",
       "    <tr>\n",
       "      <th>0</th>\n",
       "      <td>LinearSVC</td>\n",
       "      <td>0.932151</td>\n",
       "      <td>0.932481</td>\n",
       "      <td>0.932151</td>\n",
       "      <td>0.932090</td>\n",
       "    </tr>\n",
       "    <tr>\n",
       "      <th>1</th>\n",
       "      <td>LogRegression</td>\n",
       "      <td>0.894426</td>\n",
       "      <td>0.895287</td>\n",
       "      <td>0.894426</td>\n",
       "      <td>0.894317</td>\n",
       "    </tr>\n",
       "    <tr>\n",
       "      <th>2</th>\n",
       "      <td>MultinomialNB</td>\n",
       "      <td>0.639921</td>\n",
       "      <td>0.707690</td>\n",
       "      <td>0.639921</td>\n",
       "      <td>0.588106</td>\n",
       "    </tr>\n",
       "    <tr>\n",
       "      <th>3</th>\n",
       "      <td>BernoulliNB</td>\n",
       "      <td>0.739302</td>\n",
       "      <td>0.742671</td>\n",
       "      <td>0.739302</td>\n",
       "      <td>0.736911</td>\n",
       "    </tr>\n",
       "    <tr>\n",
       "      <th>4</th>\n",
       "      <td>GradientBoost</td>\n",
       "      <td>0.840372</td>\n",
       "      <td>0.857349</td>\n",
       "      <td>0.840372</td>\n",
       "      <td>0.840197</td>\n",
       "    </tr>\n",
       "    <tr>\n",
       "      <th>5</th>\n",
       "      <td>XGBoost</td>\n",
       "      <td>0.883446</td>\n",
       "      <td>0.891982</td>\n",
       "      <td>0.883446</td>\n",
       "      <td>0.883462</td>\n",
       "    </tr>\n",
       "    <tr>\n",
       "      <th>6</th>\n",
       "      <td>Decision Tree</td>\n",
       "      <td>0.873311</td>\n",
       "      <td>0.873018</td>\n",
       "      <td>0.873311</td>\n",
       "      <td>0.873145</td>\n",
       "    </tr>\n",
       "    <tr>\n",
       "      <th>7</th>\n",
       "      <td>KNN</td>\n",
       "      <td>0.550957</td>\n",
       "      <td>0.550553</td>\n",
       "      <td>0.550957</td>\n",
       "      <td>0.548367</td>\n",
       "    </tr>\n",
       "  </tbody>\n",
       "</table>\n",
       "</div>"
      ],
      "text/plain": [
       "     model_names  accuracy  precision    recall  f1_score\n",
       "0      LinearSVC  0.932151   0.932481  0.932151  0.932090\n",
       "1  LogRegression  0.894426   0.895287  0.894426  0.894317\n",
       "2  MultinomialNB  0.639921   0.707690  0.639921  0.588106\n",
       "3    BernoulliNB  0.739302   0.742671  0.739302  0.736911\n",
       "4  GradientBoost  0.840372   0.857349  0.840372  0.840197\n",
       "5        XGBoost  0.883446   0.891982  0.883446  0.883462\n",
       "6  Decision Tree  0.873311   0.873018  0.873311  0.873145\n",
       "7            KNN  0.550957   0.550553  0.550957  0.548367"
      ]
     },
     "execution_count": 51,
     "metadata": {},
     "output_type": "execute_result"
    }
   ],
   "source": [
    "# list of model objects\n",
    "model_objects = [pipe_svc,pipe_logr,pipe_mnb,pipe_bnb,pipe_gbc,pipe_xg,pipe_dt,pipe_knn]\n",
    "# list of model name\n",
    "names=['LinearSVC', 'LogRegression','MultinomialNB','BernoulliNB','GradientBoost','XGBoost','Decision Tree','KNN']\n",
    "# print the comparison of models\n",
    "score(model_objects,names,X_test.Description,Y_test)"
   ]
  },
  {
   "cell_type": "markdown",
   "metadata": {},
   "source": [
    "LinearSVC is performing Best accuracy of **93.21** and f1 score of **93.20**"
   ]
  },
  {
   "cell_type": "markdown",
   "metadata": {
    "id": "YxNC09uekdZH"
   },
   "source": [
    "# working with test dataset"
   ]
  },
  {
   "cell_type": "code",
   "execution_count": 52,
   "metadata": {
    "colab": {
     "base_uri": "https://localhost:8080/"
    },
    "id": "P_XD4m1Fkh3i",
    "outputId": "bfaa4a5b-f52a-4064-8e5c-66b939deab41"
   },
   "outputs": [
    {
     "data": {
      "text/plain": [
       "array(['Negative', 'Positive', 'Positive', ..., 'Positive', 'Positive',\n",
       "       'Positive'], dtype=object)"
      ]
     },
     "execution_count": 52,
     "metadata": {},
     "output_type": "execute_result"
    }
   ],
   "source": [
    "# Perforn the prediction on the test dataset\n",
    "y_predicted=pipe_svc.predict(X_test.Description)\n",
    "y_predicted"
   ]
  },
  {
   "cell_type": "code",
   "execution_count": 53,
   "metadata": {
    "id": "U4cHKaw6khr_"
   },
   "outputs": [],
   "source": [
    "# creating a dataframe of predicted results \n",
    "pred_svc1=pd.DataFrame({'Predicted':y_predicted,'True':Y_test})"
   ]
  },
  {
   "cell_type": "code",
   "execution_count": 54,
   "metadata": {
    "colab": {
     "base_uri": "https://localhost:8080/",
     "height": 202
    },
    "id": "91noUUWikhD5",
    "outputId": "f0787fe5-700e-46e6-8f70-b83d36bfa83f"
   },
   "outputs": [
    {
     "data": {
      "text/html": [
       "<div>\n",
       "<style scoped>\n",
       "    .dataframe tbody tr th:only-of-type {\n",
       "        vertical-align: middle;\n",
       "    }\n",
       "\n",
       "    .dataframe tbody tr th {\n",
       "        vertical-align: top;\n",
       "    }\n",
       "\n",
       "    .dataframe thead th {\n",
       "        text-align: right;\n",
       "    }\n",
       "</style>\n",
       "<table border=\"1\" class=\"dataframe\">\n",
       "  <thead>\n",
       "    <tr style=\"text-align: right;\">\n",
       "      <th></th>\n",
       "      <th>Predicted</th>\n",
       "      <th>True</th>\n",
       "    </tr>\n",
       "  </thead>\n",
       "  <tbody>\n",
       "    <tr>\n",
       "      <th>24688</th>\n",
       "      <td>Negative</td>\n",
       "      <td>Negative</td>\n",
       "    </tr>\n",
       "    <tr>\n",
       "      <th>26461</th>\n",
       "      <td>Positive</td>\n",
       "      <td>Positive</td>\n",
       "    </tr>\n",
       "    <tr>\n",
       "      <th>10242</th>\n",
       "      <td>Positive</td>\n",
       "      <td>Positive</td>\n",
       "    </tr>\n",
       "    <tr>\n",
       "      <th>11483</th>\n",
       "      <td>Positive</td>\n",
       "      <td>Positive</td>\n",
       "    </tr>\n",
       "    <tr>\n",
       "      <th>26934</th>\n",
       "      <td>Negative</td>\n",
       "      <td>Negative</td>\n",
       "    </tr>\n",
       "  </tbody>\n",
       "</table>\n",
       "</div>"
      ],
      "text/plain": [
       "      Predicted      True\n",
       "24688  Negative  Negative\n",
       "26461  Positive  Positive\n",
       "10242  Positive  Positive\n",
       "11483  Positive  Positive\n",
       "26934  Negative  Negative"
      ]
     },
     "execution_count": 54,
     "metadata": {},
     "output_type": "execute_result"
    }
   ],
   "source": [
    "pred_svc1.head()"
   ]
  },
  {
   "cell_type": "markdown",
   "metadata": {
    "id": "LcDOjy2MfkG2"
   },
   "source": [
    "# Now working with headlines + description"
   ]
  },
  {
   "cell_type": "code",
   "execution_count": 52,
   "metadata": {
    "colab": {
     "base_uri": "https://localhost:8080/",
     "height": 202
    },
    "id": "HOSweU4mzTgq",
    "outputId": "ad66fc23-e9f7-473c-d7bb-5520937d7698"
   },
   "outputs": [
    {
     "data": {
      "text/html": [
       "<div>\n",
       "<style scoped>\n",
       "    .dataframe tbody tr th:only-of-type {\n",
       "        vertical-align: middle;\n",
       "    }\n",
       "\n",
       "    .dataframe tbody tr th {\n",
       "        vertical-align: top;\n",
       "    }\n",
       "\n",
       "    .dataframe thead th {\n",
       "        text-align: right;\n",
       "    }\n",
       "</style>\n",
       "<table border=\"1\" class=\"dataframe\">\n",
       "  <thead>\n",
       "    <tr style=\"text-align: right;\">\n",
       "      <th></th>\n",
       "      <th>Headlines</th>\n",
       "      <th>Time</th>\n",
       "      <th>Description</th>\n",
       "      <th>ds_Score</th>\n",
       "      <th>sentiment</th>\n",
       "      <th>info</th>\n",
       "    </tr>\n",
       "  </thead>\n",
       "  <tbody>\n",
       "    <tr>\n",
       "      <th>0</th>\n",
       "      <td>Jim Cramer: A better way to invest in the Covi...</td>\n",
       "      <td>7:51  PM ET Fri, 17 July 2020</td>\n",
       "      <td>mad money host jim cramer recommend buy four c...</td>\n",
       "      <td>0.2500</td>\n",
       "      <td>Positive</td>\n",
       "      <td>Jim Cramer: A better way to invest in the Covi...</td>\n",
       "    </tr>\n",
       "    <tr>\n",
       "      <th>1</th>\n",
       "      <td>Cramer's lightning round: I would own Teradyne</td>\n",
       "      <td>7:33  PM ET Fri, 17 July 2020</td>\n",
       "      <td>mad money host jim cramer ring lightn round be...</td>\n",
       "      <td>-0.4939</td>\n",
       "      <td>Negative</td>\n",
       "      <td>Cramer's lightning round: I would own Teradyne...</td>\n",
       "    </tr>\n",
       "    <tr>\n",
       "      <th>2</th>\n",
       "      <td>Cramer's week ahead: Big week for earnings, ev...</td>\n",
       "      <td>7:25  PM ET Fri, 17 July 2020</td>\n",
       "      <td>well pay earn noncovid compani lancet publish ...</td>\n",
       "      <td>0.5574</td>\n",
       "      <td>Positive</td>\n",
       "      <td>Cramer's week ahead: Big week for earnings, ev...</td>\n",
       "    </tr>\n",
       "    <tr>\n",
       "      <th>3</th>\n",
       "      <td>IQ Capital CEO Keith Bliss says tech and healt...</td>\n",
       "      <td>4:24  PM ET Fri, 17 July 2020</td>\n",
       "      <td>keith bliss iq capit ceo join close bell talk ...</td>\n",
       "      <td>0.7096</td>\n",
       "      <td>Positive</td>\n",
       "      <td>IQ Capital CEO Keith Bliss says tech and healt...</td>\n",
       "    </tr>\n",
       "    <tr>\n",
       "      <th>4</th>\n",
       "      <td>Wall Street delivered the 'kind of pullback I'...</td>\n",
       "      <td>7:36  PM ET Thu, 16 July 2020</td>\n",
       "      <td>look stock highqual compani go lower even thou...</td>\n",
       "      <td>-0.6597</td>\n",
       "      <td>Negative</td>\n",
       "      <td>Wall Street delivered the 'kind of pullback I'...</td>\n",
       "    </tr>\n",
       "    <tr>\n",
       "      <th>...</th>\n",
       "      <td>...</td>\n",
       "      <td>...</td>\n",
       "      <td>...</td>\n",
       "      <td>...</td>\n",
       "      <td>...</td>\n",
       "      <td>...</td>\n",
       "    </tr>\n",
       "    <tr>\n",
       "      <th>32765</th>\n",
       "      <td>Malaysia says never hired British data firm at...</td>\n",
       "      <td>Mar 20 2018</td>\n",
       "      <td>malaysian govern rule parti tuesday deni ever ...</td>\n",
       "      <td>0.0000</td>\n",
       "      <td>Neutral</td>\n",
       "      <td>Malaysia says never hired British data firm at...</td>\n",
       "    </tr>\n",
       "    <tr>\n",
       "      <th>32766</th>\n",
       "      <td>Prosecutors search Volkswagen headquarters in ...</td>\n",
       "      <td>Mar 20 2018</td>\n",
       "      <td>german prosecutor said tuesday search volkswag...</td>\n",
       "      <td>0.0000</td>\n",
       "      <td>Neutral</td>\n",
       "      <td>Prosecutors search Volkswagen headquarters in ...</td>\n",
       "    </tr>\n",
       "    <tr>\n",
       "      <th>32767</th>\n",
       "      <td>McDonald's sets greenhouse gas reduction targets</td>\n",
       "      <td>Mar 20 2018</td>\n",
       "      <td>mcdonald corp tuesday announc approv scienc ba...</td>\n",
       "      <td>-0.2732</td>\n",
       "      <td>Negative</td>\n",
       "      <td>McDonald's sets greenhouse gas reduction targe...</td>\n",
       "    </tr>\n",
       "    <tr>\n",
       "      <th>32768</th>\n",
       "      <td>Pratt &amp; Whitney to deliver spare A320neo engin...</td>\n",
       "      <td>Mar 20 2018</td>\n",
       "      <td>pratt whitney soon begin deliveri spare engin ...</td>\n",
       "      <td>-0.3818</td>\n",
       "      <td>Negative</td>\n",
       "      <td>Pratt &amp; Whitney to deliver spare A320neo engin...</td>\n",
       "    </tr>\n",
       "    <tr>\n",
       "      <th>32769</th>\n",
       "      <td>UK will always consider ways to improve data l...</td>\n",
       "      <td>Mar 20 2018</td>\n",
       "      <td>britain consid suggest give bodi charg uphold ...</td>\n",
       "      <td>0.3818</td>\n",
       "      <td>Positive</td>\n",
       "      <td>UK will always consider ways to improve data l...</td>\n",
       "    </tr>\n",
       "  </tbody>\n",
       "</table>\n",
       "<p>35515 rows × 6 columns</p>\n",
       "</div>"
      ],
      "text/plain": [
       "                                               Headlines  \\\n",
       "0      Jim Cramer: A better way to invest in the Covi...   \n",
       "1         Cramer's lightning round: I would own Teradyne   \n",
       "2      Cramer's week ahead: Big week for earnings, ev...   \n",
       "3      IQ Capital CEO Keith Bliss says tech and healt...   \n",
       "4      Wall Street delivered the 'kind of pullback I'...   \n",
       "...                                                  ...   \n",
       "32765  Malaysia says never hired British data firm at...   \n",
       "32766  Prosecutors search Volkswagen headquarters in ...   \n",
       "32767   McDonald's sets greenhouse gas reduction targets   \n",
       "32768  Pratt & Whitney to deliver spare A320neo engin...   \n",
       "32769  UK will always consider ways to improve data l...   \n",
       "\n",
       "                                 Time  \\\n",
       "0       7:51  PM ET Fri, 17 July 2020   \n",
       "1       7:33  PM ET Fri, 17 July 2020   \n",
       "2       7:25  PM ET Fri, 17 July 2020   \n",
       "3       4:24  PM ET Fri, 17 July 2020   \n",
       "4       7:36  PM ET Thu, 16 July 2020   \n",
       "...                               ...   \n",
       "32765                     Mar 20 2018   \n",
       "32766                     Mar 20 2018   \n",
       "32767                     Mar 20 2018   \n",
       "32768                     Mar 20 2018   \n",
       "32769                     Mar 20 2018   \n",
       "\n",
       "                                             Description  ds_Score sentiment  \\\n",
       "0      mad money host jim cramer recommend buy four c...    0.2500  Positive   \n",
       "1      mad money host jim cramer ring lightn round be...   -0.4939  Negative   \n",
       "2      well pay earn noncovid compani lancet publish ...    0.5574  Positive   \n",
       "3      keith bliss iq capit ceo join close bell talk ...    0.7096  Positive   \n",
       "4      look stock highqual compani go lower even thou...   -0.6597  Negative   \n",
       "...                                                  ...       ...       ...   \n",
       "32765  malaysian govern rule parti tuesday deni ever ...    0.0000   Neutral   \n",
       "32766  german prosecutor said tuesday search volkswag...    0.0000   Neutral   \n",
       "32767  mcdonald corp tuesday announc approv scienc ba...   -0.2732  Negative   \n",
       "32768  pratt whitney soon begin deliveri spare engin ...   -0.3818  Negative   \n",
       "32769  britain consid suggest give bodi charg uphold ...    0.3818  Positive   \n",
       "\n",
       "                                                    info  \n",
       "0      Jim Cramer: A better way to invest in the Covi...  \n",
       "1      Cramer's lightning round: I would own Teradyne...  \n",
       "2      Cramer's week ahead: Big week for earnings, ev...  \n",
       "3      IQ Capital CEO Keith Bliss says tech and healt...  \n",
       "4      Wall Street delivered the 'kind of pullback I'...  \n",
       "...                                                  ...  \n",
       "32765  Malaysia says never hired British data firm at...  \n",
       "32766  Prosecutors search Volkswagen headquarters in ...  \n",
       "32767  McDonald's sets greenhouse gas reduction targe...  \n",
       "32768  Pratt & Whitney to deliver spare A320neo engin...  \n",
       "32769  UK will always consider ways to improve data l...  \n",
       "\n",
       "[35515 rows x 6 columns]"
      ]
     },
     "execution_count": 52,
     "metadata": {},
     "output_type": "execute_result"
    }
   ],
   "source": [
    "# merge headlines and description of new dataset and name it info\n",
    "mergerd_df_new=df_new.copy()\n",
    "mergerd_df_new['info']=mergerd_df_new['Headlines']+mergerd_df_new['Description']\n",
    "mergerd_df_new"
   ]
  },
  {
   "cell_type": "code",
   "execution_count": 53,
   "metadata": {
    "colab": {
     "base_uri": "https://localhost:8080/",
     "height": 202
    },
    "id": "_ZTFzLcGzTb3",
    "outputId": "afd1bcb2-1616-46f3-9099-e3c48f246d50"
   },
   "outputs": [
    {
     "data": {
      "text/html": [
       "<div>\n",
       "<style scoped>\n",
       "    .dataframe tbody tr th:only-of-type {\n",
       "        vertical-align: middle;\n",
       "    }\n",
       "\n",
       "    .dataframe tbody tr th {\n",
       "        vertical-align: top;\n",
       "    }\n",
       "\n",
       "    .dataframe thead th {\n",
       "        text-align: right;\n",
       "    }\n",
       "</style>\n",
       "<table border=\"1\" class=\"dataframe\">\n",
       "  <thead>\n",
       "    <tr style=\"text-align: right;\">\n",
       "      <th></th>\n",
       "      <th>Time</th>\n",
       "      <th>info</th>\n",
       "    </tr>\n",
       "  </thead>\n",
       "  <tbody>\n",
       "    <tr>\n",
       "      <th>0</th>\n",
       "      <td>7:51  PM ET Fri, 17 July 2020</td>\n",
       "      <td>Jim Cramer: A better way to invest in the Covi...</td>\n",
       "    </tr>\n",
       "    <tr>\n",
       "      <th>1</th>\n",
       "      <td>7:33  PM ET Fri, 17 July 2020</td>\n",
       "      <td>Cramer's lightning round: I would own Teradyne...</td>\n",
       "    </tr>\n",
       "    <tr>\n",
       "      <th>2</th>\n",
       "      <td>7:25  PM ET Fri, 17 July 2020</td>\n",
       "      <td>Cramer's week ahead: Big week for earnings, ev...</td>\n",
       "    </tr>\n",
       "    <tr>\n",
       "      <th>3</th>\n",
       "      <td>4:24  PM ET Fri, 17 July 2020</td>\n",
       "      <td>IQ Capital CEO Keith Bliss says tech and healt...</td>\n",
       "    </tr>\n",
       "    <tr>\n",
       "      <th>4</th>\n",
       "      <td>7:36  PM ET Thu, 16 July 2020</td>\n",
       "      <td>Wall Street delivered the 'kind of pullback I'...</td>\n",
       "    </tr>\n",
       "  </tbody>\n",
       "</table>\n",
       "</div>"
      ],
      "text/plain": [
       "                             Time  \\\n",
       "0   7:51  PM ET Fri, 17 July 2020   \n",
       "1   7:33  PM ET Fri, 17 July 2020   \n",
       "2   7:25  PM ET Fri, 17 July 2020   \n",
       "3   4:24  PM ET Fri, 17 July 2020   \n",
       "4   7:36  PM ET Thu, 16 July 2020   \n",
       "\n",
       "                                                info  \n",
       "0  Jim Cramer: A better way to invest in the Covi...  \n",
       "1  Cramer's lightning round: I would own Teradyne...  \n",
       "2  Cramer's week ahead: Big week for earnings, ev...  \n",
       "3  IQ Capital CEO Keith Bliss says tech and healt...  \n",
       "4  Wall Street delivered the 'kind of pullback I'...  "
      ]
     },
     "execution_count": 53,
     "metadata": {},
     "output_type": "execute_result"
    }
   ],
   "source": [
    "# only keep info and time column . drop all remaining columns\n",
    "mergerd_df_new=mergerd_df_new[['Time','info']]\n",
    "mergerd_df_new.head()"
   ]
  },
  {
   "cell_type": "code",
   "execution_count": 54,
   "metadata": {
    "colab": {
     "base_uri": "https://localhost:8080/",
     "height": 662
    },
    "id": "iMOW0ljOzTaN",
    "outputId": "751af887-0be3-45e1-d2cf-8e503b6a9783"
   },
   "outputs": [],
   "source": [
    "# apply preprocessing on info column\n",
    "mergerd_df_new['info']=mergerd_df_new['info'].apply(preprocessing)"
   ]
  },
  {
   "cell_type": "code",
   "execution_count": 55,
   "metadata": {
    "colab": {
     "base_uri": "https://localhost:8080/",
     "height": 414
    },
    "id": "Bww_M5RQzTXm",
    "outputId": "0c392b14-3bc2-4766-f51b-b14e3716638e"
   },
   "outputs": [],
   "source": [
    "# analyze polarity score of values in info and  add new column of it in dataset\n",
    "mergerd_df_new['info_score']=mergerd_df_new['info'].apply(sentiment_polarity)"
   ]
  },
  {
   "cell_type": "code",
   "execution_count": 56,
   "metadata": {},
   "outputs": [
    {
     "data": {
      "text/html": [
       "<div>\n",
       "<style scoped>\n",
       "    .dataframe tbody tr th:only-of-type {\n",
       "        vertical-align: middle;\n",
       "    }\n",
       "\n",
       "    .dataframe tbody tr th {\n",
       "        vertical-align: top;\n",
       "    }\n",
       "\n",
       "    .dataframe thead th {\n",
       "        text-align: right;\n",
       "    }\n",
       "</style>\n",
       "<table border=\"1\" class=\"dataframe\">\n",
       "  <thead>\n",
       "    <tr style=\"text-align: right;\">\n",
       "      <th></th>\n",
       "      <th>Time</th>\n",
       "      <th>info</th>\n",
       "      <th>info_score</th>\n",
       "    </tr>\n",
       "  </thead>\n",
       "  <tbody>\n",
       "    <tr>\n",
       "      <th>0</th>\n",
       "      <td>7:51  PM ET Fri, 17 July 2020</td>\n",
       "      <td>jim cramer better way invest covid19 vaccin go...</td>\n",
       "      <td>0.7964</td>\n",
       "    </tr>\n",
       "    <tr>\n",
       "      <th>1</th>\n",
       "      <td>7:33  PM ET Fri, 17 July 2020</td>\n",
       "      <td>cramer lightn round would teradynemad money ho...</td>\n",
       "      <td>0.0000</td>\n",
       "    </tr>\n",
       "    <tr>\n",
       "      <th>2</th>\n",
       "      <td>7:25  PM ET Fri, 17 July 2020</td>\n",
       "      <td>cramer week ahead big week earn even bigger we...</td>\n",
       "      <td>0.3612</td>\n",
       "    </tr>\n",
       "    <tr>\n",
       "      <th>3</th>\n",
       "      <td>4:24  PM ET Fri, 17 July 2020</td>\n",
       "      <td>iq capit ceo keith bliss say tech healthcar ra...</td>\n",
       "      <td>0.8625</td>\n",
       "    </tr>\n",
       "    <tr>\n",
       "      <th>4</th>\n",
       "      <td>7:36  PM ET Thu, 16 July 2020</td>\n",
       "      <td>wall street deliv kind pullback ive wait jim c...</td>\n",
       "      <td>-0.2500</td>\n",
       "    </tr>\n",
       "  </tbody>\n",
       "</table>\n",
       "</div>"
      ],
      "text/plain": [
       "                             Time  \\\n",
       "0   7:51  PM ET Fri, 17 July 2020   \n",
       "1   7:33  PM ET Fri, 17 July 2020   \n",
       "2   7:25  PM ET Fri, 17 July 2020   \n",
       "3   4:24  PM ET Fri, 17 July 2020   \n",
       "4   7:36  PM ET Thu, 16 July 2020   \n",
       "\n",
       "                                                info  info_score  \n",
       "0  jim cramer better way invest covid19 vaccin go...      0.7964  \n",
       "1  cramer lightn round would teradynemad money ho...      0.0000  \n",
       "2  cramer week ahead big week earn even bigger we...      0.3612  \n",
       "3  iq capit ceo keith bliss say tech healthcar ra...      0.8625  \n",
       "4  wall street deliv kind pullback ive wait jim c...     -0.2500  "
      ]
     },
     "execution_count": 56,
     "metadata": {},
     "output_type": "execute_result"
    }
   ],
   "source": [
    "mergerd_df_new.head()"
   ]
  },
  {
   "cell_type": "code",
   "execution_count": 57,
   "metadata": {
    "colab": {
     "base_uri": "https://localhost:8080/",
     "height": 414
    },
    "id": "duwvemaLzTWh",
    "outputId": "f771aff0-a319-4c10-ce87-0f1088063d82"
   },
   "outputs": [
    {
     "data": {
      "text/html": [
       "<div>\n",
       "<style scoped>\n",
       "    .dataframe tbody tr th:only-of-type {\n",
       "        vertical-align: middle;\n",
       "    }\n",
       "\n",
       "    .dataframe tbody tr th {\n",
       "        vertical-align: top;\n",
       "    }\n",
       "\n",
       "    .dataframe thead th {\n",
       "        text-align: right;\n",
       "    }\n",
       "</style>\n",
       "<table border=\"1\" class=\"dataframe\">\n",
       "  <thead>\n",
       "    <tr style=\"text-align: right;\">\n",
       "      <th></th>\n",
       "      <th>Time</th>\n",
       "      <th>info</th>\n",
       "      <th>info_score</th>\n",
       "    </tr>\n",
       "  </thead>\n",
       "  <tbody>\n",
       "    <tr>\n",
       "      <th>0</th>\n",
       "      <td>7:51  PM ET Fri, 17 July 2020</td>\n",
       "      <td>jim cramer better way invest covid19 vaccin go...</td>\n",
       "      <td>Positive</td>\n",
       "    </tr>\n",
       "    <tr>\n",
       "      <th>1</th>\n",
       "      <td>7:33  PM ET Fri, 17 July 2020</td>\n",
       "      <td>cramer lightn round would teradynemad money ho...</td>\n",
       "      <td>Neutral</td>\n",
       "    </tr>\n",
       "    <tr>\n",
       "      <th>2</th>\n",
       "      <td>7:25  PM ET Fri, 17 July 2020</td>\n",
       "      <td>cramer week ahead big week earn even bigger we...</td>\n",
       "      <td>Positive</td>\n",
       "    </tr>\n",
       "    <tr>\n",
       "      <th>3</th>\n",
       "      <td>4:24  PM ET Fri, 17 July 2020</td>\n",
       "      <td>iq capit ceo keith bliss say tech healthcar ra...</td>\n",
       "      <td>Positive</td>\n",
       "    </tr>\n",
       "    <tr>\n",
       "      <th>4</th>\n",
       "      <td>7:36  PM ET Thu, 16 July 2020</td>\n",
       "      <td>wall street deliv kind pullback ive wait jim c...</td>\n",
       "      <td>Negative</td>\n",
       "    </tr>\n",
       "  </tbody>\n",
       "</table>\n",
       "</div>"
      ],
      "text/plain": [
       "                             Time  \\\n",
       "0   7:51  PM ET Fri, 17 July 2020   \n",
       "1   7:33  PM ET Fri, 17 July 2020   \n",
       "2   7:25  PM ET Fri, 17 July 2020   \n",
       "3   4:24  PM ET Fri, 17 July 2020   \n",
       "4   7:36  PM ET Thu, 16 July 2020   \n",
       "\n",
       "                                                info info_score  \n",
       "0  jim cramer better way invest covid19 vaccin go...   Positive  \n",
       "1  cramer lightn round would teradynemad money ho...    Neutral  \n",
       "2  cramer week ahead big week earn even bigger we...   Positive  \n",
       "3  iq capit ceo keith bliss say tech healthcar ra...   Positive  \n",
       "4  wall street deliv kind pullback ive wait jim c...   Negative  "
      ]
     },
     "execution_count": 57,
     "metadata": {},
     "output_type": "execute_result"
    }
   ],
   "source": [
    "# apply the function  which decides sentiment to  polarity score column\n",
    "mergerd_df_new.info_score=mergerd_df_new.info_score.apply(catogarizer)\n",
    "mergerd_df_new.head()"
   ]
  },
  {
   "cell_type": "code",
   "execution_count": 171,
   "metadata": {
    "colab": {
     "base_uri": "https://localhost:8080/",
     "height": 297
    },
    "id": "ohPDx_0glaeM",
    "outputId": "74fba960-52d3-4a2c-e952-8e5498b7fb61"
   },
   "outputs": [
    {
     "data": {
      "image/png": "[encoded data removed]",
      "text/plain": [
       "<Figure size 1152x576 with 2 Axes>"
      ]
     },
     "metadata": {
      "needs_background": "light"
     },
     "output_type": "display_data"
    }
   ],
   "source": [
    "# perform count plot on info_score column\n",
    "plt.figure(figsize=(16,8))\n",
    "plt.subplot(1,2,1)\n",
    "plt.grid()\n",
    "sns.countplot(data=mergerd_df_new,x='info_score')\n",
    "plt.xlabel('<---Sentiment--->')\n",
    "\n",
    "plt.subplot(1,2,2)\n",
    "plt.title('News Sentiment Distribution')\n",
    "plt.pie(mergerd_df_new.groupby('info_score').count()['info'],labels=mergerd_df_new.groupby('info_score').count()['info'].keys(),\n",
    "       autopct='%.1f',explode=[0,0,0.1],startangle=90)\n",
    "\n",
    "plt.show()"
   ]
  },
  {
   "cell_type": "markdown",
   "metadata": {
    "id": "svGQaSfhl6_5"
   },
   "source": [
    "In the info there are approx\n",
    "\n",
    "15500 positive statment<br>\n",
    "13000 negative statment<br>\n",
    "6500 neutral statment<br>\n",
    "\n",
    "44.4% positive statments<br>\n",
    "37.3% negtive statements<br>\n",
    "18.3% neutral statments<br>"
   ]
  },
  {
   "cell_type": "markdown",
   "metadata": {
    "id": "FDaguQJMfrML"
   },
   "source": [
    "# modeling on headlines + description"
   ]
  },
  {
   "cell_type": "code",
   "execution_count": 60,
   "metadata": {
    "id": "U-sjg3NEzTRd"
   },
   "outputs": [],
   "source": [
    "# split the dataset  into test and train \n",
    "# 90% train , 10% test and random state 212\n",
    "X=mergerd_df_new['info']\n",
    "Y=mergerd_df_new.info_score\n",
    "X_train,X_test,Y_train,Y_test=train_test_split(X,Y,test_size=0.1,random_state=212)"
   ]
  },
  {
   "cell_type": "markdown",
   "metadata": {
    "id": "hVuDdLFJkFSb"
   },
   "source": [
    "LINEAR SUPPORT VECTOR MACHINE\n"
   ]
  },
  {
   "cell_type": "code",
   "execution_count": 61,
   "metadata": {},
   "outputs": [],
   "source": [
    "from sklearn.pipeline import Pipeline\n",
    "from sklearn.feature_extraction.text import TfidfVectorizer\n",
    "from sklearn.svm import LinearSVC\n",
    "from sklearn.metrics import accuracy_score,confusion_matrix,classification_report"
   ]
  },
  {
   "cell_type": "code",
   "execution_count": 62,
   "metadata": {
    "colab": {
     "base_uri": "https://localhost:8080/"
    },
    "id": "exk6nRwomgAt",
    "outputId": "5de5fd8f-a60c-4317-9c81-2baf81621a40"
   },
   "outputs": [
    {
     "name": "stdout",
     "output_type": "stream",
     "text": [
      "Accuracy Score: 0.9017454954954955\n",
      "[[1184   50   84]\n",
      " [  40  543   55]\n",
      " [  71   49 1476]]\n",
      "              precision    recall  f1-score   support\n",
      "\n",
      "    Negative       0.91      0.90      0.91      1318\n",
      "     Neutral       0.85      0.85      0.85       638\n",
      "    Positive       0.91      0.92      0.92      1596\n",
      "\n",
      "    accuracy                           0.90      3552\n",
      "   macro avg       0.89      0.89      0.89      3552\n",
      "weighted avg       0.90      0.90      0.90      3552\n",
      "\n",
      "CPU times: total: 1.55 s\n",
      "Wall time: 1.55 s\n"
     ]
    }
   ],
   "source": [
    "%%time\n",
    "# pipeline creation\n",
    "# 1. tfidVectorization\n",
    "# 2. linearSVC model\n",
    "\n",
    "pipe_svc2=Pipeline([\n",
    "    ('TfidfVectorizer',TfidfVectorizer()),\n",
    "    ('LinearSVC',LinearSVC())\n",
    "])\n",
    "\n",
    "\n",
    "# Fit the pipeline to the data\n",
    "\n",
    "pipe_svc2.fit(X_train,Y_train)\n",
    "\n",
    "# predict on test dataset\n",
    "y_pred=pipe_svc2.predict(X_test)\n",
    "# print accuracy score\n",
    "print('Accuracy Score:',accuracy_score(Y_test,y_pred))\n",
    "#print confusion matrix\n",
    "print(confusion_matrix(Y_test,y_pred))\n",
    "#print classification report\n",
    "print(classification_report(Y_test,y_pred))"
   ]
  },
  {
   "cell_type": "markdown",
   "metadata": {
    "id": "6Qq4dK32kBpM"
   },
   "source": [
    "LOGISTIC REGRESSION\n"
   ]
  },
  {
   "cell_type": "code",
   "execution_count": 63,
   "metadata": {
    "colab": {
     "base_uri": "https://localhost:8080/"
    },
    "id": "0w0yNn2_mf_s",
    "outputId": "17175fb5-83c7-4204-f358-42007a8f2168"
   },
   "outputs": [
    {
     "name": "stdout",
     "output_type": "stream",
     "text": [
      "Accuracy Score: 0.8662725225225225\n",
      "[[1144   59  115]\n",
      " [  79  470   89]\n",
      " [  86   47 1463]]\n",
      "              precision    recall  f1-score   support\n",
      "\n",
      "    Negative       0.87      0.87      0.87      1318\n",
      "     Neutral       0.82      0.74      0.77       638\n",
      "    Positive       0.88      0.92      0.90      1596\n",
      "\n",
      "    accuracy                           0.87      3552\n",
      "   macro avg       0.86      0.84      0.85      3552\n",
      "weighted avg       0.87      0.87      0.87      3552\n",
      "\n",
      "CPU times: total: 3.62 s\n",
      "Wall time: 3.6 s\n"
     ]
    }
   ],
   "source": [
    "%%time\n",
    "from sklearn.linear_model import LogisticRegression\n",
    "# pipeline creation \n",
    "# 1. CountVectorization\n",
    "# 2. TfidTransformer\n",
    "# 3. Logistic Regression\n",
    "\n",
    "pipe_logr2=Pipeline([\n",
    "    ('CountVectorizer',CountVectorizer()),\n",
    "    ('TfidTransformer',TfidfTransformer()),\n",
    "    ('LogisticRegression',LogisticRegression())\n",
    "])\n",
    "\n",
    "# Fit the pipeline to the data\n",
    "\n",
    "pipe_logr2.fit(X_train,Y_train)\n",
    "\n",
    "# predict on test dataset\n",
    "y_pred=pipe_logr2.predict(X_test)\n",
    "# print accuracy score\n",
    "print('Accuracy Score:',accuracy_score(Y_test,y_pred))\n",
    "#print confusion matrix\n",
    "print(confusion_matrix(Y_test,y_pred))\n",
    "#print classification report\n",
    "print(classification_report(Y_test,y_pred))"
   ]
  },
  {
   "cell_type": "markdown",
   "metadata": {
    "id": "XbFrK_pXj-HC"
   },
   "source": [
    "MULTINOMIAL NAIVE BAYES\n"
   ]
  },
  {
   "cell_type": "code",
   "execution_count": 64,
   "metadata": {
    "colab": {
     "base_uri": "https://localhost:8080/"
    },
    "id": "ag3ceKiEmfxR",
    "outputId": "2d14e551-23eb-4ced-d133-e5fd561f7c72"
   },
   "outputs": [
    {
     "name": "stdout",
     "output_type": "stream",
     "text": [
      "Accuracy Score: 0.6438626126126126\n",
      "[[ 833    0  485]\n",
      " [ 132   11  495]\n",
      " [ 151    2 1443]]\n",
      "              precision    recall  f1-score   support\n",
      "\n",
      "    Negative       0.75      0.63      0.68      1318\n",
      "     Neutral       0.85      0.02      0.03       638\n",
      "    Positive       0.60      0.90      0.72      1596\n",
      "\n",
      "    accuracy                           0.64      3552\n",
      "   macro avg       0.73      0.52      0.48      3552\n",
      "weighted avg       0.70      0.64      0.58      3552\n",
      "\n",
      "CPU times: total: 938 ms\n",
      "Wall time: 928 ms\n"
     ]
    }
   ],
   "source": [
    "%%time\n",
    "from sklearn.feature_extraction.text import CountVectorizer\n",
    "from sklearn.feature_extraction.text import TfidfTransformer\n",
    "from sklearn.naive_bayes import MultinomialNB\n",
    "# pipeline creation \n",
    "# 1. CountVectorizer\n",
    "# 2. TfidTransformer\n",
    "# 3. MultinomialNB\n",
    "pipe_mnb2=Pipeline([\n",
    "    ('CountVectorizer',CountVectorizer()),\n",
    "    ('TfidTransformer',TfidfTransformer()),\n",
    "    ('MultinomialNB',MultinomialNB())\n",
    "])\n",
    "\n",
    "# Fit the pipeline to the data\n",
    "\n",
    "pipe_mnb2.fit(X_train,Y_train)\n",
    "\n",
    "# predict on test dataset\n",
    "y_pred=pipe_mnb2.predict(X_test)\n",
    "# print accuracy score\n",
    "print('Accuracy Score:',accuracy_score(Y_test,y_pred))\n",
    "#print confusion matrix\n",
    "print(confusion_matrix(Y_test,y_pred))\n",
    "#print classification report\n",
    "print(classification_report(Y_test,y_pred))"
   ]
  },
  {
   "cell_type": "markdown",
   "metadata": {
    "id": "-79YSosbj7HP"
   },
   "source": [
    "BERNOULLI NAIVE BAYES\n"
   ]
  },
  {
   "cell_type": "code",
   "execution_count": 65,
   "metadata": {
    "colab": {
     "base_uri": "https://localhost:8080/"
    },
    "id": "N-ftjtoEmfsP",
    "outputId": "fc46a6c1-da3e-46e4-a2f1-37e562cf708c"
   },
   "outputs": [
    {
     "name": "stdout",
     "output_type": "stream",
     "text": [
      "Accuracy Score: 0.6894707207207207\n",
      "[[ 982   13  323]\n",
      " [ 176  141  321]\n",
      " [ 250   20 1326]]\n",
      "              precision    recall  f1-score   support\n",
      "\n",
      "    Negative       0.70      0.75      0.72      1318\n",
      "     Neutral       0.81      0.22      0.35       638\n",
      "    Positive       0.67      0.83      0.74      1596\n",
      "\n",
      "    accuracy                           0.69      3552\n",
      "   macro avg       0.73      0.60      0.60      3552\n",
      "weighted avg       0.71      0.69      0.66      3552\n",
      "\n",
      "CPU times: total: 906 ms\n",
      "Wall time: 904 ms\n"
     ]
    }
   ],
   "source": [
    "%%time\n",
    "from sklearn.naive_bayes import BernoulliNB\n",
    "# pipeline creation \n",
    "# 1. CountVectorizer\n",
    "# 2. TfidTransformer\n",
    "# 3. BernoulliNB\n",
    "\n",
    "pipe_bnb2=Pipeline([\n",
    "    ('CountVectorizer',CountVectorizer()),\n",
    "    ('TfidTransformer',TfidfTransformer()),\n",
    "    ('BernoulliNB',BernoulliNB())\n",
    "])\n",
    "\n",
    "# Fit the pipeline to the data\n",
    "\n",
    "pipe_bnb2.fit(X_train,Y_train)\n",
    "\n",
    "# predict on test dataset\n",
    "y_pred=pipe_bnb2.predict(X_test)\n",
    "# print accuracy score\n",
    "print('Accuracy Score:',accuracy_score(Y_test,y_pred))\n",
    "#print confusion matrix\n",
    "print(confusion_matrix(Y_test,y_pred))\n",
    "#print classification report\n",
    "print(classification_report(Y_test,y_pred))"
   ]
  },
  {
   "cell_type": "markdown",
   "metadata": {
    "id": "DDcEnl9uj3yl"
   },
   "source": [
    "GRADIENT BOOSTING CLASSIFICATION MODEL\n"
   ]
  },
  {
   "cell_type": "code",
   "execution_count": 66,
   "metadata": {
    "colab": {
     "base_uri": "https://localhost:8080/"
    },
    "id": "vTT-HmujmfrR",
    "outputId": "8987cfa9-952f-4c27-cd42-452a26a479bb"
   },
   "outputs": [
    {
     "name": "stdout",
     "output_type": "stream",
     "text": [
      "Accuracy Score: 0.7646396396396397\n",
      "[[ 945   74  299]\n",
      " [   5  330  303]\n",
      " [  98   57 1441]]\n",
      "              precision    recall  f1-score   support\n",
      "\n",
      "    Negative       0.90      0.72      0.80      1318\n",
      "     Neutral       0.72      0.52      0.60       638\n",
      "    Positive       0.71      0.90      0.79      1596\n",
      "\n",
      "    accuracy                           0.76      3552\n",
      "   macro avg       0.77      0.71      0.73      3552\n",
      "weighted avg       0.78      0.76      0.76      3552\n",
      "\n",
      "CPU times: total: 1min 5s\n",
      "Wall time: 1min 5s\n"
     ]
    }
   ],
   "source": [
    "%%time\n",
    "from sklearn.ensemble import GradientBoostingClassifier\n",
    "# pipeline creation \n",
    "# 1. CountVectorizer\n",
    "# 2. TfidTransformer\n",
    "# 3. GradientBoostingClassifier\n",
    "\n",
    "pipe_gbc2=Pipeline([\n",
    "    ('CountVectorizer',CountVectorizer()),\n",
    "    ('TfidTransformer',TfidfTransformer()),\n",
    "    ('GradientBoostingClassifier',GradientBoostingClassifier())\n",
    "])\n",
    "\n",
    "# Fit the pipeline to the data\n",
    "\n",
    "pipe_gbc2.fit(X_train,Y_train)\n",
    "\n",
    "# predict on test dataset\n",
    "y_pred=pipe_gbc2.predict(X_test)\n",
    "# print accuracy score\n",
    "print('Accuracy Score:',accuracy_score(Y_test,y_pred))\n",
    "#print confusion matrix\n",
    "print(confusion_matrix(Y_test,y_pred))\n",
    "#print classification report\n",
    "print(classification_report(Y_test,y_pred))"
   ]
  },
  {
   "cell_type": "markdown",
   "metadata": {
    "id": "hwMk-HFAjzP-"
   },
   "source": [
    "XGBOOST CLASSIFICATION MODEL\n"
   ]
  },
  {
   "cell_type": "code",
   "execution_count": 80,
   "metadata": {},
   "outputs": [],
   "source": [
    "from sklearn.preprocessing import LabelEncoder"
   ]
  },
  {
   "cell_type": "code",
   "execution_count": 67,
   "metadata": {
    "colab": {
     "base_uri": "https://localhost:8080/"
    },
    "id": "1M8E7hmnmfn1",
    "outputId": "739370a5-ba74-4119-8f09-591adaed55f7",
    "scrolled": false
   },
   "outputs": [
    {
     "name": "stdout",
     "output_type": "stream",
     "text": [
      "Accuracy Score: 0.8828828828828829\n",
      "[[1072  109  137]\n",
      " [   3  626    9]\n",
      " [  82   76 1438]]\n",
      "              precision    recall  f1-score   support\n",
      "\n",
      "           0       0.93      0.81      0.87      1318\n",
      "           1       0.77      0.98      0.86       638\n",
      "           2       0.91      0.90      0.90      1596\n",
      "\n",
      "    accuracy                           0.88      3552\n",
      "   macro avg       0.87      0.90      0.88      3552\n",
      "weighted avg       0.89      0.88      0.88      3552\n",
      "\n",
      "CPU times: total: 1min 56s\n",
      "Wall time: 17.6 s\n"
     ]
    }
   ],
   "source": [
    "%%time\n",
    "from xgboost import XGBClassifier\n",
    "# pipeline creation \n",
    "# 1. CountVectorizer\n",
    "# 2. TfidTransformer\n",
    "# 3. XGBClassifier\n",
    "\n",
    "pipe_xg2=Pipeline([\n",
    "    ('CountVectorizer',CountVectorizer()),\n",
    "    ('TfidTransformer',TfidfTransformer()),\n",
    "    ('XGBClassifier',XGBClassifier())\n",
    "])\n",
    "\n",
    "encoder = LabelEncoder()\n",
    "enc_train = encoder.fit_transform(Y_train)\n",
    "enc_test = encoder.fit_transform(Y_test)\n",
    "# Fit the pipeline to the data\n",
    "\n",
    "pipe_xg2.fit(X_train,enc_train)\n",
    "\n",
    "# predict on test dataset\n",
    "y_pred=pipe_xg2.predict(X_test)\n",
    "# print accuracy score\n",
    "print('Accuracy Score:',accuracy_score(enc_test,y_pred))\n",
    "#print confusion matrix\n",
    "print(confusion_matrix(enc_test,y_pred))\n",
    "#print classification report\n",
    "print(classification_report(enc_test,y_pred))\n"
   ]
  },
  {
   "cell_type": "markdown",
   "metadata": {
    "id": "8RvWy4tSjwDV"
   },
   "source": [
    "DECISION TREE CLASSIFICATION MODEL\n"
   ]
  },
  {
   "cell_type": "code",
   "execution_count": 68,
   "metadata": {
    "colab": {
     "base_uri": "https://localhost:8080/"
    },
    "id": "63xamISqmfmd",
    "outputId": "f4c8b146-0b8b-49a0-bd3a-b40f67372709"
   },
   "outputs": [
    {
     "name": "stdout",
     "output_type": "stream",
     "text": [
      "Accuracy Score: 0.8330518018018018\n",
      "[[1016   34  268]\n",
      " [  17  612    9]\n",
      " [ 243   22 1331]]\n",
      "              precision    recall  f1-score   support\n",
      "\n",
      "    Negative       0.80      0.77      0.78      1318\n",
      "     Neutral       0.92      0.96      0.94       638\n",
      "    Positive       0.83      0.83      0.83      1596\n",
      "\n",
      "    accuracy                           0.83      3552\n",
      "   macro avg       0.85      0.85      0.85      3552\n",
      "weighted avg       0.83      0.83      0.83      3552\n",
      "\n",
      "CPU times: total: 16.7 s\n",
      "Wall time: 16.2 s\n"
     ]
    }
   ],
   "source": [
    "%%time\n",
    "from sklearn.tree import DecisionTreeClassifier\n",
    "# pipeline creation \n",
    "# 1. CountVectorizer\n",
    "# 2. TfidTransformer\n",
    "# 3. Decision tree classifier\n",
    "\n",
    "pipe_dt2=Pipeline([\n",
    "    ('CountVectorizer',CountVectorizer()),\n",
    "    ('TfidTransformer',TfidfTransformer()),\n",
    "    ('DTC',DecisionTreeClassifier())\n",
    "])\n",
    "\n",
    "\n",
    "\n",
    "# Fit the pipeline to the data\n",
    "\n",
    "pipe_dt2.fit(X_train,Y_train)\n",
    "\n",
    "# predict on test dataset\n",
    "y_pred=pipe_dt2.predict(X_test)\n",
    "# print accuracy score\n",
    "print('Accuracy Score:',accuracy_score(Y_test,y_pred))\n",
    "#print confusion matrix\n",
    "print(confusion_matrix(Y_test,y_pred))\n",
    "#print classification report\n",
    "print(classification_report(Y_test,y_pred))"
   ]
  },
  {
   "cell_type": "markdown",
   "metadata": {
    "id": "LenIHULAjsrv"
   },
   "source": [
    "K- NEAREST NEIGHBOUR CLASSIFIER MODEL\n"
   ]
  },
  {
   "cell_type": "code",
   "execution_count": 69,
   "metadata": {
    "colab": {
     "base_uri": "https://localhost:8080/"
    },
    "id": "UtU2_7-MzQ6N",
    "outputId": "ed7a03b4-1efd-432f-e1d2-aa0e4f2375e8",
    "scrolled": false
   },
   "outputs": [
    {
     "name": "stdout",
     "output_type": "stream",
     "text": [
      "Accuracy Score: 0.567286036036036\n",
      "[[892 119 307]\n",
      " [221 188 229]\n",
      " [455 206 935]]\n",
      "              precision    recall  f1-score   support\n",
      "\n",
      "    Negative       0.57      0.68      0.62      1318\n",
      "     Neutral       0.37      0.29      0.33       638\n",
      "    Positive       0.64      0.59      0.61      1596\n",
      "\n",
      "    accuracy                           0.57      3552\n",
      "   macro avg       0.52      0.52      0.52      3552\n",
      "weighted avg       0.56      0.57      0.56      3552\n",
      "\n",
      "CPU times: total: 3.81 s\n",
      "Wall time: 3.79 s\n"
     ]
    }
   ],
   "source": [
    "%%time\n",
    "from sklearn.neighbors import KNeighborsClassifier\n",
    "# pipeline creation \n",
    "# 1. CountVectorizer\n",
    "# 2. TfidTransformer\n",
    "# 3. KNN classifier\n",
    "\n",
    "pipe_knn2=Pipeline([\n",
    "    ('CountVectorizer',CountVectorizer()),\n",
    "    ('TfidTransformer',TfidfTransformer()),\n",
    "    ('DTC',KNeighborsClassifier())\n",
    "])\n",
    "\n",
    "\n",
    "\n",
    "# Fit the pipeline to the data\n",
    "\n",
    "pipe_knn2.fit(X_train,Y_train)\n",
    "\n",
    "\n",
    "# predict on test dataset\n",
    "y_pred=pipe_knn2.predict(X_test)\n",
    "# print accuracy score\n",
    "print('Accuracy Score:',accuracy_score(Y_test,y_pred))\n",
    "#print confusion matrix\n",
    "print(confusion_matrix(Y_test,y_pred))\n",
    "#print classification report\n",
    "print(classification_report(Y_test,y_pred))"
   ]
  },
  {
   "cell_type": "code",
   "execution_count": 74,
   "metadata": {},
   "outputs": [],
   "source": [
    "def score(model_obj,model_names,X_test,y_test):\n",
    "    metrics_df=pd.DataFrame(columns=['model_names','accuracy','precision','recall','f1_score'])\n",
    "    metrics_df.model_names=model_names\n",
    "    \n",
    "    metrics_df.accuracy=[accuracy_score(y_test,model.predict(X_test)) if model != pipe_xg2 else accuracy_score(enc_test,model.predict(X_test)) for model in model_obj]\n",
    "    \n",
    "    metrics_df.precision=[precision_score(y_test,model.predict(X_test),average='weighted') if model != pipe_xg2 else precision_score(enc_test,model.predict(X_test),average='weighted') for model in model_obj]\n",
    "    \n",
    "    metrics_df.recall=[recall_score(y_test,model.predict(X_test),average='weighted') if model != pipe_xg2 else recall_score(enc_test,model.predict(X_test),average='weighted') for model in model_obj]\n",
    "    \n",
    "    metrics_df.f1_score=[f1_score(y_test,model.predict(X_test),average='weighted') if model != pipe_xg2 else f1_score(enc_test,model.predict(X_test),average='weighted') for model in model_obj]\n",
    "\n",
    "   \n",
    "    return metrics_df"
   ]
  },
  {
   "cell_type": "code",
   "execution_count": 75,
   "metadata": {
    "colab": {
     "base_uri": "https://localhost:8080/"
    },
    "id": "4A6ZI1hQwkhO",
    "outputId": "bd76815b-6c62-4ff0-c201-5ef627257d9e"
   },
   "outputs": [
    {
     "data": {
      "text/html": [
       "<div>\n",
       "<style scoped>\n",
       "    .dataframe tbody tr th:only-of-type {\n",
       "        vertical-align: middle;\n",
       "    }\n",
       "\n",
       "    .dataframe tbody tr th {\n",
       "        vertical-align: top;\n",
       "    }\n",
       "\n",
       "    .dataframe thead th {\n",
       "        text-align: right;\n",
       "    }\n",
       "</style>\n",
       "<table border=\"1\" class=\"dataframe\">\n",
       "  <thead>\n",
       "    <tr style=\"text-align: right;\">\n",
       "      <th></th>\n",
       "      <th>model_names</th>\n",
       "      <th>accuracy</th>\n",
       "      <th>precision</th>\n",
       "      <th>recall</th>\n",
       "      <th>f1_score</th>\n",
       "    </tr>\n",
       "  </thead>\n",
       "  <tbody>\n",
       "    <tr>\n",
       "      <th>0</th>\n",
       "      <td>LinearSVC</td>\n",
       "      <td>0.901745</td>\n",
       "      <td>0.901825</td>\n",
       "      <td>0.901745</td>\n",
       "      <td>0.901743</td>\n",
       "    </tr>\n",
       "    <tr>\n",
       "      <th>1</th>\n",
       "      <td>LogRegression</td>\n",
       "      <td>0.866273</td>\n",
       "      <td>0.865187</td>\n",
       "      <td>0.866273</td>\n",
       "      <td>0.865171</td>\n",
       "    </tr>\n",
       "    <tr>\n",
       "      <th>2</th>\n",
       "      <td>MultinomialNB</td>\n",
       "      <td>0.643863</td>\n",
       "      <td>0.696540</td>\n",
       "      <td>0.643863</td>\n",
       "      <td>0.582703</td>\n",
       "    </tr>\n",
       "    <tr>\n",
       "      <th>3</th>\n",
       "      <td>BernoulliNB</td>\n",
       "      <td>0.689471</td>\n",
       "      <td>0.706783</td>\n",
       "      <td>0.689471</td>\n",
       "      <td>0.663874</td>\n",
       "    </tr>\n",
       "    <tr>\n",
       "      <th>4</th>\n",
       "      <td>GradientBoost</td>\n",
       "      <td>0.764640</td>\n",
       "      <td>0.780091</td>\n",
       "      <td>0.764640</td>\n",
       "      <td>0.760130</td>\n",
       "    </tr>\n",
       "    <tr>\n",
       "      <th>5</th>\n",
       "      <td>XGBoost</td>\n",
       "      <td>0.882883</td>\n",
       "      <td>0.890352</td>\n",
       "      <td>0.882883</td>\n",
       "      <td>0.883001</td>\n",
       "    </tr>\n",
       "    <tr>\n",
       "      <th>6</th>\n",
       "      <td>Decision Tree</td>\n",
       "      <td>0.833052</td>\n",
       "      <td>0.831932</td>\n",
       "      <td>0.833052</td>\n",
       "      <td>0.832322</td>\n",
       "    </tr>\n",
       "    <tr>\n",
       "      <th>7</th>\n",
       "      <td>KNN</td>\n",
       "      <td>0.567286</td>\n",
       "      <td>0.562512</td>\n",
       "      <td>0.567286</td>\n",
       "      <td>0.562009</td>\n",
       "    </tr>\n",
       "  </tbody>\n",
       "</table>\n",
       "</div>"
      ],
      "text/plain": [
       "     model_names  accuracy  precision    recall  f1_score\n",
       "0      LinearSVC  0.901745   0.901825  0.901745  0.901743\n",
       "1  LogRegression  0.866273   0.865187  0.866273  0.865171\n",
       "2  MultinomialNB  0.643863   0.696540  0.643863  0.582703\n",
       "3    BernoulliNB  0.689471   0.706783  0.689471  0.663874\n",
       "4  GradientBoost  0.764640   0.780091  0.764640  0.760130\n",
       "5        XGBoost  0.882883   0.890352  0.882883  0.883001\n",
       "6  Decision Tree  0.833052   0.831932  0.833052  0.832322\n",
       "7            KNN  0.567286   0.562512  0.567286  0.562009"
      ]
     },
     "execution_count": 75,
     "metadata": {},
     "output_type": "execute_result"
    }
   ],
   "source": [
    "# list of model objects\n",
    "\n",
    "model_objects = [pipe_svc2,pipe_logr2,pipe_mnb2,pipe_bnb2,pipe_gbc2,pipe_xg2,pipe_dt2,pipe_knn2]\n",
    "# list of model name\n",
    "names=['LinearSVC', 'LogRegression','MultinomialNB','BernoulliNB','GradientBoost','XGBoost','Decision Tree','KNN']\n",
    "# print the comparison of models\n",
    "score(model_objects,names,X_test,Y_test)"
   ]
  },
  {
   "cell_type": "markdown",
   "metadata": {
    "id": "urk4DVzslAXB"
   },
   "source": [
    "# working with test data"
   ]
  },
  {
   "cell_type": "code",
   "execution_count": 76,
   "metadata": {
    "colab": {
     "base_uri": "https://localhost:8080/"
    },
    "id": "T7HvvBOW2sGj",
    "outputId": "44b79c1b-84ea-4b00-9200-d75f8d514603"
   },
   "outputs": [
    {
     "data": {
      "text/plain": [
       "array(['Negative', 'Negative', 'Positive', ..., 'Positive', 'Positive',\n",
       "       'Positive'], dtype=object)"
      ]
     },
     "execution_count": 76,
     "metadata": {},
     "output_type": "execute_result"
    }
   ],
   "source": [
    "# Perforn the prediction on the test dataset\n",
    "prediction_test=pipe_svc2.predict(X_test)\n",
    "prediction_test"
   ]
  },
  {
   "cell_type": "code",
   "execution_count": 77,
   "metadata": {
    "id": "pOKTBCnPlD5J",
    "scrolled": false
   },
   "outputs": [
    {
     "data": {
      "text/html": [
       "<div>\n",
       "<style scoped>\n",
       "    .dataframe tbody tr th:only-of-type {\n",
       "        vertical-align: middle;\n",
       "    }\n",
       "\n",
       "    .dataframe tbody tr th {\n",
       "        vertical-align: top;\n",
       "    }\n",
       "\n",
       "    .dataframe thead th {\n",
       "        text-align: right;\n",
       "    }\n",
       "</style>\n",
       "<table border=\"1\" class=\"dataframe\">\n",
       "  <thead>\n",
       "    <tr style=\"text-align: right;\">\n",
       "      <th></th>\n",
       "      <th>Predicted</th>\n",
       "      <th>True</th>\n",
       "    </tr>\n",
       "  </thead>\n",
       "  <tbody>\n",
       "    <tr>\n",
       "      <th>24688</th>\n",
       "      <td>Negative</td>\n",
       "      <td>Negative</td>\n",
       "    </tr>\n",
       "    <tr>\n",
       "      <th>26461</th>\n",
       "      <td>Negative</td>\n",
       "      <td>Negative</td>\n",
       "    </tr>\n",
       "    <tr>\n",
       "      <th>10242</th>\n",
       "      <td>Positive</td>\n",
       "      <td>Positive</td>\n",
       "    </tr>\n",
       "    <tr>\n",
       "      <th>11483</th>\n",
       "      <td>Positive</td>\n",
       "      <td>Positive</td>\n",
       "    </tr>\n",
       "    <tr>\n",
       "      <th>26934</th>\n",
       "      <td>Negative</td>\n",
       "      <td>Negative</td>\n",
       "    </tr>\n",
       "    <tr>\n",
       "      <th>...</th>\n",
       "      <td>...</td>\n",
       "      <td>...</td>\n",
       "    </tr>\n",
       "    <tr>\n",
       "      <th>20513</th>\n",
       "      <td>Negative</td>\n",
       "      <td>Negative</td>\n",
       "    </tr>\n",
       "    <tr>\n",
       "      <th>11821</th>\n",
       "      <td>Positive</td>\n",
       "      <td>Positive</td>\n",
       "    </tr>\n",
       "    <tr>\n",
       "      <th>32619</th>\n",
       "      <td>Positive</td>\n",
       "      <td>Positive</td>\n",
       "    </tr>\n",
       "    <tr>\n",
       "      <th>30179</th>\n",
       "      <td>Positive</td>\n",
       "      <td>Positive</td>\n",
       "    </tr>\n",
       "    <tr>\n",
       "      <th>27486</th>\n",
       "      <td>Positive</td>\n",
       "      <td>Positive</td>\n",
       "    </tr>\n",
       "  </tbody>\n",
       "</table>\n",
       "<p>3552 rows × 2 columns</p>\n",
       "</div>"
      ],
      "text/plain": [
       "      Predicted      True\n",
       "24688  Negative  Negative\n",
       "26461  Negative  Negative\n",
       "10242  Positive  Positive\n",
       "11483  Positive  Positive\n",
       "26934  Negative  Negative\n",
       "...         ...       ...\n",
       "20513  Negative  Negative\n",
       "11821  Positive  Positive\n",
       "32619  Positive  Positive\n",
       "30179  Positive  Positive\n",
       "27486  Positive  Positive\n",
       "\n",
       "[3552 rows x 2 columns]"
      ]
     },
     "execution_count": 77,
     "metadata": {},
     "output_type": "execute_result"
    }
   ],
   "source": [
    "# creating a dataframe of predicted results \n",
    "pred_hl_ds=pd.DataFrame({'Predicted':prediction_test,'True':Y_test})\n",
    "pred_hl_ds"
   ]
  },
  {
   "cell_type": "markdown",
   "metadata": {
    "id": "VOS21GT-gOzH"
   },
   "source": [
    "# now working on headlines"
   ]
  },
  {
   "cell_type": "code",
   "execution_count": 78,
   "metadata": {
    "colab": {
     "base_uri": "https://localhost:8080/",
     "height": 202
    },
    "id": "wFmAITs64xzF",
    "outputId": "1ef5c066-55a3-413b-e5a6-936f6ce06146"
   },
   "outputs": [],
   "source": [
    "# from the dataset you have copied before delete the column of description\n",
    "df_new_copy_hl=df_new_copy.drop('Description',axis=1)"
   ]
  },
  {
   "cell_type": "code",
   "execution_count": 79,
   "metadata": {
    "colab": {
     "base_uri": "https://localhost:8080/",
     "height": 202
    },
    "id": "isurNknP7iib",
    "outputId": "6df7401d-7ac2-48b1-e391-d9fc65f14305"
   },
   "outputs": [
    {
     "data": {
      "text/html": [
       "<div>\n",
       "<style scoped>\n",
       "    .dataframe tbody tr th:only-of-type {\n",
       "        vertical-align: middle;\n",
       "    }\n",
       "\n",
       "    .dataframe tbody tr th {\n",
       "        vertical-align: top;\n",
       "    }\n",
       "\n",
       "    .dataframe thead th {\n",
       "        text-align: right;\n",
       "    }\n",
       "</style>\n",
       "<table border=\"1\" class=\"dataframe\">\n",
       "  <thead>\n",
       "    <tr style=\"text-align: right;\">\n",
       "      <th></th>\n",
       "      <th>Time</th>\n",
       "      <th>Headlines</th>\n",
       "    </tr>\n",
       "  </thead>\n",
       "  <tbody>\n",
       "    <tr>\n",
       "      <th>0</th>\n",
       "      <td>18-Jul-20</td>\n",
       "      <td>Johnson is asking Santa for a Christmas recovery</td>\n",
       "    </tr>\n",
       "    <tr>\n",
       "      <th>1</th>\n",
       "      <td>18-Jul-20</td>\n",
       "      <td>‘I now fear the worst’: four grim tales of wor...</td>\n",
       "    </tr>\n",
       "    <tr>\n",
       "      <th>2</th>\n",
       "      <td>18-Jul-20</td>\n",
       "      <td>Five key areas Sunak must tackle to serve up e...</td>\n",
       "    </tr>\n",
       "    <tr>\n",
       "      <th>3</th>\n",
       "      <td>18-Jul-20</td>\n",
       "      <td>Covid-19 leaves firms ‘fatally ill-prepared’ f...</td>\n",
       "    </tr>\n",
       "    <tr>\n",
       "      <th>4</th>\n",
       "      <td>18-Jul-20</td>\n",
       "      <td>The Week in Patriarchy  \\n\\n\\n  Bacardi's 'lad...</td>\n",
       "    </tr>\n",
       "  </tbody>\n",
       "</table>\n",
       "</div>"
      ],
      "text/plain": [
       "        Time                                          Headlines\n",
       "0  18-Jul-20   Johnson is asking Santa for a Christmas recovery\n",
       "1  18-Jul-20  ‘I now fear the worst’: four grim tales of wor...\n",
       "2  18-Jul-20  Five key areas Sunak must tackle to serve up e...\n",
       "3  18-Jul-20  Covid-19 leaves firms ‘fatally ill-prepared’ f...\n",
       "4  18-Jul-20  The Week in Patriarchy  \\n\\n\\n  Bacardi's 'lad..."
      ]
     },
     "execution_count": 79,
     "metadata": {},
     "output_type": "execute_result"
    }
   ],
   "source": [
    "# remane the date column in gaurdian headlines dataset  to time\n",
    "df_new_copy_hl=pd.concat([df2,df_new_copy_hl],axis=0)\n",
    "df_new_copy_hl.head()"
   ]
  },
  {
   "cell_type": "code",
   "execution_count": 80,
   "metadata": {
    "colab": {
     "base_uri": "https://localhost:8080/"
    },
    "id": "4b_DReQJ4xnw",
    "outputId": "4ba05177-4e07-45a8-8a32-b58c1173760d"
   },
   "outputs": [
    {
     "data": {
      "text/plain": [
       "(53315, 2)"
      ]
     },
     "execution_count": 80,
     "metadata": {},
     "output_type": "execute_result"
    }
   ],
   "source": [
    "# check the shape of all headlines dataset\n",
    "df_new_copy_hl.shape"
   ]
  },
  {
   "cell_type": "code",
   "execution_count": 81,
   "metadata": {
    "colab": {
     "base_uri": "https://localhost:8080/",
     "height": 202
    },
    "id": "Xn2AN-6MAgQE",
    "outputId": "59c8dcbb-e719-4579-f872-aa8768f4a2e1"
   },
   "outputs": [],
   "source": [
    "#apply preprocessin to the headlines column in the new dataset\n",
    "df_new_copy_hl['Headlines']=df_new_copy_hl['Headlines'].apply(preprocessing)"
   ]
  },
  {
   "cell_type": "code",
   "execution_count": 82,
   "metadata": {
    "colab": {
     "base_uri": "https://localhost:8080/",
     "height": 414
    },
    "id": "EBdenfoGAgOL",
    "outputId": "b1730b84-9c09-4f26-fe59-171c490b958c"
   },
   "outputs": [
    {
     "data": {
      "text/html": [
       "<div>\n",
       "<style scoped>\n",
       "    .dataframe tbody tr th:only-of-type {\n",
       "        vertical-align: middle;\n",
       "    }\n",
       "\n",
       "    .dataframe tbody tr th {\n",
       "        vertical-align: top;\n",
       "    }\n",
       "\n",
       "    .dataframe thead th {\n",
       "        text-align: right;\n",
       "    }\n",
       "</style>\n",
       "<table border=\"1\" class=\"dataframe\">\n",
       "  <thead>\n",
       "    <tr style=\"text-align: right;\">\n",
       "      <th></th>\n",
       "      <th>Time</th>\n",
       "      <th>Headlines</th>\n",
       "      <th>hl_score</th>\n",
       "    </tr>\n",
       "  </thead>\n",
       "  <tbody>\n",
       "    <tr>\n",
       "      <th>0</th>\n",
       "      <td>18-Jul-20</td>\n",
       "      <td>johnson ask santa christma recoveri</td>\n",
       "      <td>0.0000</td>\n",
       "    </tr>\n",
       "    <tr>\n",
       "      <th>1</th>\n",
       "      <td>18-Jul-20</td>\n",
       "      <td>‘ fear worst ’ four grim tale work life upend ...</td>\n",
       "      <td>-0.9001</td>\n",
       "    </tr>\n",
       "    <tr>\n",
       "      <th>2</th>\n",
       "      <td>18-Jul-20</td>\n",
       "      <td>five key area sunak must tackl serv econom rec...</td>\n",
       "      <td>0.0000</td>\n",
       "    </tr>\n",
       "    <tr>\n",
       "      <th>3</th>\n",
       "      <td>18-Jul-20</td>\n",
       "      <td>covid19 leav firm ‘ fatal illprepar ’ nodeal b...</td>\n",
       "      <td>-0.5423</td>\n",
       "    </tr>\n",
       "    <tr>\n",
       "      <th>4</th>\n",
       "      <td>18-Jul-20</td>\n",
       "      <td>week patriarchi bacardi ladi vodka latest long...</td>\n",
       "      <td>-0.4939</td>\n",
       "    </tr>\n",
       "    <tr>\n",
       "      <th>...</th>\n",
       "      <td>...</td>\n",
       "      <td>...</td>\n",
       "      <td>...</td>\n",
       "    </tr>\n",
       "    <tr>\n",
       "      <th>32765</th>\n",
       "      <td>Mar 20 2018</td>\n",
       "      <td>malaysia say never hire british data firm cent...</td>\n",
       "      <td>0.0000</td>\n",
       "    </tr>\n",
       "    <tr>\n",
       "      <th>32766</th>\n",
       "      <td>Mar 20 2018</td>\n",
       "      <td>prosecutor search volkswagen headquart new emi...</td>\n",
       "      <td>0.0000</td>\n",
       "    </tr>\n",
       "    <tr>\n",
       "      <th>32767</th>\n",
       "      <td>Mar 20 2018</td>\n",
       "      <td>mcdonald set greenhous ga reduct target</td>\n",
       "      <td>0.0000</td>\n",
       "    </tr>\n",
       "    <tr>\n",
       "      <th>32768</th>\n",
       "      <td>Mar 20 2018</td>\n",
       "      <td>pratt whitney deliv spare a320neo engin soon i...</td>\n",
       "      <td>0.0000</td>\n",
       "    </tr>\n",
       "    <tr>\n",
       "      <th>32769</th>\n",
       "      <td>Mar 20 2018</td>\n",
       "      <td>uk alway consid way improv data law pm may spo...</td>\n",
       "      <td>0.0000</td>\n",
       "    </tr>\n",
       "  </tbody>\n",
       "</table>\n",
       "<p>53315 rows × 3 columns</p>\n",
       "</div>"
      ],
      "text/plain": [
       "              Time                                          Headlines  \\\n",
       "0        18-Jul-20                johnson ask santa christma recoveri   \n",
       "1        18-Jul-20  ‘ fear worst ’ four grim tale work life upend ...   \n",
       "2        18-Jul-20  five key area sunak must tackl serv econom rec...   \n",
       "3        18-Jul-20  covid19 leav firm ‘ fatal illprepar ’ nodeal b...   \n",
       "4        18-Jul-20  week patriarchi bacardi ladi vodka latest long...   \n",
       "...            ...                                                ...   \n",
       "32765  Mar 20 2018  malaysia say never hire british data firm cent...   \n",
       "32766  Mar 20 2018  prosecutor search volkswagen headquart new emi...   \n",
       "32767  Mar 20 2018            mcdonald set greenhous ga reduct target   \n",
       "32768  Mar 20 2018  pratt whitney deliv spare a320neo engin soon i...   \n",
       "32769  Mar 20 2018  uk alway consid way improv data law pm may spo...   \n",
       "\n",
       "       hl_score  \n",
       "0        0.0000  \n",
       "1       -0.9001  \n",
       "2        0.0000  \n",
       "3       -0.5423  \n",
       "4       -0.4939  \n",
       "...         ...  \n",
       "32765    0.0000  \n",
       "32766    0.0000  \n",
       "32767    0.0000  \n",
       "32768    0.0000  \n",
       "32769    0.0000  \n",
       "\n",
       "[53315 rows x 3 columns]"
      ]
     },
     "execution_count": 82,
     "metadata": {},
     "output_type": "execute_result"
    }
   ],
   "source": [
    "# analyze polarity score of values in headlines and  add new column of it in dataset\n",
    "df_new_copy_hl['hl_score']=df_new_copy_hl.Headlines.apply(sentiment_polarity)\n",
    "df_new_copy_hl"
   ]
  },
  {
   "cell_type": "code",
   "execution_count": 83,
   "metadata": {
    "colab": {
     "base_uri": "https://localhost:8080/",
     "height": 414
    },
    "id": "OexQKGBxAgKb",
    "outputId": "63a014a7-f17c-43ed-ceee-45f68546f2c2"
   },
   "outputs": [],
   "source": [
    "# apply the function  which decides sentiment to  polarity score column\n",
    "df_new_copy_hl['hl_score']=df_new_copy_hl.hl_score.apply(catogarizer)"
   ]
  },
  {
   "cell_type": "code",
   "execution_count": 84,
   "metadata": {},
   "outputs": [
    {
     "data": {
      "text/html": [
       "<div>\n",
       "<style scoped>\n",
       "    .dataframe tbody tr th:only-of-type {\n",
       "        vertical-align: middle;\n",
       "    }\n",
       "\n",
       "    .dataframe tbody tr th {\n",
       "        vertical-align: top;\n",
       "    }\n",
       "\n",
       "    .dataframe thead th {\n",
       "        text-align: right;\n",
       "    }\n",
       "</style>\n",
       "<table border=\"1\" class=\"dataframe\">\n",
       "  <thead>\n",
       "    <tr style=\"text-align: right;\">\n",
       "      <th></th>\n",
       "      <th>Time</th>\n",
       "      <th>Headlines</th>\n",
       "      <th>hl_score</th>\n",
       "    </tr>\n",
       "  </thead>\n",
       "  <tbody>\n",
       "    <tr>\n",
       "      <th>0</th>\n",
       "      <td>18-Jul-20</td>\n",
       "      <td>johnson ask santa christma recoveri</td>\n",
       "      <td>Neutral</td>\n",
       "    </tr>\n",
       "    <tr>\n",
       "      <th>1</th>\n",
       "      <td>18-Jul-20</td>\n",
       "      <td>‘ fear worst ’ four grim tale work life upend ...</td>\n",
       "      <td>Negative</td>\n",
       "    </tr>\n",
       "    <tr>\n",
       "      <th>2</th>\n",
       "      <td>18-Jul-20</td>\n",
       "      <td>five key area sunak must tackl serv econom rec...</td>\n",
       "      <td>Neutral</td>\n",
       "    </tr>\n",
       "    <tr>\n",
       "      <th>3</th>\n",
       "      <td>18-Jul-20</td>\n",
       "      <td>covid19 leav firm ‘ fatal illprepar ’ nodeal b...</td>\n",
       "      <td>Negative</td>\n",
       "    </tr>\n",
       "    <tr>\n",
       "      <th>4</th>\n",
       "      <td>18-Jul-20</td>\n",
       "      <td>week patriarchi bacardi ladi vodka latest long...</td>\n",
       "      <td>Negative</td>\n",
       "    </tr>\n",
       "  </tbody>\n",
       "</table>\n",
       "</div>"
      ],
      "text/plain": [
       "        Time                                          Headlines  hl_score\n",
       "0  18-Jul-20                johnson ask santa christma recoveri   Neutral\n",
       "1  18-Jul-20  ‘ fear worst ’ four grim tale work life upend ...  Negative\n",
       "2  18-Jul-20  five key area sunak must tackl serv econom rec...   Neutral\n",
       "3  18-Jul-20  covid19 leav firm ‘ fatal illprepar ’ nodeal b...  Negative\n",
       "4  18-Jul-20  week patriarchi bacardi ladi vodka latest long...  Negative"
      ]
     },
     "execution_count": 84,
     "metadata": {},
     "output_type": "execute_result"
    }
   ],
   "source": [
    "df_new_copy_hl.head()"
   ]
  },
  {
   "cell_type": "code",
   "execution_count": 172,
   "metadata": {
    "colab": {
     "base_uri": "https://localhost:8080/",
     "height": 300
    },
    "id": "NiIoQpS1AgIg",
    "outputId": "63d38ec2-8500-425a-f99b-3d6c60c88e08"
   },
   "outputs": [
    {
     "data": {
      "image/png": "[encoded data removed]",
      "text/plain": [
       "<Figure size 1152x576 with 2 Axes>"
      ]
     },
     "metadata": {
      "needs_background": "light"
     },
     "output_type": "display_data"
    }
   ],
   "source": [
    "#perform countplot on headline score column\n",
    "\n",
    "plt.figure(figsize=(16,8))\n",
    "plt.subplot(1,2,1)\n",
    "plt.grid()\n",
    "sns.countplot(data=df_new_copy_hl,x='hl_score')\n",
    "plt.xlabel('<---Sentiment--->')\n",
    "\n",
    "\n",
    "plt.subplot(1,2,2)\n",
    "plt.title('News Sentiment Distribution via Headlines')\n",
    "plt.pie(df_new_copy_hl.groupby('hl_score').count()['Headlines'],labels=df_new_copy_hl.groupby('hl_score').count()['Headlines'].keys(),\n",
    "       autopct='%.1f',explode=[0,0,0.1],startangle=90)\n",
    "plt.show()"
   ]
  },
  {
   "cell_type": "markdown",
   "metadata": {
    "id": "LDnyTYgCzzOs"
   },
   "source": [
    "In the headlines\n",
    "there are approx:\n",
    "\n",
    "14000 positive statment<br>\n",
    "16000 negative statment<br>\n",
    "24000 neutral statment<br>\n",
    "\n",
    "24.8% positive statments<br>\n",
    "30.2% negtive statements<br>\n",
    "45.0% neutral statments"
   ]
  },
  {
   "cell_type": "markdown",
   "metadata": {
    "id": "xldbLpNQgfG-"
   },
   "source": [
    "# Modeling on headlines"
   ]
  },
  {
   "cell_type": "code",
   "execution_count": 87,
   "metadata": {
    "id": "U-sjg3NEzTRd"
   },
   "outputs": [],
   "source": [
    "# split the dataset  into test and train \n",
    "# 90% train , 10% test and random state 212\n",
    "X=df_new_copy_hl['Headlines']\n",
    "Y=df_new_copy_hl.hl_score\n",
    "X_train,X_test,Y_train,Y_test=train_test_split(X,Y,test_size=0.1,random_state=212)"
   ]
  },
  {
   "cell_type": "markdown",
   "metadata": {
    "id": "hVuDdLFJkFSb"
   },
   "source": [
    "LINEAR SUPPORT VECTOR MACHINE\n"
   ]
  },
  {
   "cell_type": "code",
   "execution_count": 88,
   "metadata": {},
   "outputs": [],
   "source": [
    "from sklearn.pipeline import Pipeline\n",
    "from sklearn.feature_extraction.text import TfidfVectorizer\n",
    "from sklearn.svm import LinearSVC\n",
    "from sklearn.metrics import accuracy_score,confusion_matrix,classification_report"
   ]
  },
  {
   "cell_type": "code",
   "execution_count": 89,
   "metadata": {
    "colab": {
     "base_uri": "https://localhost:8080/"
    },
    "id": "exk6nRwomgAt",
    "outputId": "5de5fd8f-a60c-4317-9c81-2baf81621a40"
   },
   "outputs": [
    {
     "name": "stdout",
     "output_type": "stream",
     "text": [
      "Accuracy Score: 0.9713053263315828\n",
      "[[1513   30   48]\n",
      " [   6 2340    9]\n",
      " [  39   21 1326]]\n",
      "              precision    recall  f1-score   support\n",
      "\n",
      "    Negative       0.97      0.95      0.96      1591\n",
      "     Neutral       0.98      0.99      0.99      2355\n",
      "    Positive       0.96      0.96      0.96      1386\n",
      "\n",
      "    accuracy                           0.97      5332\n",
      "   macro avg       0.97      0.97      0.97      5332\n",
      "weighted avg       0.97      0.97      0.97      5332\n",
      "\n",
      "CPU times: total: 1.22 s\n",
      "Wall time: 1.22 s\n"
     ]
    }
   ],
   "source": [
    "%%time\n",
    "# pipeline creation\n",
    "# 1. tfidVectorization\n",
    "# 2. linearSVC model\n",
    "\n",
    "pipe_svc3=Pipeline([\n",
    "    ('TfidfVectorizer',TfidfVectorizer()),\n",
    "    ('LinearSVC',LinearSVC())\n",
    "])\n",
    "\n",
    "\n",
    "# Fit the pipeline to the data\n",
    "\n",
    "pipe_svc3.fit(X_train,Y_train)\n",
    "\n",
    "# predict on test dataset\n",
    "y_pred=pipe_svc3.predict(X_test)\n",
    "# print accuracy score\n",
    "print('Accuracy Score:',accuracy_score(Y_test,y_pred))\n",
    "#print confusion matrix\n",
    "print(confusion_matrix(Y_test,y_pred))\n",
    "#print classification report\n",
    "print(classification_report(Y_test,y_pred))"
   ]
  },
  {
   "cell_type": "markdown",
   "metadata": {
    "id": "6Qq4dK32kBpM"
   },
   "source": [
    "LOGISTIC REGRESSION\n"
   ]
  },
  {
   "cell_type": "code",
   "execution_count": 90,
   "metadata": {
    "colab": {
     "base_uri": "https://localhost:8080/"
    },
    "id": "0w0yNn2_mf_s",
    "outputId": "17175fb5-83c7-4204-f358-42007a8f2168"
   },
   "outputs": [
    {
     "name": "stdout",
     "output_type": "stream",
     "text": [
      "Accuracy Score: 0.9328582145536384\n",
      "[[1413  119   59]\n",
      " [   7 2340    8]\n",
      " [  54  111 1221]]\n",
      "              precision    recall  f1-score   support\n",
      "\n",
      "    Negative       0.96      0.89      0.92      1591\n",
      "     Neutral       0.91      0.99      0.95      2355\n",
      "    Positive       0.95      0.88      0.91      1386\n",
      "\n",
      "    accuracy                           0.93      5332\n",
      "   macro avg       0.94      0.92      0.93      5332\n",
      "weighted avg       0.93      0.93      0.93      5332\n",
      "\n",
      "CPU times: total: 2 s\n",
      "Wall time: 2.07 s\n"
     ]
    }
   ],
   "source": [
    "%%time\n",
    "from sklearn.linear_model import LogisticRegression\n",
    "# pipeline creation \n",
    "# 1. CountVectorization\n",
    "# 2. TfidTransformer\n",
    "# 3. Logistic Regression\n",
    "\n",
    "pipe_logr3=Pipeline([\n",
    "    ('CountVectorizer',CountVectorizer()),\n",
    "    ('TfidTransformer',TfidfTransformer()),\n",
    "    ('LogisticRegression',LogisticRegression())\n",
    "])\n",
    "\n",
    "# Fit the pipeline to the data\n",
    "\n",
    "pipe_logr3.fit(X_train,Y_train)\n",
    "\n",
    "# predict on test dataset\n",
    "y_pred=pipe_logr3.predict(X_test)\n",
    "# print accuracy score\n",
    "print('Accuracy Score:',accuracy_score(Y_test,y_pred))\n",
    "#print confusion matrix\n",
    "print(confusion_matrix(Y_test,y_pred))\n",
    "#print classification report\n",
    "print(classification_report(Y_test,y_pred))"
   ]
  },
  {
   "cell_type": "markdown",
   "metadata": {
    "id": "XbFrK_pXj-HC"
   },
   "source": [
    "MULTINOMIAL NAIVE BAYES\n"
   ]
  },
  {
   "cell_type": "code",
   "execution_count": 91,
   "metadata": {
    "colab": {
     "base_uri": "https://localhost:8080/"
    },
    "id": "ag3ceKiEmfxR",
    "outputId": "2d14e551-23eb-4ced-d133-e5fd561f7c72"
   },
   "outputs": [
    {
     "name": "stdout",
     "output_type": "stream",
     "text": [
      "Accuracy Score: 0.8394598649662416\n",
      "[[1335  196   60]\n",
      " [  54 2273   28]\n",
      " [ 200  318  868]]\n",
      "              precision    recall  f1-score   support\n",
      "\n",
      "    Negative       0.84      0.84      0.84      1591\n",
      "     Neutral       0.82      0.97      0.88      2355\n",
      "    Positive       0.91      0.63      0.74      1386\n",
      "\n",
      "    accuracy                           0.84      5332\n",
      "   macro avg       0.85      0.81      0.82      5332\n",
      "weighted avg       0.85      0.84      0.83      5332\n",
      "\n",
      "CPU times: total: 562 ms\n",
      "Wall time: 564 ms\n"
     ]
    }
   ],
   "source": [
    "%%time\n",
    "from sklearn.feature_extraction.text import CountVectorizer\n",
    "from sklearn.feature_extraction.text import TfidfTransformer\n",
    "from sklearn.naive_bayes import MultinomialNB\n",
    "# pipeline creation \n",
    "# 1. CountVectorizer\n",
    "# 2. TfidTransformer\n",
    "# 3. MultinomialNB\n",
    "pipe_mnb3=Pipeline([\n",
    "    ('CountVectorizer',CountVectorizer()),\n",
    "    ('TfidTransformer',TfidfTransformer()),\n",
    "    ('MultinomialNB',MultinomialNB())\n",
    "])\n",
    "\n",
    "# Fit the pipeline to the data\n",
    "\n",
    "pipe_mnb3.fit(X_train,Y_train)\n",
    "\n",
    "# predict on test dataset\n",
    "y_pred=pipe_mnb3.predict(X_test)\n",
    "# print accuracy score\n",
    "print('Accuracy Score:',accuracy_score(Y_test,y_pred))\n",
    "#print confusion matrix\n",
    "print(confusion_matrix(Y_test,y_pred))\n",
    "#print classification report\n",
    "print(classification_report(Y_test,y_pred))"
   ]
  },
  {
   "cell_type": "markdown",
   "metadata": {
    "id": "-79YSosbj7HP"
   },
   "source": [
    "BERNOULLI NAIVE BAYES\n"
   ]
  },
  {
   "cell_type": "code",
   "execution_count": 92,
   "metadata": {
    "colab": {
     "base_uri": "https://localhost:8080/"
    },
    "id": "N-ftjtoEmfsP",
    "outputId": "fc46a6c1-da3e-46e4-a2f1-37e562cf708c"
   },
   "outputs": [
    {
     "name": "stdout",
     "output_type": "stream",
     "text": [
      "Accuracy Score: 0.88615903975994\n",
      "[[1416   62  113]\n",
      " [ 123 2160   72]\n",
      " [ 174   63 1149]]\n",
      "              precision    recall  f1-score   support\n",
      "\n",
      "    Negative       0.83      0.89      0.86      1591\n",
      "     Neutral       0.95      0.92      0.93      2355\n",
      "    Positive       0.86      0.83      0.84      1386\n",
      "\n",
      "    accuracy                           0.89      5332\n",
      "   macro avg       0.88      0.88      0.88      5332\n",
      "weighted avg       0.89      0.89      0.89      5332\n",
      "\n",
      "CPU times: total: 562 ms\n",
      "Wall time: 567 ms\n"
     ]
    }
   ],
   "source": [
    "%%time\n",
    "from sklearn.naive_bayes import BernoulliNB\n",
    "# pipeline creation \n",
    "# 1. CountVectorizer\n",
    "# 2. TfidTransformer\n",
    "# 3. BernoulliNB\n",
    "\n",
    "pipe_bnb3=Pipeline([\n",
    "    ('CountVectorizer',CountVectorizer()),\n",
    "    ('TfidTransformer',TfidfTransformer()),\n",
    "    ('BernoulliNB',BernoulliNB())\n",
    "])\n",
    "\n",
    "# Fit the pipeline to the data\n",
    "\n",
    "pipe_bnb3.fit(X_train,Y_train)\n",
    "\n",
    "# predict on test dataset\n",
    "y_pred=pipe_bnb3.predict(X_test)\n",
    "# print accuracy score\n",
    "print('Accuracy Score:',accuracy_score(Y_test,y_pred))\n",
    "#print confusion matrix\n",
    "print(confusion_matrix(Y_test,y_pred))\n",
    "#print classification report\n",
    "print(classification_report(Y_test,y_pred))"
   ]
  },
  {
   "cell_type": "markdown",
   "metadata": {
    "id": "DDcEnl9uj3yl"
   },
   "source": [
    "GRADIENT BOOSTING CLASSIFICATION MODEL\n"
   ]
  },
  {
   "cell_type": "code",
   "execution_count": 93,
   "metadata": {
    "colab": {
     "base_uri": "https://localhost:8080/"
    },
    "id": "vTT-HmujmfrR",
    "outputId": "8987cfa9-952f-4c27-cd42-452a26a479bb"
   },
   "outputs": [
    {
     "name": "stdout",
     "output_type": "stream",
     "text": [
      "Accuracy Score: 0.79576144036009\n",
      "[[ 988  522   81]\n",
      " [   3 2346    6]\n",
      " [  71  406  909]]\n",
      "              precision    recall  f1-score   support\n",
      "\n",
      "    Negative       0.93      0.62      0.74      1591\n",
      "     Neutral       0.72      1.00      0.83      2355\n",
      "    Positive       0.91      0.66      0.76      1386\n",
      "\n",
      "    accuracy                           0.80      5332\n",
      "   macro avg       0.85      0.76      0.78      5332\n",
      "weighted avg       0.83      0.80      0.79      5332\n",
      "\n",
      "CPU times: total: 34 s\n",
      "Wall time: 34 s\n"
     ]
    }
   ],
   "source": [
    "%%time\n",
    "from sklearn.ensemble import GradientBoostingClassifier\n",
    "# pipeline creation \n",
    "# 1. CountVectorizer\n",
    "# 2. TfidTransformer\n",
    "# 3. GradientBoostingClassifier\n",
    "\n",
    "pipe_gbc3=Pipeline([\n",
    "    ('CountVectorizer',CountVectorizer()),\n",
    "    ('TfidTransformer',TfidfTransformer()),\n",
    "    ('GradientBoostingClassifier',GradientBoostingClassifier())\n",
    "])\n",
    "\n",
    "# Fit the pipeline to the data\n",
    "\n",
    "pipe_gbc3.fit(X_train,Y_train)\n",
    "\n",
    "# predict on test dataset\n",
    "y_pred=pipe_gbc3.predict(X_test)\n",
    "# print accuracy score\n",
    "print('Accuracy Score:',accuracy_score(Y_test,y_pred))\n",
    "#print confusion matrix\n",
    "print(confusion_matrix(Y_test,y_pred))\n",
    "#print classification report\n",
    "print(classification_report(Y_test,y_pred))"
   ]
  },
  {
   "cell_type": "markdown",
   "metadata": {
    "id": "hwMk-HFAjzP-"
   },
   "source": [
    "XGBOOST CLASSIFICATION MODEL\n"
   ]
  },
  {
   "cell_type": "code",
   "execution_count": 94,
   "metadata": {},
   "outputs": [],
   "source": [
    "from sklearn.preprocessing import LabelEncoder"
   ]
  },
  {
   "cell_type": "code",
   "execution_count": 95,
   "metadata": {
    "colab": {
     "base_uri": "https://localhost:8080/"
    },
    "id": "1M8E7hmnmfn1",
    "outputId": "739370a5-ba74-4119-8f09-591adaed55f7",
    "scrolled": false
   },
   "outputs": [
    {
     "name": "stdout",
     "output_type": "stream",
     "text": [
      "Accuracy Score: 0.8981620405101275\n",
      "[[1292  237   62]\n",
      " [   3 2346    6]\n",
      " [  36  199 1151]]\n",
      "              precision    recall  f1-score   support\n",
      "\n",
      "           0       0.97      0.81      0.88      1591\n",
      "           1       0.84      1.00      0.91      2355\n",
      "           2       0.94      0.83      0.88      1386\n",
      "\n",
      "    accuracy                           0.90      5332\n",
      "   macro avg       0.92      0.88      0.89      5332\n",
      "weighted avg       0.91      0.90      0.90      5332\n",
      "\n",
      "CPU times: total: 57.4 s\n",
      "Wall time: 8.8 s\n"
     ]
    }
   ],
   "source": [
    "%%time\n",
    "from xgboost import XGBClassifier\n",
    "# pipeline creation \n",
    "# 1. CountVectorizer\n",
    "# 2. TfidTransformer\n",
    "# 3. XGBClassifier\n",
    "\n",
    "pipe_xg3=Pipeline([\n",
    "    ('CountVectorizer',CountVectorizer()),\n",
    "    ('TfidTransformer',TfidfTransformer()),\n",
    "    ('XGBClassifier',XGBClassifier())\n",
    "])\n",
    "\n",
    "encoder = LabelEncoder()\n",
    "enc_train = encoder.fit_transform(Y_train)\n",
    "enc_test = encoder.fit_transform(Y_test)\n",
    "# Fit the pipeline to the data\n",
    "\n",
    "pipe_xg3.fit(X_train,enc_train)\n",
    "\n",
    "# predict on test dataset\n",
    "y_pred=pipe_xg3.predict(X_test)\n",
    "# print accuracy score\n",
    "print('Accuracy Score:',accuracy_score(enc_test,y_pred))\n",
    "#print confusion matrix\n",
    "print(confusion_matrix(enc_test,y_pred))\n",
    "#print classification report\n",
    "print(classification_report(enc_test,y_pred))\n"
   ]
  },
  {
   "cell_type": "markdown",
   "metadata": {
    "id": "8RvWy4tSjwDV"
   },
   "source": [
    "DECISION TREE CLASSIFICATION MODEL\n"
   ]
  },
  {
   "cell_type": "code",
   "execution_count": 96,
   "metadata": {
    "colab": {
     "base_uri": "https://localhost:8080/"
    },
    "id": "63xamISqmfmd",
    "outputId": "f4c8b146-0b8b-49a0-bd3a-b40f67372709"
   },
   "outputs": [
    {
     "name": "stdout",
     "output_type": "stream",
     "text": [
      "Accuracy Score: 0.9504876219054764\n",
      "[[1456   18  117]\n",
      " [   7 2345    3]\n",
      " [ 106   13 1267]]\n",
      "              precision    recall  f1-score   support\n",
      "\n",
      "    Negative       0.93      0.92      0.92      1591\n",
      "     Neutral       0.99      1.00      0.99      2355\n",
      "    Positive       0.91      0.91      0.91      1386\n",
      "\n",
      "    accuracy                           0.95      5332\n",
      "   macro avg       0.94      0.94      0.94      5332\n",
      "weighted avg       0.95      0.95      0.95      5332\n",
      "\n",
      "CPU times: total: 14 s\n",
      "Wall time: 13.6 s\n"
     ]
    }
   ],
   "source": [
    "%%time\n",
    "from sklearn.tree import DecisionTreeClassifier\n",
    "# pipeline creation \n",
    "# 1. CountVectorizer\n",
    "# 2. TfidTransformer\n",
    "# 3. Decision tree classifier\n",
    "\n",
    "pipe_dt3=Pipeline([\n",
    "    ('CountVectorizer',CountVectorizer()),\n",
    "    ('TfidTransformer',TfidfTransformer()),\n",
    "    ('DTC',DecisionTreeClassifier())\n",
    "])\n",
    "\n",
    "\n",
    "\n",
    "# Fit the pipeline to the data\n",
    "\n",
    "pipe_dt3.fit(X_train,Y_train)\n",
    "\n",
    "# predict on test dataset\n",
    "y_pred=pipe_dt3.predict(X_test)\n",
    "# print accuracy score\n",
    "print('Accuracy Score:',accuracy_score(Y_test,y_pred))\n",
    "#print confusion matrix\n",
    "print(confusion_matrix(Y_test,y_pred))\n",
    "#print classification report\n",
    "print(classification_report(Y_test,y_pred))"
   ]
  },
  {
   "cell_type": "markdown",
   "metadata": {
    "id": "LenIHULAjsrv"
   },
   "source": [
    "K- NEAREST NEIGHBOUR CLASSIFIER MODEL\n"
   ]
  },
  {
   "cell_type": "code",
   "execution_count": 97,
   "metadata": {
    "colab": {
     "base_uri": "https://localhost:8080/"
    },
    "id": "UtU2_7-MzQ6N",
    "outputId": "ed7a03b4-1efd-432f-e1d2-aa0e4f2375e8",
    "scrolled": true
   },
   "outputs": [
    {
     "name": "stdout",
     "output_type": "stream",
     "text": [
      "Accuracy Score: 0.605026256564141\n",
      "[[ 978  526   87]\n",
      " [ 487 1714  154]\n",
      " [ 288  564  534]]\n",
      "              precision    recall  f1-score   support\n",
      "\n",
      "    Negative       0.56      0.61      0.58      1591\n",
      "     Neutral       0.61      0.73      0.66      2355\n",
      "    Positive       0.69      0.39      0.49      1386\n",
      "\n",
      "    accuracy                           0.61      5332\n",
      "   macro avg       0.62      0.58      0.58      5332\n",
      "weighted avg       0.62      0.61      0.60      5332\n",
      "\n",
      "CPU times: total: 4.38 s\n",
      "Wall time: 4.38 s\n"
     ]
    }
   ],
   "source": [
    "%%time\n",
    "from sklearn.neighbors import KNeighborsClassifier\n",
    "# pipeline creation \n",
    "# 1. CountVectorizer\n",
    "# 2. TfidTransformer\n",
    "# 3. KNN classifier\n",
    "\n",
    "pipe_knn3=Pipeline([\n",
    "    ('CountVectorizer',CountVectorizer()),\n",
    "    ('TfidTransformer',TfidfTransformer()),\n",
    "    ('DTC',KNeighborsClassifier())\n",
    "])\n",
    "\n",
    "\n",
    "\n",
    "# Fit the pipeline to the data\n",
    "\n",
    "pipe_knn3.fit(X_train,Y_train)\n",
    "\n",
    "\n",
    "# predict on test dataset\n",
    "y_pred=pipe_knn3.predict(X_test)\n",
    "# print accuracy score\n",
    "print('Accuracy Score:',accuracy_score(Y_test,y_pred))\n",
    "#print confusion matrix\n",
    "print(confusion_matrix(Y_test,y_pred))\n",
    "#print classification report\n",
    "print(classification_report(Y_test,y_pred))"
   ]
  },
  {
   "cell_type": "code",
   "execution_count": 98,
   "metadata": {},
   "outputs": [],
   "source": [
    "from sklearn.metrics import recall_score,precision_score,f1_score"
   ]
  },
  {
   "cell_type": "code",
   "execution_count": 99,
   "metadata": {
    "id": "MlOKo4d2wkm3"
   },
   "outputs": [],
   "source": [
    "# helper function for comparing models matric\n",
    "def score(model_obj,model_names,X_test,y_test):\n",
    "    metrics_df=pd.DataFrame(columns=['model_names','accuracy','precision','recall','f1_score'])\n",
    "    metrics_df.model_names=model_names\n",
    "    \n",
    "    metrics_df.accuracy=[accuracy_score(y_test,model.predict(X_test)) if model != pipe_xg3 else accuracy_score(enc_test,model.predict(X_test)) for model in model_obj]\n",
    "    \n",
    "    metrics_df.precision=[precision_score(y_test,model.predict(X_test),average='weighted') if model != pipe_xg3 else precision_score(enc_test,model.predict(X_test),average='weighted') for model in model_obj]\n",
    "    \n",
    "    metrics_df.recall=[recall_score(y_test,model.predict(X_test),average='weighted') if model != pipe_xg3 else recall_score(enc_test,model.predict(X_test),average='weighted') for model in model_obj]\n",
    "    \n",
    "    metrics_df.f1_score=[f1_score(y_test,model.predict(X_test),average='weighted') if model != pipe_xg3 else f1_score(enc_test,model.predict(X_test),average='weighted') for model in model_obj]\n",
    "\n",
    "   \n",
    "    return metrics_df\n",
    "    "
   ]
  },
  {
   "cell_type": "code",
   "execution_count": 100,
   "metadata": {
    "colab": {
     "base_uri": "https://localhost:8080/"
    },
    "id": "4A6ZI1hQwkhO",
    "outputId": "bd76815b-6c62-4ff0-c201-5ef627257d9e",
    "scrolled": true
   },
   "outputs": [
    {
     "data": {
      "text/html": [
       "<div>\n",
       "<style scoped>\n",
       "    .dataframe tbody tr th:only-of-type {\n",
       "        vertical-align: middle;\n",
       "    }\n",
       "\n",
       "    .dataframe tbody tr th {\n",
       "        vertical-align: top;\n",
       "    }\n",
       "\n",
       "    .dataframe thead th {\n",
       "        text-align: right;\n",
       "    }\n",
       "</style>\n",
       "<table border=\"1\" class=\"dataframe\">\n",
       "  <thead>\n",
       "    <tr style=\"text-align: right;\">\n",
       "      <th></th>\n",
       "      <th>model_names</th>\n",
       "      <th>accuracy</th>\n",
       "      <th>precision</th>\n",
       "      <th>recall</th>\n",
       "      <th>f1_score</th>\n",
       "    </tr>\n",
       "  </thead>\n",
       "  <tbody>\n",
       "    <tr>\n",
       "      <th>0</th>\n",
       "      <td>LinearSVC</td>\n",
       "      <td>0.971305</td>\n",
       "      <td>0.971247</td>\n",
       "      <td>0.971305</td>\n",
       "      <td>0.971220</td>\n",
       "    </tr>\n",
       "    <tr>\n",
       "      <th>1</th>\n",
       "      <td>LogRegression</td>\n",
       "      <td>0.932858</td>\n",
       "      <td>0.934603</td>\n",
       "      <td>0.932858</td>\n",
       "      <td>0.932208</td>\n",
       "    </tr>\n",
       "    <tr>\n",
       "      <th>2</th>\n",
       "      <td>MultinomialNB</td>\n",
       "      <td>0.839460</td>\n",
       "      <td>0.846919</td>\n",
       "      <td>0.839460</td>\n",
       "      <td>0.833692</td>\n",
       "    </tr>\n",
       "    <tr>\n",
       "      <th>3</th>\n",
       "      <td>BernoulliNB</td>\n",
       "      <td>0.886159</td>\n",
       "      <td>0.888055</td>\n",
       "      <td>0.886159</td>\n",
       "      <td>0.886584</td>\n",
       "    </tr>\n",
       "    <tr>\n",
       "      <th>4</th>\n",
       "      <td>GradientBoost</td>\n",
       "      <td>0.795761</td>\n",
       "      <td>0.831313</td>\n",
       "      <td>0.795761</td>\n",
       "      <td>0.788789</td>\n",
       "    </tr>\n",
       "    <tr>\n",
       "      <th>5</th>\n",
       "      <td>XGBoost</td>\n",
       "      <td>0.898162</td>\n",
       "      <td>0.907537</td>\n",
       "      <td>0.898162</td>\n",
       "      <td>0.896989</td>\n",
       "    </tr>\n",
       "    <tr>\n",
       "      <th>6</th>\n",
       "      <td>Decision Tree</td>\n",
       "      <td>0.950488</td>\n",
       "      <td>0.950258</td>\n",
       "      <td>0.950488</td>\n",
       "      <td>0.950351</td>\n",
       "    </tr>\n",
       "    <tr>\n",
       "      <th>7</th>\n",
       "      <td>KNN</td>\n",
       "      <td>0.605026</td>\n",
       "      <td>0.615559</td>\n",
       "      <td>0.605026</td>\n",
       "      <td>0.596480</td>\n",
       "    </tr>\n",
       "  </tbody>\n",
       "</table>\n",
       "</div>"
      ],
      "text/plain": [
       "     model_names  accuracy  precision    recall  f1_score\n",
       "0      LinearSVC  0.971305   0.971247  0.971305  0.971220\n",
       "1  LogRegression  0.932858   0.934603  0.932858  0.932208\n",
       "2  MultinomialNB  0.839460   0.846919  0.839460  0.833692\n",
       "3    BernoulliNB  0.886159   0.888055  0.886159  0.886584\n",
       "4  GradientBoost  0.795761   0.831313  0.795761  0.788789\n",
       "5        XGBoost  0.898162   0.907537  0.898162  0.896989\n",
       "6  Decision Tree  0.950488   0.950258  0.950488  0.950351\n",
       "7            KNN  0.605026   0.615559  0.605026  0.596480"
      ]
     },
     "execution_count": 100,
     "metadata": {},
     "output_type": "execute_result"
    }
   ],
   "source": [
    "# list of model objects\n",
    "\n",
    "model_objects = [pipe_svc3,pipe_logr3,pipe_mnb3,pipe_bnb3,pipe_gbc3,pipe_xg3,pipe_dt3,pipe_knn3]\n",
    "# list of model name\n",
    "names=['LinearSVC', 'LogRegression','MultinomialNB','BernoulliNB','GradientBoost','XGBoost','Decision Tree','KNN']\n",
    "# print the comparison of models\n",
    "score(model_objects,names,X_test,Y_test)"
   ]
  },
  {
   "cell_type": "markdown",
   "metadata": {},
   "source": [
    "**LinearSVC** is performing the best"
   ]
  },
  {
   "cell_type": "markdown",
   "metadata": {
    "id": "gsQKs2r_lSaz"
   },
   "source": [
    "# now working with test data"
   ]
  },
  {
   "cell_type": "code",
   "execution_count": 101,
   "metadata": {
    "colab": {
     "base_uri": "https://localhost:8080/"
    },
    "id": "VSSPcY-VjFyc",
    "outputId": "5a164a05-ba61-41b0-dd45-c049948dc9be"
   },
   "outputs": [
    {
     "data": {
      "text/plain": [
       "array(['Positive', 'Positive', 'Negative', ..., 'Positive', 'Neutral',\n",
       "       'Neutral'], dtype=object)"
      ]
     },
     "execution_count": 101,
     "metadata": {},
     "output_type": "execute_result"
    }
   ],
   "source": [
    "# Perforn the prediction on the test dataset\n",
    "pred_hl=pipe_svc3.predict(X_test)\n",
    "pred_hl"
   ]
  },
  {
   "cell_type": "code",
   "execution_count": 102,
   "metadata": {
    "id": "HZH2_2KZjFwO"
   },
   "outputs": [],
   "source": [
    "# creating a dataframe of predicted results \n",
    "pred_svc1=pd.DataFrame({'Predicted':pred_hl,'True':Y_test})"
   ]
  },
  {
   "cell_type": "code",
   "execution_count": 103,
   "metadata": {
    "colab": {
     "base_uri": "https://localhost:8080/",
     "height": 202
    },
    "id": "kw5ac2WWjFta",
    "outputId": "38dd551d-78a3-4b96-9324-aaa6776ef4a2"
   },
   "outputs": [
    {
     "data": {
      "text/html": [
       "<div>\n",
       "<style scoped>\n",
       "    .dataframe tbody tr th:only-of-type {\n",
       "        vertical-align: middle;\n",
       "    }\n",
       "\n",
       "    .dataframe tbody tr th {\n",
       "        vertical-align: top;\n",
       "    }\n",
       "\n",
       "    .dataframe thead th {\n",
       "        text-align: right;\n",
       "    }\n",
       "</style>\n",
       "<table border=\"1\" class=\"dataframe\">\n",
       "  <thead>\n",
       "    <tr style=\"text-align: right;\">\n",
       "      <th></th>\n",
       "      <th>Predicted</th>\n",
       "      <th>True</th>\n",
       "    </tr>\n",
       "  </thead>\n",
       "  <tbody>\n",
       "    <tr>\n",
       "      <th>14212</th>\n",
       "      <td>Positive</td>\n",
       "      <td>Positive</td>\n",
       "    </tr>\n",
       "    <tr>\n",
       "      <th>9647</th>\n",
       "      <td>Positive</td>\n",
       "      <td>Positive</td>\n",
       "    </tr>\n",
       "    <tr>\n",
       "      <th>10879</th>\n",
       "      <td>Negative</td>\n",
       "      <td>Negative</td>\n",
       "    </tr>\n",
       "    <tr>\n",
       "      <th>22772</th>\n",
       "      <td>Neutral</td>\n",
       "      <td>Neutral</td>\n",
       "    </tr>\n",
       "    <tr>\n",
       "      <th>15357</th>\n",
       "      <td>Negative</td>\n",
       "      <td>Negative</td>\n",
       "    </tr>\n",
       "  </tbody>\n",
       "</table>\n",
       "</div>"
      ],
      "text/plain": [
       "      Predicted      True\n",
       "14212  Positive  Positive\n",
       "9647   Positive  Positive\n",
       "10879  Negative  Negative\n",
       "22772   Neutral   Neutral\n",
       "15357  Negative  Negative"
      ]
     },
     "execution_count": 103,
     "metadata": {},
     "output_type": "execute_result"
    }
   ],
   "source": [
    "pred_svc1.head()"
   ]
  },
  {
   "cell_type": "code",
   "execution_count": 149,
   "metadata": {},
   "outputs": [
    {
     "data": {
      "text/plain": [
       "array([1558, 2391, 1383], dtype=int64)"
      ]
     },
     "execution_count": 149,
     "metadata": {},
     "output_type": "execute_result"
    }
   ],
   "source": [
    "pred_svc1.groupby('Predicted').count().values.ravel()"
   ]
  },
  {
   "cell_type": "code",
   "execution_count": 162,
   "metadata": {},
   "outputs": [
    {
     "data": {
      "image/png": "[encoded data removed]",
      "text/plain": [
       "<Figure size 1152x576 with 2 Axes>"
      ]
     },
     "metadata": {},
     "output_type": "display_data"
    }
   ],
   "source": [
    "\n",
    "\n",
    "plt.figure(figsize=(16,8))\n",
    "\n",
    "plt.subplot(1,2,1)\n",
    "plt.title('Predicted Distribution of Test Set')\n",
    "plt.pie(pred_svc1.groupby('Predicted').count().values.ravel(),labels=pred_svc1.groupby('Predicted').count().index,autopct='%.2f')\n",
    "\n",
    "plt.subplot(1,2,2)\n",
    "plt.title('True Distribution Test Set')\n",
    "plt.pie(pred_svc1.groupby('True').count().values.ravel(),labels=pred_svc1.groupby('True').count().index,autopct='%.2f')\n",
    "\n",
    "plt.show()"
   ]
  },
  {
   "cell_type": "markdown",
   "metadata": {
    "id": "6ffMQY_00ufo"
   },
   "source": [
    "# Prediction"
   ]
  },
  {
   "cell_type": "markdown",
   "metadata": {
    "id": "BrQATukn0x2u"
   },
   "source": [
    "you can check the result on real time news headlines\n",
    "\n",
    "Here i have used two fiancial news headlines\n",
    "\n",
    "and predicted its sentiment\n",
    "\n",
    "You can try more "
   ]
  },
  {
   "cell_type": "code",
   "execution_count": 104,
   "metadata": {
    "colab": {
     "base_uri": "https://localhost:8080/"
    },
    "id": "uRUtaAhZ0wwU",
    "outputId": "946e8f9c-6fdc-4d7f-b2a4-72ed559a470c"
   },
   "outputs": [
    {
     "data": {
      "text/plain": [
       "array(['Negative'], dtype=object)"
      ]
     },
     "execution_count": 104,
     "metadata": {},
     "output_type": "execute_result"
    }
   ],
   "source": [
    "sent1 = ['September Is Usually a Bad Month For Stocks. This One Could Be Ugly.']\n",
    "y_predict = pipe_svc.predict(sent1)\n",
    "y_predict"
   ]
  },
  {
   "cell_type": "code",
   "execution_count": 105,
   "metadata": {
    "colab": {
     "base_uri": "https://localhost:8080/"
    },
    "id": "_YJqDGt71DGn",
    "outputId": "8265f9b2-4c84-4ada-876e-4b2f3eb1989a"
   },
   "outputs": [
    {
     "data": {
      "text/plain": [
       "array(['Positive'], dtype=object)"
      ]
     },
     "execution_count": 105,
     "metadata": {},
     "output_type": "execute_result"
    }
   ],
   "source": [
    "sent2 = [\"India's GDP growth projected to spike to four-quarter high of 13.0% in Q1\"]\n",
    "y_predict = pipe_svc.predict(sent2)\n",
    "y_predict"
   ]
  },
  {
   "cell_type": "code",
   "execution_count": 137,
   "metadata": {},
   "outputs": [
    {
     "data": {
      "text/plain": [
       "array(['Negative'], dtype=object)"
      ]
     },
     "execution_count": 137,
     "metadata": {},
     "output_type": "execute_result"
    }
   ],
   "source": [
    "sent3 = \"Food banks warn surge in demand will prevent feeding hungriest this winter\"\n",
    "sent3=preprocessing(sent3)\n",
    "sent3=[sent3]\n",
    "y_predict = pipe_svc2.predict(sent3)\n",
    "y_predict"
   ]
  },
  {
   "cell_type": "markdown",
   "metadata": {
    "id": "No7lHSthFvmj"
   },
   "source": [
    "# Conclusion"
   ]
  },
  {
   "cell_type": "markdown",
   "metadata": {},
   "source": [
    "According to above tests **LinearSVC** is performing best"
   ]
  }
 ],
 "metadata": {
  "colab": {
   "collapsed_sections": [],
   "name": "financial_news_without_code.ipynb",
   "provenance": []
  },
  "kernelspec": {
   "display_name": "Python 3 (ipykernel)",
   "language": "python",
   "name": "python3"
  },
  "language_info": {
   "codemirror_mode": {
    "name": "ipython",
    "version": 3
   },
   "file_extension": ".py",
   "mimetype": "text/x-python",
   "name": "python",
   "nbconvert_exporter": "python",
   "pygments_lexer": "ipython3",
   "version": "3.10.4"
  }
 },
 "nbformat": 4,
 "nbformat_minor": 1
}
